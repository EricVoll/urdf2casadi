{
 "cells": [
  {
   "cell_type": "code",
   "execution_count": 1,
   "metadata": {},
   "outputs": [],
   "source": [
    "import urdf2casadi.urdfparser as u2c\n",
    "import numpy as np"
   ]
  },
  {
   "cell_type": "markdown",
   "metadata": {},
   "source": [
    "## 1. Load robot from urdf \n",
    "\n",
    "1. Create urdfparser-class instance. \n",
    "2. Load model to instance, either from file, string or ros parameter server. Examples uses from file. "
   ]
  },
  {
   "cell_type": "code",
   "execution_count": 2,
   "metadata": {},
   "outputs": [
    {
     "name": "stdout",
     "output_type": "stream",
     "text": [
      "/home/lmjohann/urdf2casadi/examples/urdf/ur5.urdf\n"
     ]
    }
   ],
   "source": [
    "ur5 = u2c.URDFparser()\n",
    "ur5.from_file(\"/home/lmjohann/urdf2casadi/examples/urdf/ur5.urdf\")"
   ]
  },
  {
   "cell_type": "markdown",
   "metadata": {},
   "source": [
    "## 2. Get joint information ? \n",
    "Information about the joints of the robot model can be obtained using u2c's get_joint_info(). \"root\" and \"tip\" are the inputs, and represent the link names for the root and tip of the kinematic tree one wishes to evaluate. "
   ]
  },
  {
   "cell_type": "code",
   "execution_count": 3,
   "metadata": {},
   "outputs": [
    {
     "name": "stdout",
     "output_type": "stream",
     "text": [
      "name of first joint: shoulder_pan_joint \n",
      "\n",
      "joint information for first joint:\n",
      "axis:\n",
      "- 0.0\n",
      "- 0.0\n",
      "- 1.0\n",
      "calibration: None\n",
      "child: shoulder_link\n",
      "dynamics:\n",
      "  damping: 0.0\n",
      "  friction: 0.0\n",
      "limit:\n",
      "  effort: 150.0\n",
      "  lower: -6.28318530718\n",
      "  upper: 6.28318530718\n",
      "  velocity: 3.15\n",
      "mimic: None\n",
      "name: shoulder_pan_joint\n",
      "origin:\n",
      "  rpy:\n",
      "  - 0.0\n",
      "  - 0.0\n",
      "  - 0.0\n",
      "  xyz:\n",
      "  - 0.0\n",
      "  - 0.0\n",
      "  - 0.089159\n",
      "parent: base_link\n",
      "safety_controller: None\n",
      "type: revolute\n",
      "\n",
      " q max: [6.28318530718, 6.28318530718, 3.14159265359, 6.28318530718, 6.28318530718, 6.28318530718]\n",
      "\n",
      " q min: [-6.28318530718, -6.28318530718, -3.14159265359, -6.28318530718, -6.28318530718, -6.28318530718]\n"
     ]
    }
   ],
   "source": [
    "root = \"base_link\"\n",
    "tip = \"wrist_3_link\"\n",
    "\n",
    "joint_list, joint_names, q_max, q_min = ur5.get_joint_info(root, tip)\n",
    "n_joints = len(joint_list)\n",
    "print \"name of first joint:\", joint_names[0], \"\\n\"\n",
    "print \"joint information for first joint:\\n\", joint_list[0]\n",
    "print \"\\n q max:\", q_max\n",
    "print \"\\n q min:\", q_min"
   ]
  },
  {
   "cell_type": "markdown",
   "metadata": {},
   "source": [
    "# 3. Obtain robot dynamics! \n",
    "After loading the robot model to the urdfparser-instance, the robot dynamics can be obtained from any given root and tip of the robot. \n",
    "\n",
    "## Dynamic parameters:\n",
    "To obtain the dynamic parameters (M, C, G) of the equation of motion tau = M(q)q_ddot + C(q, q_dot)q_dot + G(q):"
   ]
  },
  {
   "cell_type": "code",
   "execution_count": 4,
   "metadata": {},
   "outputs": [],
   "source": [
    "M_sym = ur5.get_inertia_matrix_crba(root, tip)\n",
    "C_sym = ur5.get_coriolis_rnea(root, tip)\n",
    "\n",
    "gravity = [0, 0, -9.81]\n",
    "G_sym = ur5.get_gravity_rnea(root, tip, gravity)"
   ]
  },
  {
   "cell_type": "markdown",
   "metadata": {},
   "source": [
    "M_sym, C_sym, G_sym are CasADi symbolic expressions of the ur5's dynamic parameters from given root to tip. The CasADi expressions are C compiled so they can be numerically evaluated efficiently. Example of numerical evaluation is shown below. "
   ]
  },
  {
   "cell_type": "code",
   "execution_count": 5,
   "metadata": {},
   "outputs": [
    {
     "name": "stdout",
     "output_type": "stream",
     "text": [
      "Numerical Inertia Matrx for random input: \n",
      "\n",
      "[[0.544933, -0.0181893, 0.0871863, -0.132914, 0.199076, -0.00563352], \n",
      " [-0.0181893, 0.299405, 0.143395, -0.0033509, 0.0147113, 0.0148556], \n",
      " [0.0871863, 0.143395, 0.84282, -0.247647, -0.00721473, -0.00846477], \n",
      " [-0.132914, -0.0033509, -0.247647, 0.248127, 0.00721473, 0.00846477], \n",
      " [0.199076, 0.0147113, -0.00721473, 0.00721473, 0.244034, 0], \n",
      " [-0.00563352, 0.0148556, -0.00846477, 0.00846477, 0, 0.0171365]]\n",
      "\n",
      "Numerical Coriolis term for random input: \n",
      "[8.92962, 5.21485, 3.5309, -3.02294, 4.90214, -0.17699]\n",
      "\n",
      "Numerical gravity term for random input: \n",
      "[1.03672e-15, -3.5587, -13.0609, -0.0112017, 0, 0]\n"
     ]
    }
   ],
   "source": [
    "q = [None]*n_joints\n",
    "q_dot = [None]*n_joints\n",
    "for i in range(n_joints):\n",
    "    #to make sure the inputs are within the robot's limits:\n",
    "    q[i] = (q_max[i] - q_min[i])*np.random.rand()-(q_max[i] - q_min[i])/2\n",
    "    q_dot[i] = (q_max[i] - q_min[i])*np.random.rand()-(q_max[i] - q_min[i])/2\n",
    "    \n",
    "M_num = M_sym(q)\n",
    "C_num = C_sym(q, q_dot)\n",
    "G_num = G_sym(q)\n",
    "print \"Numerical Inertia Matrx for random input: \\n\", M_num \n",
    "print \"\\nNumerical Coriolis term for random input: \\n\", C_num \n",
    "print \"\\nNumerical gravity term for random input: \\n\", G_num"
   ]
  },
  {
   "cell_type": "markdown",
   "metadata": {},
   "source": [
    "## Inverse Dynamics \n",
    "\n",
    "Without accounting for gravitational forces:"
   ]
  },
  {
   "cell_type": "code",
   "execution_count": 6,
   "metadata": {},
   "outputs": [],
   "source": [
    "tau_sym = ur5.get_inverse_dynamics_rnea(root, tip)"
   ]
  },
  {
   "cell_type": "markdown",
   "metadata": {},
   "source": [
    "Accounting for gravitational forces:"
   ]
  },
  {
   "cell_type": "code",
   "execution_count": 7,
   "metadata": {},
   "outputs": [],
   "source": [
    "gravity = [0, 0, -9.81]\n",
    "tau_g_sym = ur5.get_inverse_dynamics_rnea(root, tip, gravity = gravity)"
   ]
  },
  {
   "cell_type": "markdown",
   "metadata": {},
   "source": [
    "External forces can also be accounted for:"
   ]
  },
  {
   "cell_type": "code",
   "execution_count": 8,
   "metadata": {},
   "outputs": [
    {
     "ename": "RuntimeError",
     "evalue": ".../casadi/core/matrix.cpp:1143: Assertion \"is_scalar()\" failed:\nCan only convert 1-by-1 matrices to scalars",
     "output_type": "error",
     "traceback": [
      "\u001b[0;31m---------------------------------------------------------------------------\u001b[0m",
      "\u001b[0;31mRuntimeError\u001b[0m                              Traceback (most recent call last)",
      "\u001b[0;32m<ipython-input-8-3dbd12e7bd9f>\u001b[0m in \u001b[0;36m<module>\u001b[0;34m()\u001b[0m\n\u001b[1;32m      1\u001b[0m \u001b[0mtau_ext\u001b[0m \u001b[0;34m=\u001b[0m \u001b[0mnp\u001b[0m\u001b[0;34m.\u001b[0m\u001b[0mones\u001b[0m\u001b[0;34m(\u001b[0m\u001b[0mn_joints\u001b[0m\u001b[0;34m)\u001b[0m\u001b[0;34m\u001b[0m\u001b[0m\n\u001b[0;32m----> 2\u001b[0;31m \u001b[0mtau_fext_sym\u001b[0m \u001b[0;34m=\u001b[0m \u001b[0mur5\u001b[0m\u001b[0;34m.\u001b[0m\u001b[0mget_inverse_dynamics_rnea\u001b[0m\u001b[0;34m(\u001b[0m\u001b[0mroot\u001b[0m\u001b[0;34m,\u001b[0m \u001b[0mtip\u001b[0m\u001b[0;34m,\u001b[0m \u001b[0mf_ext\u001b[0m \u001b[0;34m=\u001b[0m \u001b[0mtau_ext\u001b[0m\u001b[0;34m)\u001b[0m\u001b[0;34m\u001b[0m\u001b[0m\n\u001b[0m",
      "\u001b[0;32m/home/lmjohann/.local/lib/python2.7/site-packages/urdf2casadi/urdfparser.pyc\u001b[0m in \u001b[0;36mget_inverse_dynamics_rnea\u001b[0;34m(self, root, tip, gravity, f_ext)\u001b[0m\n\u001b[1;32m    381\u001b[0m \u001b[0;34m\u001b[0m\u001b[0m\n\u001b[1;32m    382\u001b[0m                 \u001b[0;32mfor\u001b[0m \u001b[0mi\u001b[0m \u001b[0;32min\u001b[0m \u001b[0mrange\u001b[0m\u001b[0;34m(\u001b[0m\u001b[0mn_joints\u001b[0m\u001b[0;34m-\u001b[0m\u001b[0;36m1\u001b[0m\u001b[0;34m,\u001b[0m \u001b[0;34m-\u001b[0m\u001b[0;36m1\u001b[0m\u001b[0;34m,\u001b[0m \u001b[0;34m-\u001b[0m\u001b[0;36m1\u001b[0m\u001b[0;34m)\u001b[0m\u001b[0;34m:\u001b[0m\u001b[0;34m\u001b[0m\u001b[0m\n\u001b[0;32m--> 383\u001b[0;31m                         \u001b[0mtau\u001b[0m\u001b[0;34m[\u001b[0m\u001b[0mi\u001b[0m\u001b[0;34m]\u001b[0m \u001b[0;34m=\u001b[0m \u001b[0mcs\u001b[0m\u001b[0;34m.\u001b[0m\u001b[0mmtimes\u001b[0m\u001b[0;34m(\u001b[0m\u001b[0mSi\u001b[0m\u001b[0;34m[\u001b[0m\u001b[0mi\u001b[0m\u001b[0;34m]\u001b[0m\u001b[0;34m.\u001b[0m\u001b[0mT\u001b[0m\u001b[0;34m,\u001b[0m \u001b[0mf\u001b[0m\u001b[0;34m[\u001b[0m\u001b[0mi\u001b[0m\u001b[0;34m]\u001b[0m\u001b[0;34m)\u001b[0m\u001b[0;34m\u001b[0m\u001b[0m\n\u001b[0m\u001b[1;32m    384\u001b[0m \u001b[0;34m\u001b[0m\u001b[0m\n\u001b[1;32m    385\u001b[0m                         \u001b[0;32mif\u001b[0m \u001b[0mi\u001b[0m \u001b[0;32mis\u001b[0m \u001b[0;32mnot\u001b[0m \u001b[0;36m0\u001b[0m\u001b[0;34m:\u001b[0m\u001b[0;34m\u001b[0m\u001b[0m\n",
      "\u001b[0;32m/home/lmjohann/.local/lib/python2.7/site-packages/casadi/casadi.pyc\u001b[0m in \u001b[0;36m__setitem__\u001b[0;34m(self, s, val)\u001b[0m\n\u001b[1;32m  10079\u001b[0m           \u001b[0;32mif\u001b[0m \u001b[0misinstance\u001b[0m\u001b[0;34m(\u001b[0m\u001b[0ms\u001b[0m\u001b[0;34m,\u001b[0m\u001b[0mtuple\u001b[0m\u001b[0;34m)\u001b[0m \u001b[0;32mand\u001b[0m \u001b[0mlen\u001b[0m\u001b[0;34m(\u001b[0m\u001b[0ms\u001b[0m\u001b[0;34m)\u001b[0m\u001b[0;34m==\u001b[0m\u001b[0;36m2\u001b[0m\u001b[0;34m:\u001b[0m\u001b[0;34m\u001b[0m\u001b[0m\n\u001b[1;32m  10080\u001b[0m             \u001b[0;32mreturn\u001b[0m \u001b[0mself\u001b[0m\u001b[0;34m.\u001b[0m\u001b[0mset\u001b[0m\u001b[0;34m(\u001b[0m\u001b[0mval\u001b[0m\u001b[0;34m,\u001b[0m \u001b[0mFalse\u001b[0m\u001b[0;34m,\u001b[0m \u001b[0ms\u001b[0m\u001b[0;34m[\u001b[0m\u001b[0;36m0\u001b[0m\u001b[0;34m]\u001b[0m\u001b[0;34m,\u001b[0m \u001b[0ms\u001b[0m\u001b[0;34m[\u001b[0m\u001b[0;36m1\u001b[0m\u001b[0;34m]\u001b[0m\u001b[0;34m)\u001b[0m\u001b[0;34m\u001b[0m\u001b[0m\n\u001b[0;32m> 10081\u001b[0;31m           \u001b[0;32mreturn\u001b[0m \u001b[0mself\u001b[0m\u001b[0;34m.\u001b[0m\u001b[0mset\u001b[0m\u001b[0;34m(\u001b[0m\u001b[0mval\u001b[0m\u001b[0;34m,\u001b[0m \u001b[0mFalse\u001b[0m\u001b[0;34m,\u001b[0m \u001b[0ms\u001b[0m\u001b[0;34m)\u001b[0m\u001b[0;34m\u001b[0m\u001b[0m\n\u001b[0m\u001b[1;32m  10082\u001b[0m \u001b[0;34m\u001b[0m\u001b[0m\n\u001b[1;32m  10083\u001b[0m     \u001b[0;34m@\u001b[0m\u001b[0mproperty\u001b[0m\u001b[0;34m\u001b[0m\u001b[0m\n",
      "\u001b[0;32m/home/lmjohann/.local/lib/python2.7/site-packages/casadi/casadi.pyc\u001b[0m in \u001b[0;36mset\u001b[0;34m(self, *args)\u001b[0m\n\u001b[1;32m   9120\u001b[0m \u001b[0;34m\u001b[0m\u001b[0m\n\u001b[1;32m   9121\u001b[0m         \"\"\"\n\u001b[0;32m-> 9122\u001b[0;31m         \u001b[0;32mreturn\u001b[0m \u001b[0m_casadi\u001b[0m\u001b[0;34m.\u001b[0m\u001b[0mSX_set\u001b[0m\u001b[0;34m(\u001b[0m\u001b[0mself\u001b[0m\u001b[0;34m,\u001b[0m \u001b[0;34m*\u001b[0m\u001b[0margs\u001b[0m\u001b[0;34m)\u001b[0m\u001b[0;34m\u001b[0m\u001b[0m\n\u001b[0m\u001b[1;32m   9123\u001b[0m \u001b[0;34m\u001b[0m\u001b[0m\n\u001b[1;32m   9124\u001b[0m \u001b[0;34m\u001b[0m\u001b[0m\n",
      "\u001b[0;31mRuntimeError\u001b[0m: .../casadi/core/matrix.cpp:1143: Assertion \"is_scalar()\" failed:\nCan only convert 1-by-1 matrices to scalars"
     ]
    }
   ],
   "source": [
    "tau_ext = np.ones(n_joints)\n",
    "tau_fext_sym = ur5.get_inverse_dynamics_rnea(root, tip, f_ext = tau_ext)"
   ]
  },
  {
   "cell_type": "code",
   "execution_count": 10,
   "metadata": {},
   "outputs": [
    {
     "name": "stdout",
     "output_type": "stream",
     "text": [
      "Numerical inverse dynamics: \n",
      "[14.1199, 8.33948, -1.19301, -0.0712788, -1.65662, 0.0369481]\n",
      "\n",
      "Numerical inverse dynamics w/ gravity: \n",
      "[14.1199, -4.14095, 1.53532, 0.040635, -1.65662, 0.0369481]\n"
     ]
    }
   ],
   "source": [
    "q = [None]*n_joints\n",
    "q_dot = [None]*n_joints\n",
    "q_ddot = [None]*n_joints\n",
    "for i in range(n_joints):\n",
    "    #to make sure the inputs are within the robot's limits:\n",
    "    q[i] = (q_max[i] - q_min[i])*np.random.rand()-(q_max[i] - q_min[i])/2\n",
    "    q_dot[i] = (q_max[i] - q_min[i])*np.random.rand()-(q_max[i] - q_min[i])/2\n",
    "    q_ddot[i] = (q_max[i] - q_min[i])*np.random.rand()-(q_max[i] - q_min[i])/2\n",
    "\n",
    "tau_num = tau_sym(q, q_dot, q_ddot)\n",
    "tau_g_num = tau_g_sym(q, q_dot, q_ddot)\n",
    "#tau_fext_num = tau_fext_sym(q, q_dot, q_ddot)\n",
    "print \"Numerical inverse dynamics: \\n\", tau_num \n",
    "print \"\\nNumerical inverse dynamics w/ gravity: \\n\", tau_g_num \n",
    "#print \"\\nNumerical inverse dynamics w/ external forces: \\n\", G_num"
   ]
  },
  {
   "cell_type": "markdown",
   "metadata": {},
   "source": [
    "## Forward Dynamics\n",
    "\n",
    "urdf2casadi provides two methods for finding the robot's forward dynamics. The first method combines the Recursive Newton-Euler Algorithm (RNEA) and the Composite Rigid Body Algorithm (CRBA) and solves the equation of motion for the joint accelerations. The second method uses the Articulated Body Algorithm (ABA) for forward dynamics. The method that uses ABA is in most cases the most efficient with regard to numerical evaluation, especially if the number of joints are high. (See timing examples for more information.)"
   ]
  },
  {
   "cell_type": "code",
   "execution_count": 14,
   "metadata": {},
   "outputs": [],
   "source": [
    "tau = np.zeros(n_joints)\n",
    "qddot_sym = ur5.get_forward_dynamics_crba(root, tip)"
   ]
  },
  {
   "cell_type": "code",
   "execution_count": 15,
   "metadata": {},
   "outputs": [],
   "source": [
    "qddot_g_sym = ur5.get_forward_dynamics_aba(root, tip, gravity = gravity)\n"
   ]
  },
  {
   "cell_type": "code",
   "execution_count": 17,
   "metadata": {},
   "outputs": [],
   "source": [
    "q = [None]*n_joints\n",
    "q_dot = [None]*n_joints\n",
    "for i in range(n_joints):\n",
    "    #to make sure the inputs are within the robot's limits:\n",
    "    q[i] = (q_max[i] - q_min[i])*np.random.rand()-(q_max[i] - q_min[i])/2\n",
    "    q_dot[i] = (q_max[i] - q_min[i])*np.random.rand()-(q_max[i] - q_min[i])/2\n",
    "\n",
    "qddot_num = qddot_sym(q, q_dot, tau)\n",
    "qddot_g_num = qddot_g_sym(q, q_dot, tau)\n",
    "\n",
    "print \"Numerical inverse dynamics: \\n\", qddot_num \n",
    "print \"\\nNumerical inverse dynamics w/ gravity: \\n\", qddot_g_num "
   ]
  },
  {
   "cell_type": "code",
   "execution_count": null,
   "metadata": {},
   "outputs": [],
   "source": []
  }
 ],
 "metadata": {
  "kernelspec": {
   "display_name": "Python 2",
   "language": "python",
   "name": "python2"
  },
  "language_info": {
   "codemirror_mode": {
    "name": "ipython",
    "version": 2
   },
   "file_extension": ".py",
   "mimetype": "text/x-python",
   "name": "python",
   "nbconvert_exporter": "python",
   "pygments_lexer": "ipython2",
   "version": "2.7.12"
  }
 },
 "nbformat": 4,
 "nbformat_minor": 2
}
