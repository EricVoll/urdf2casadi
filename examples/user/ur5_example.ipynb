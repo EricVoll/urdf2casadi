{
 "cells": [
  {
   "cell_type": "code",
   "execution_count": 1,
   "metadata": {},
   "outputs": [],
   "source": [
    "import urdf2casadi.urdfparser as u2c\n",
    "import numpy as np"
   ]
  },
  {
   "cell_type": "markdown",
   "metadata": {},
   "source": [
    "## 1. Load robot from urdf \n",
    "\n",
    "1. Create urdfparser-class instance. \n",
    "2. Load model to instance, either from file, string or ros parameter server. Examples uses from file. "
   ]
  },
  {
   "cell_type": "code",
   "execution_count": 2,
   "metadata": {},
   "outputs": [
    {
     "name": "stdout",
     "output_type": "stream",
     "text": [
      "/home/lillmaria/urdf2casadi/examples/urdf/ur5.urdf\n"
     ]
    }
   ],
   "source": [
    "ur5 = u2c.URDFparser()\n",
    "ur5.from_file(\"/home/lillmaria/urdf2casadi/examples/urdf/ur5.urdf\")"
   ]
  },
  {
   "cell_type": "markdown",
   "metadata": {},
   "source": [
    "## 2. Get joint information ? \n",
    "Information about the joints of the robot model can be obtained using u2c's get_joint_info(). \"root\" and \"tip\" are the inputs, and represent the link names for the root and tip of the kinematic tree one wishes to evaluate. "
   ]
  },
  {
   "cell_type": "code",
   "execution_count": 3,
   "metadata": {},
   "outputs": [
    {
     "name": "stdout",
     "output_type": "stream",
     "text": [
      "name of first joint: shoulder_pan_joint \n",
      "\n",
      "joint information for first joint:\n",
      "axis:\n",
      "- 0.0\n",
      "- 0.0\n",
      "- 1.0\n",
      "calibration: None\n",
      "child: shoulder_link\n",
      "dynamics:\n",
      "  damping: 0.0\n",
      "  friction: 0.0\n",
      "limit:\n",
      "  effort: 150.0\n",
      "  lower: -6.28318530718\n",
      "  upper: 6.28318530718\n",
      "  velocity: 3.15\n",
      "mimic: None\n",
      "name: shoulder_pan_joint\n",
      "origin:\n",
      "  rpy:\n",
      "  - 0.0\n",
      "  - 0.0\n",
      "  - 0.0\n",
      "  xyz:\n",
      "  - 0.0\n",
      "  - 0.0\n",
      "  - 0.089159\n",
      "parent: base_link\n",
      "safety_controller: None\n",
      "type: revolute\n",
      "\n",
      " q max: [6.28318530718, 6.28318530718, 3.14159265359, 6.28318530718, 6.28318530718, 6.28318530718]\n",
      "\n",
      " q min: [-6.28318530718, -6.28318530718, -3.14159265359, -6.28318530718, -6.28318530718, -6.28318530718]\n"
     ]
    },
    {
     "ename": "AttributeError",
     "evalue": "'URDFparser' object has no attribute 'get_forward_dynamics_ABA_2'",
     "output_type": "error",
     "traceback": [
      "\u001b[0;31m---------------------------------------------------------------------------\u001b[0m",
      "\u001b[0;31mAttributeError\u001b[0m                            Traceback (most recent call last)",
      "\u001b[0;32m<ipython-input-3-2a00bed37638>\u001b[0m in \u001b[0;36m<module>\u001b[0;34m()\u001b[0m\n\u001b[1;32m      9\u001b[0m \u001b[0;32mprint\u001b[0m \u001b[0;34m\"\\n q min:\"\u001b[0m\u001b[0;34m,\u001b[0m \u001b[0mq_min\u001b[0m\u001b[0;34m\u001b[0m\u001b[0m\n\u001b[1;32m     10\u001b[0m \u001b[0;34m\u001b[0m\u001b[0m\n\u001b[0;32m---> 11\u001b[0;31m \u001b[0mur5\u001b[0m\u001b[0;34m.\u001b[0m\u001b[0mget_forward_dynamics_ABA_2\u001b[0m\u001b[0;34m(\u001b[0m\u001b[0mroot\u001b[0m\u001b[0;34m,\u001b[0m \u001b[0mtip\u001b[0m\u001b[0;34m)\u001b[0m\u001b[0;34m\u001b[0m\u001b[0m\n\u001b[0m",
      "\u001b[0;31mAttributeError\u001b[0m: 'URDFparser' object has no attribute 'get_forward_dynamics_ABA_2'"
     ]
    }
   ],
   "source": [
    "root = \"base_link\"\n",
    "tip = \"wrist_3_link\"\n",
    "\n",
    "joint_list, joint_names, q_max, q_min = ur5.get_joint_info(root, tip)\n",
    "n_joints = len(joint_list)\n",
    "print \"name of first joint:\", joint_names[0], \"\\n\"\n",
    "print \"joint information for first joint:\\n\", joint_list[0]\n",
    "print \"\\n q max:\", q_max\n",
    "print \"\\n q min:\", q_min\n",
    "\n",
    "ur5.get_forward_dynamics_ABA_2(root, tip)"
   ]
  },
  {
   "cell_type": "markdown",
   "metadata": {},
   "source": [
    "# 3. Obtain robot dynamics! \n",
    "After loading the robot model to the urdfparser-instance, the robot dynamics can be obtained from any given root and tip of the robot. \n",
    "\n",
    "## Dynamic parameters:\n",
    "To obtain the dynamic parameters (M, C, G) of the equation of motion tau = M(q)q_ddot + C(q, q_dot)q_dot + G(q):"
   ]
  },
  {
   "cell_type": "code",
   "execution_count": 4,
   "metadata": {},
   "outputs": [],
   "source": [
    "M_sym = ur5.get_jointspace_inertia_matrix(root, tip)\n",
    "C_sym = ur5.get_jointspace_bias_matrix(root, tip)\n",
    "\n",
    "#gravity as defined on earth, 9.81m/s in negative z-axis:\n",
    "gravity = [0, 0, -9.81]\n",
    "G_sym = ur5.get_gravity_RNEA(root, tip, gravity)"
   ]
  },
  {
   "cell_type": "markdown",
   "metadata": {},
   "source": [
    "M_sym, C_sym, G_sym are CasADi symbolic expressions of the ur5's dynamic parameters from given root to tip. The CasADi expressions are C compiled so they can be numerically evaluated efficiently. Example of numerical evaluation is shown below. "
   ]
  },
  {
   "cell_type": "code",
   "execution_count": 5,
   "metadata": {},
   "outputs": [
    {
     "name": "stdout",
     "output_type": "stream",
     "text": [
      "Numerical Inertia Matrx: \n",
      "\n",
      "[[89.2118, -7.96692e-11, 5.82581, 1.30429, -0.0337024, -0.00808052], \n",
      " [-7.96692e-11, 13.2939, -0.282569, 0, 0, 0], \n",
      " [5.82581, -0.282569, 0.839714, -0, -0.0034105, -0.0150505], \n",
      " [1.30429, 0, -0, 2.6259, 0, 0], \n",
      " [-0.0337024, 0, -0.0034105, 0, 0.240572, 0], \n",
      " [-0.00808052, 0, -0.0150505, 0, 0, 0.0171365]]\n",
      "\n",
      "Numerical Coriolis term: \n",
      "[-8.48192, 6.82591, 2.49823, -39.1171, -0.63447, -0.158858]\n",
      "\n",
      "Numerical gravity term: \n",
      "[-7.9585e-15, -130.413, 2.772, -8.88178e-16, 0, 0]\n"
     ]
    }
   ],
   "source": [
    "q = [None]*n_joints\n",
    "q_dot = [None]*n_joints\n",
    "for i in range(n_joints):\n",
    "    #to make sure the inputs are within the robot's limits:\n",
    "    q[i] = (q_max[i] - q_min[i])*np.random.rand()-(q_max[i] - q_min[i])/2\n",
    "    q_dot[i] = (q_max[i] - q_min[i])*np.random.rand()-(q_max[i] - q_min[i])/2\n",
    "    \n",
    "M_num = M_sym(q)\n",
    "C_num = C_sym(q, q_dot)\n",
    "G_num = G_sym(q)\n",
    "print \"Numerical Inertia Matrx: \\n\", M_num \n",
    "print \"\\nNumerical Coriolis term: \\n\", C_num \n",
    "print \"\\nNumerical gravity term: \\n\", G_num"
   ]
  },
  {
   "cell_type": "markdown",
   "metadata": {},
   "source": [
    "## Inverse Dynamics \n",
    "\n",
    "Without accounting for gravitational forces:"
   ]
  },
  {
   "cell_type": "code",
   "execution_count": 6,
   "metadata": {},
   "outputs": [],
   "source": [
    "tau_sym = ur5.get_inverse_dynamics_RNEA(root, tip)"
   ]
  },
  {
   "cell_type": "markdown",
   "metadata": {},
   "source": [
    "Accounting for gravitational forces:"
   ]
  },
  {
   "cell_type": "code",
   "execution_count": 7,
   "metadata": {},
   "outputs": [],
   "source": [
    "gravity = [0, 0, -9.81]\n",
    "tau_g_sym = ur5.get_inverse_dynamics_RNEA(root, tip, gravity = gravity)"
   ]
  },
  {
   "cell_type": "markdown",
   "metadata": {},
   "source": [
    "External forces can also be accounted for:"
   ]
  },
  {
   "cell_type": "code",
   "execution_count": 41,
   "metadata": {},
   "outputs": [
    {
     "ename": "NameError",
     "evalue": "global name 'i_X_0' is not defined",
     "output_type": "error",
     "traceback": [
      "\u001b[0;31m---------------------------------------------------------------------------\u001b[0m",
      "\u001b[0;31mNameError\u001b[0m                                 Traceback (most recent call last)",
      "\u001b[0;32m<ipython-input-41-c4e94c128181>\u001b[0m in \u001b[0;36m<module>\u001b[0;34m()\u001b[0m\n\u001b[1;32m      1\u001b[0m \u001b[0mtau_ext\u001b[0m \u001b[0;34m=\u001b[0m \u001b[0mnp\u001b[0m\u001b[0;34m.\u001b[0m\u001b[0mones\u001b[0m\u001b[0;34m(\u001b[0m\u001b[0mn_joints\u001b[0m\u001b[0;34m)\u001b[0m\u001b[0;34m\u001b[0m\u001b[0m\n\u001b[0;32m----> 2\u001b[0;31m \u001b[0mtau_fext_sym\u001b[0m \u001b[0;34m=\u001b[0m \u001b[0mur5\u001b[0m\u001b[0;34m.\u001b[0m\u001b[0mget_inverse_dynamics_RNEA\u001b[0m\u001b[0;34m(\u001b[0m\u001b[0mroot\u001b[0m\u001b[0;34m,\u001b[0m \u001b[0mtip\u001b[0m\u001b[0;34m,\u001b[0m \u001b[0mf_ext\u001b[0m \u001b[0;34m=\u001b[0m \u001b[0mtau_ext\u001b[0m\u001b[0;34m)\u001b[0m\u001b[0;34m\u001b[0m\u001b[0m\n\u001b[0m",
      "\u001b[0;32m/usr/local/lib/python2.7/dist-packages/urdf2casadi/urdfparser.pyc\u001b[0m in \u001b[0;36mget_inverse_dynamics_RNEA\u001b[0;34m(self, root, tip, gravity, f_ext)\u001b[0m\n\u001b[1;32m    378\u001b[0m \u001b[0;34m\u001b[0m\u001b[0m\n\u001b[1;32m    379\u001b[0m                 \u001b[0;32mif\u001b[0m \u001b[0mf_ext\u001b[0m \u001b[0;32mis\u001b[0m \u001b[0;32mnot\u001b[0m \u001b[0mNone\u001b[0m\u001b[0;34m:\u001b[0m\u001b[0;34m\u001b[0m\u001b[0m\n\u001b[0;32m--> 380\u001b[0;31m                         \u001b[0mf\u001b[0m \u001b[0;34m=\u001b[0m \u001b[0mself\u001b[0m\u001b[0;34m.\u001b[0m\u001b[0m_apply_external_forces\u001b[0m\u001b[0;34m(\u001b[0m\u001b[0mf_ext\u001b[0m\u001b[0;34m,\u001b[0m \u001b[0mf\u001b[0m\u001b[0;34m,\u001b[0m \u001b[0mi_X_0\u001b[0m\u001b[0;34m)\u001b[0m\u001b[0;34m\u001b[0m\u001b[0m\n\u001b[0m\u001b[1;32m    381\u001b[0m \u001b[0;34m\u001b[0m\u001b[0m\n\u001b[1;32m    382\u001b[0m                 \u001b[0;32mfor\u001b[0m \u001b[0mi\u001b[0m \u001b[0;32min\u001b[0m \u001b[0mrange\u001b[0m\u001b[0;34m(\u001b[0m\u001b[0mn_joints\u001b[0m\u001b[0;34m-\u001b[0m\u001b[0;36m1\u001b[0m\u001b[0;34m,\u001b[0m \u001b[0;34m-\u001b[0m\u001b[0;36m1\u001b[0m\u001b[0;34m,\u001b[0m \u001b[0;34m-\u001b[0m\u001b[0;36m1\u001b[0m\u001b[0;34m)\u001b[0m\u001b[0;34m:\u001b[0m\u001b[0;34m\u001b[0m\u001b[0m\n",
      "\u001b[0;31mNameError\u001b[0m: global name 'i_X_0' is not defined"
     ]
    }
   ],
   "source": [
    "tau_ext = np.ones(n_joints)\n",
    "tau_fext_sym = ur5.get_inverse_dynamics_RNEA(root, tip, f_ext = tau_ext)"
   ]
  },
  {
   "cell_type": "code",
   "execution_count": 8,
   "metadata": {},
   "outputs": [
    {
     "name": "stdout",
     "output_type": "stream",
     "text": [
      "Numerical inverse dynamics: \n",
      "[-9.91911, 58.0452, -1.48518, -10.8123, 1.06382, 0.104966]\n",
      "\n",
      "Numerical inverse dynamics w/ gravity: \n",
      "[-9.91911, -72.368, -9.7009, -10.8123, 1.06382, 0.104966]\n",
      "\n",
      "Numerical inverse dynamics w/ external forces: \n",
      "[-7.9585e-15, -130.413, 2.772, -8.88178e-16, 0, 0]\n"
     ]
    }
   ],
   "source": [
    "q = [None]*n_joints\n",
    "q_dot = [None]*n_joints\n",
    "q_ddot = [None]*n_joints\n",
    "for i in range(n_joints):\n",
    "    #to make sure the inputs are within the robot's limits:\n",
    "    q[i] = (q_max[i] - q_min[i])*np.random.rand()-(q_max[i] - q_min[i])/2\n",
    "    q_dot[i] = (q_max[i] - q_min[i])*np.random.rand()-(q_max[i] - q_min[i])/2\n",
    "    q_ddot[i] = (q_max[i] - q_min[i])*np.random.rand()-(q_max[i] - q_min[i])/2\n",
    "\n",
    "tau_num = tau_sym(q, q_dot, q_ddot)\n",
    "tau_g_num = tau_g_sym(q, q_dot, q_ddot)\n",
    "#tau_fext_num = tau_fext_sym(q, q_dot, q_ddot)\n",
    "print \"Numerical inverse dynamics: \\n\", tau_num \n",
    "print \"\\nNumerical inverse dynamics w/ gravity: \\n\", tau_g_num \n",
    "print \"\\nNumerical inverse dynamics w/ external forces: \\n\", G_num"
   ]
  },
  {
   "cell_type": "markdown",
   "metadata": {},
   "source": [
    "## Forward Dynamics\n",
    "\n",
    "urdf2casadi provides two methods for finding the robot's forward dynamics. The first method combines the Recursive Newton-Euler Algorithm (RNEA) and the Composite Rigid Body Algorithm (CRBA) and solves the equation of motion for the joint accelerations. The second method uses the Articulated Body Algorithm (ABA) for forward dynamics. The method that uses ABA is in most cases the most efficient with regard to numerical evaluation, especially if the number of joints are high. (See timing examples for more information.)"
   ]
  },
  {
   "cell_type": "code",
   "execution_count": 9,
   "metadata": {},
   "outputs": [],
   "source": [
    "tau = np.zeros(n_joints)\n",
    "qddot_sym = ur5.get_forward_dynamics_CRBA(root, tip, tau)"
   ]
  },
  {
   "cell_type": "code",
   "execution_count": 10,
   "metadata": {},
   "outputs": [
    {
     "ename": "AttributeError",
     "evalue": "'URDFparser' object has no attribute 'get_forward_dynamics_ABA_2'",
     "output_type": "error",
     "traceback": [
      "\u001b[0;31m---------------------------------------------------------------------------\u001b[0m",
      "\u001b[0;31mAttributeError\u001b[0m                            Traceback (most recent call last)",
      "\u001b[0;32m<ipython-input-10-3fd14cb86fbb>\u001b[0m in \u001b[0;36m<module>\u001b[0;34m()\u001b[0m\n\u001b[1;32m      1\u001b[0m \u001b[0mqddot_g_sym\u001b[0m \u001b[0;34m=\u001b[0m \u001b[0mur5\u001b[0m\u001b[0;34m.\u001b[0m\u001b[0mget_forward_dynamics_ABA\u001b[0m\u001b[0;34m(\u001b[0m\u001b[0mroot\u001b[0m\u001b[0;34m,\u001b[0m \u001b[0mtip\u001b[0m\u001b[0;34m,\u001b[0m \u001b[0mtau\u001b[0m\u001b[0;34m,\u001b[0m \u001b[0mgravity\u001b[0m \u001b[0;34m=\u001b[0m \u001b[0mgravity\u001b[0m\u001b[0;34m)\u001b[0m\u001b[0;34m\u001b[0m\u001b[0m\n\u001b[0;32m----> 2\u001b[0;31m \u001b[0mqddot_sym_2\u001b[0m \u001b[0;34m=\u001b[0m \u001b[0mur5\u001b[0m\u001b[0;34m.\u001b[0m\u001b[0mget_forward_dynamics_ABA_2\u001b[0m\u001b[0;34m(\u001b[0m\u001b[0mroot\u001b[0m\u001b[0;34m,\u001b[0m \u001b[0mtip\u001b[0m\u001b[0;34m)\u001b[0m\u001b[0;34m\u001b[0m\u001b[0m\n\u001b[0m",
      "\u001b[0;31mAttributeError\u001b[0m: 'URDFparser' object has no attribute 'get_forward_dynamics_ABA_2'"
     ]
    }
   ],
   "source": [
    "qddot_g_sym = ur5.get_forward_dynamics_ABA(root, tip, tau, gravity = gravity)\n",
    "qddot_sym_2 = ur5.get_forward_dynamics_ABA_2(root, tip)"
   ]
  },
  {
   "cell_type": "code",
   "execution_count": null,
   "metadata": {},
   "outputs": [],
   "source": [
    "q = [None]*n_joints\n",
    "q_dot = [None]*n_joints\n",
    "for i in range(n_joints):\n",
    "    #to make sure the inputs are within the robot's limits:\n",
    "    q[i] = (q_max[i] - q_min[i])*np.random.rand()-(q_max[i] - q_min[i])/2\n",
    "    q_dot[i] = (q_max[i] - q_min[i])*np.random.rand()-(q_max[i] - q_min[i])/2\n",
    "\n",
    "qddot_num = qddot_sym(q, q_dot)\n",
    "qddot_g_num = qddot_g_sym(q, q_dot)"
   ]
  }
 ],
 "metadata": {
  "kernelspec": {
   "display_name": "Python 2",
   "language": "python",
   "name": "python2"
  },
  "language_info": {
   "codemirror_mode": {
    "name": "ipython",
    "version": 2
   },
   "file_extension": ".py",
   "mimetype": "text/x-python",
   "name": "python",
   "nbconvert_exporter": "python",
   "pygments_lexer": "ipython2",
   "version": "2.7.12"
  }
 },
 "nbformat": 4,
 "nbformat_minor": 2
}
