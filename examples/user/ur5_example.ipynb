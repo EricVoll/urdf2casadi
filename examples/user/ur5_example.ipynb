{
 "cells": [
  {
   "cell_type": "code",
   "execution_count": 1,
   "metadata": {},
   "outputs": [],
   "source": [
    "import urdf2casadi.urdfparser as u2c\n",
    "import numpy as np"
   ]
  },
  {
   "cell_type": "markdown",
   "metadata": {},
   "source": [
    "## 1. Load robot from urdf \n",
    "\n",
    "1. Create urdfparser-class instance. \n",
    "2. Load model to instance, either from file, string or ros parameter server. Examples uses from file. "
   ]
  },
  {
   "cell_type": "code",
   "execution_count": 4,
   "metadata": {},
   "outputs": [
    {
     "name": "stdout",
     "output_type": "stream",
     "text": [
      "/home/lillmaria/urdf2casadi/examples/urdf/ur5_mod.urdf\n"
     ]
    }
   ],
   "source": [
    "ur5 = u2c.URDFparser()\n",
    "ur5.from_file(\"/home/lillmaria/urdf2casadi/examples/urdf/ur5_mod.urdf\")"
   ]
  },
  {
   "cell_type": "markdown",
   "metadata": {},
   "source": [
    "## 2. Get joint information ? \n",
    "Information about the joints of the robot model can be obtained using u2c's get_joint_info(). \"root\" and \"tip\" are the inputs, and represent the link names for the root and tip of the kinematic tree one wishes to evaluate. "
   ]
  },
  {
   "cell_type": "code",
   "execution_count": 5,
   "metadata": {},
   "outputs": [
    {
     "name": "stdout",
     "output_type": "stream",
     "text": [
      "name of first joint: shoulder_pan_joint \n",
      "\n",
      "joint information for first joint:\n",
      "axis:\n",
      "- 0.0\n",
      "- 0.0\n",
      "- 1.0\n",
      "calibration: None\n",
      "child: shoulder_link\n",
      "dynamics:\n",
      "  damping: 0.0\n",
      "  friction: 0.0\n",
      "limit:\n",
      "  effort: 150.0\n",
      "  lower: -6.28318530718\n",
      "  upper: 6.28318530718\n",
      "  velocity: 3.15\n",
      "mimic: None\n",
      "name: shoulder_pan_joint\n",
      "origin:\n",
      "  rpy:\n",
      "  - 0.0\n",
      "  - 0.0\n",
      "  - 0.0\n",
      "  xyz:\n",
      "  - 0.0\n",
      "  - 0.0\n",
      "  - 0.089159\n",
      "parent: base_link\n",
      "safety_controller: None\n",
      "type: revolute\n",
      "\n",
      " q max: [6.28318530718, 6.28318530718, 3.14159265359, 6.28318530718, 6.28318530718, 6.28318530718]\n",
      "\n",
      " q min: [-6.28318530718, -6.28318530718, -3.14159265359, -6.28318530718, -6.28318530718, -6.28318530718]\n"
     ]
    }
   ],
   "source": [
    "root = \"base_link\"\n",
    "tip = \"wrist_3_link\"\n",
    "\n",
    "joint_list, joint_names, q_max, q_min = ur5.get_joint_info(root, tip)\n",
    "n_joints = len(joint_list)\n",
    "print \"name of first joint:\", joint_names[0], \"\\n\"\n",
    "print \"joint information for first joint:\\n\", joint_list[0]\n",
    "print \"\\n q max:\", q_max\n",
    "print \"\\n q min:\", q_min"
   ]
  },
  {
   "cell_type": "markdown",
   "metadata": {},
   "source": [
    "# 3. Obtain robot dynamics! \n",
    "After loading the robot model to the urdfparser-instance, the robot dynamics can be obtained from any given root and tip of the robot. \n",
    "\n",
    "## Dynamic parameters:\n",
    "To obtain the dynamic parameters (M, C, G) of the equation of motion tau = M(q)q_ddot + C(q, q_dot)q_dot + G(q):"
   ]
  },
  {
   "cell_type": "code",
   "execution_count": 6,
   "metadata": {},
   "outputs": [],
   "source": [
    "M_sym = ur5.get_inertia_matrix_crba(root, tip)\n",
    "C_sym = ur5.get_coriolis_rnea(root, tip)\n",
    "\n",
    "gravity = [0, 0, -9.81]\n",
    "G_sym = ur5.get_gravity_rnea(root, tip, gravity)"
   ]
  },
  {
   "cell_type": "markdown",
   "metadata": {},
   "source": [
    "M_sym, C_sym, G_sym are CasADi symbolic expressions of the ur5's dynamic parameters from given root to tip. The CasADi expressions are C-code generated so they can be numerically evaluated efficiently. Example of numerical evaluation is shown below. "
   ]
  },
  {
   "cell_type": "code",
   "execution_count": 7,
   "metadata": {},
   "outputs": [
    {
     "name": "stdout",
     "output_type": "stream",
     "text": [
      "Numerical Inertia Matrx for random input: \n",
      "\n",
      "[[1.69853, -0.0439708, -0.047046, 0.000340887, 0.238063, -0.00145248], \n",
      " [-0.0439708, 1.53628, 0.307338, 0.245481, 0.00277671, -0.0160655], \n",
      " [-0.047046, 0.307338, 0.848527, 0.247378, 0.00277671, -0.0160655], \n",
      " [0.000340887, 0.245481, 0.247378, 0.241881, 0.00277671, -0.0160655], \n",
      " [0.238063, 0.00277671, 0.00277671, 0.00277671, 0.247334, 0], \n",
      " [-0.00145248, -0.0160655, -0.0160655, -0.0160655, 0, 0.0171365]]\n",
      "\n",
      "Numerical Coriolis term for random input: \n",
      "[-0.185397, 0.379857, 0.469269, -0.00705312, -0.115715, -0.0340975]\n",
      "\n",
      "Numerical gravity term for random input: \n",
      "[-1.11022e-16, 31.0673, -12.4185, -0.0424965, 0, 0]\n"
     ]
    }
   ],
   "source": [
    "q = [None]*n_joints\n",
    "q_dot = [None]*n_joints\n",
    "for i in range(n_joints):\n",
    "    #to make sure the inputs are within the robot's limits:\n",
    "    q[i] = (q_max[i] - q_min[i])*np.random.rand()-(q_max[i] - q_min[i])/2\n",
    "    q_dot[i] = (q_max[i] - q_min[i])*np.random.rand()-(q_max[i] - q_min[i])/2\n",
    "    \n",
    "M_num = M_sym(q)\n",
    "C_num = C_sym(q, q_dot)\n",
    "G_num = G_sym(q)\n",
    "print \"Numerical Inertia Matrx for random input: \\n\", M_num \n",
    "print \"\\nNumerical Coriolis term for random input: \\n\", C_num \n",
    "print \"\\nNumerical gravity term for random input: \\n\", G_num"
   ]
  },
  {
   "cell_type": "markdown",
   "metadata": {},
   "source": [
    "## Inverse Dynamics \n",
    "\n",
    "Without accounting for gravitational forces:"
   ]
  },
  {
   "cell_type": "code",
   "execution_count": 8,
   "metadata": {},
   "outputs": [],
   "source": [
    "tau_sym = ur5.get_inverse_dynamics_rnea(root, tip)"
   ]
  },
  {
   "cell_type": "markdown",
   "metadata": {},
   "source": [
    "Accounting for gravitational forces:"
   ]
  },
  {
   "cell_type": "code",
   "execution_count": 9,
   "metadata": {},
   "outputs": [],
   "source": [
    "gravity = [0, 0, -9.81]\n",
    "tau_g_sym = ur5.get_inverse_dynamics_rnea(root, tip, gravity = gravity)"
   ]
  },
  {
   "cell_type": "markdown",
   "metadata": {},
   "source": [
    "External forces can also be accounted for:"
   ]
  },
  {
   "cell_type": "code",
   "execution_count": 11,
   "metadata": {},
   "outputs": [
    {
     "name": "stdout",
     "output_type": "stream",
     "text": [
      "Numerical inverse dynamics: \n",
      "[-15.1485, 6.45096, 14.7194, -2.66663, 6.61029, 0.422313]\n",
      "\n",
      "Numerical inverse dynamics w/ gravity: \n",
      "[-15.1485, -27.2411, 24.4046, -2.50092, 6.61029, 0.422313]\n"
     ]
    }
   ],
   "source": [
    "q = [None]*n_joints\n",
    "q_dot = [None]*n_joints\n",
    "q_ddot = [None]*n_joints\n",
    "for i in range(n_joints):\n",
    "    #to make sure the inputs are within the robot's limits:\n",
    "    q[i] = (q_max[i] - q_min[i])*np.random.rand()-(q_max[i] - q_min[i])/2\n",
    "    q_dot[i] = (q_max[i] - q_min[i])*np.random.rand()-(q_max[i] - q_min[i])/2\n",
    "    q_ddot[i] = (q_max[i] - q_min[i])*np.random.rand()-(q_max[i] - q_min[i])/2\n",
    "\n",
    "tau_num = tau_sym(q, q_dot, q_ddot)\n",
    "tau_g_num = tau_g_sym(q, q_dot, q_ddot)\n",
    "#tau_fext_num = tau_fext_sym(q, q_dot, q_ddot)\n",
    "print \"Numerical inverse dynamics: \\n\", tau_num \n",
    "print \"\\nNumerical inverse dynamics w/ gravity: \\n\", tau_g_num \n",
    "#print \"\\nNumerical inverse dynamics w/ external forces: \\n\", G_num"
   ]
  },
  {
   "cell_type": "markdown",
   "metadata": {},
   "source": [
    "## Forward Dynamics\n",
    "\n",
    "urdf2casadi provides two methods for finding the robot's forward dynamics. The first method combines the recursive Newton-Euler algorithm (RNEA) and the composite rigid body algorithm (CRBA) and solves the equation of motion for the joint accelerations. The second method uses the articulated body algorithm (ABA) for forward dynamics. The method that uses ABA is in most cases the most efficient with regard to numerical evaluation, especially if the number of joints are high. (See timing examples for more information.)"
   ]
  },
  {
   "cell_type": "code",
   "execution_count": 18,
   "metadata": {},
   "outputs": [],
   "source": [
    "tau = np.zeros(n_joints)\n",
    "qddot_sym = ur5.get_forward_dynamics_crba(root, tip)"
   ]
  },
  {
   "cell_type": "code",
   "execution_count": 19,
   "metadata": {},
   "outputs": [],
   "source": [
    "qddot_g_sym = ur5.get_forward_dynamics_aba(root, tip, gravity = gravity)\n"
   ]
  },
  {
   "cell_type": "code",
   "execution_count": 20,
   "metadata": {},
   "outputs": [
    {
     "name": "stdout",
     "output_type": "stream",
     "text": [
      "Numerical inverse dynamics: \n",
      "[-25.6262, 18.6673, -38.13, 20.6464, 63.3116, -1.09492]\n",
      "\n",
      "Numerical inverse dynamics w/ gravity: \n",
      "[-26.9289, 15.0076, -8.34084, -5.59211, 63.774, -0.444615]\n"
     ]
    }
   ],
   "source": [
    "q = [None]*n_joints\n",
    "q_dot = [None]*n_joints\n",
    "for i in range(n_joints):\n",
    "    #to make sure the inputs are within the robot's limits:\n",
    "    q[i] = (q_max[i] - q_min[i])*np.random.rand()-(q_max[i] - q_min[i])/2\n",
    "    q_dot[i] = (q_max[i] - q_min[i])*np.random.rand()-(q_max[i] - q_min[i])/2\n",
    "\n",
    "qddot_num = qddot_sym(q, q_dot, tau)\n",
    "qddot_g_num = qddot_g_sym(q, q_dot, tau)\n",
    "\n",
    "print \"Numerical inverse dynamics: \\n\", qddot_num \n",
    "print \"\\nNumerical inverse dynamics w/ gravity: \\n\", qddot_g_num "
   ]
  },
  {
   "cell_type": "markdown",
   "metadata": {},
   "source": [
    "# 4. Obtain the Derivatives \n",
    "\n",
    "From the dynamics functions, their derivatives can easily be obtained using CasADi`s built-in Jacobian functionality. The user can choose to find the derivative with regard to those variables needed (cs.jacobian()), or to find the time derivative with regard to these variables (cs.jtimes()), i.e the Jacobian times the time derivative of the variables.\n",
    "\n",
    "If one are to find the time derivative, jtimes() is recommended over first obtaining the Jacobian, as jtimes() shortens the expressions, thus making the evaluation time of the expressions more efficient. \n",
    "\n",
    "Examples for obtaining the derivatives for the inverse dynamics, using both jacobian() and jtimes() are shown below:\n",
    "\n",
    "## cs.jacobian()\n",
    "\n",
    "The following explains how to use CasADi to obtain the derivative of the inverse dynamics with respect to q, qdot, and qddot, using the symbolic function returned by urdf2casadi (tau_sym):\n",
    "\n",
    "\n",
    "1. Import CasADi and declare the symbolic variables needed in the derivative expression. "
   ]
  },
  {
   "cell_type": "code",
   "execution_count": 33,
   "metadata": {},
   "outputs": [],
   "source": [
    "import casadi as cs\n",
    "\n",
    "q_sym =cs.SX.sym(\"qs\", n_joints)\n",
    "qdot_sym =cs.SX.sym(\"qsdot\", n_joints)\n",
    "qddot_sym =cs.SX.sym(\"qsddot\", n_joints)"
   ]
  },
  {
   "cell_type": "markdown",
   "metadata": {},
   "source": [
    "2. Declare the vector of the variables to find the derivatives with respect to using cs.vertcat():"
   ]
  },
  {
   "cell_type": "code",
   "execution_count": 39,
   "metadata": {},
   "outputs": [
    {
     "name": "stdout",
     "output_type": "stream",
     "text": [
      "[qs_0, qs_1, qs_2, qs_3, qs_4, qs_5, qsdot_0, qsdot_1, qsdot_2, qsdot_3, qsdot_4, qsdot_5, qsddot_0, qsddot_1, qsddot_2, qsddot_3, qsddot_4, qsddot_5]\n"
     ]
    }
   ],
   "source": [
    "id_vec = cs.vertcat(q_sym, qdot_sym, qddot_sym)\n",
    "print id_vec"
   ]
  },
  {
   "cell_type": "markdown",
   "metadata": {},
   "source": [
    "3. Obtain the symbolic expression of the derivative of ID with respect to q, qdot, and qddot using cs.jacobian():"
   ]
  },
  {
   "cell_type": "code",
   "execution_count": 41,
   "metadata": {},
   "outputs": [],
   "source": [
    "derivative_id_expression = cs.jacobian(tau_sym(q_sym, qdot_sym, qddot_sym), id_vec)"
   ]
  },
  {
   "cell_type": "markdown",
   "metadata": {},
   "source": [
    "4. Use the symbolic expression to make a CasADi function that can be efficiently numerical evaluated:"
   ]
  },
  {
   "cell_type": "code",
   "execution_count": 37,
   "metadata": {},
   "outputs": [],
   "source": [
    "derivative_id_function  = cs.Function(\"did\", [q_sym, qdot_sym, qddot_sym], [derivative_id_expression], {\"jit\": True, \"jit_options\":{\"flags\":\"-Ofast\"}})"
   ]
  },
  {
   "cell_type": "markdown",
   "metadata": {},
   "source": [
    "where -Ofast flag is used to C-code generate the function. The derivative function can then be numerically evaluated similar to the functions returned by urdf2casadi, as illustrated in the above. For instance:"
   ]
  },
  {
   "cell_type": "code",
   "execution_count": 52,
   "metadata": {},
   "outputs": [
    {
     "name": "stdout",
     "output_type": "stream",
     "text": [
      "\n",
      "[[00, 3.22059, 0.652579, -1.94272, 0.107956, -0.174549, -1.40766, -0.953735, -0.27699, 0.0695818, 0.0794737, -0.00429257, 0.965012, 0.419042, 0.0753014, 0.00515581, 0.23959, -0.00203493], \n",
      " [00, -1.80836, -3.38084, 0.531047, -0.0193066, -0.0290333, 1.23571, -1.11698, -2.25421, 0.0177435, -0.00648487, -0.0071203, 0.419042, 3.32406, 1.19369, 0.236788, 0.00638344, 0.00925888], \n",
      " [00, -0.631776, -0.326539, 0.453458, -0.0193066, -0.0290333, 0.117541, 1.15117, 0.0139476, -0.00112916, -0.00648487, -0.0071203, 0.0753014, 1.19369, 0.833443, 0.243661, 0.00638344, 0.00925888], \n",
      " [00, 0.452977, 0.442953, 0.405654, -0.0193066, -0.0290333, -0.100621, 0.0302718, 0.0365627, 0.0214859, -0.00648487, -0.0071203, 0.00515581, 0.236788, 0.243661, 0.249531, 0.00638344, 0.00925888], \n",
      " [00, -0.720317, -0.720317, -0.720317, 0.118444, -0.143756, 0.0677002, 0.00299667, 0.00299667, 0.00299667, -0.0151721, -0.00368425, 0.23959, 0.00638344, 0.00638344, 0.00638344, 0.241427, 00], \n",
      " [00, 0.0500702, 0.0500702, 0.0500702, -0.0813241, 0.176506, 0.0873326, -0.0217194, -0.0217194, -0.0217194, 0.00368425, 00, -0.00203493, 0.00925888, 0.00925888, 0.00925888, 00, 0.0171365]]\n"
     ]
    }
   ],
   "source": [
    "print derivative_id_function(np.ones(n_joints), np.ones(n_joints), np.ones(n_joints))"
   ]
  },
  {
   "cell_type": "markdown",
   "metadata": {},
   "source": [
    "\n",
    "One can also find the derivative with respect to just one variable:\n"
   ]
  },
  {
   "cell_type": "code",
   "execution_count": 50,
   "metadata": {},
   "outputs": [
    {
     "name": "stdout",
     "output_type": "stream",
     "text": [
      "\n",
      "[[00, 3.22059, 0.652579, -1.94272, 0.107956, -0.174549], \n",
      " [00, -1.80836, -3.38084, 0.531047, -0.0193066, -0.0290333], \n",
      " [00, -0.631776, -0.326539, 0.453458, -0.0193066, -0.0290333], \n",
      " [00, 0.452977, 0.442953, 0.405654, -0.0193066, -0.0290333], \n",
      " [00, -0.720317, -0.720317, -0.720317, 0.118444, -0.143756], \n",
      " [00, 0.0500702, 0.0500702, 0.0500702, -0.0813241, 0.176506]]\n"
     ]
    }
   ],
   "source": [
    "derivative_id_expression_dq = cs.jacobian(tau_sym(q_sym, qdot_sym, qddot_sym), q_sym)\n",
    "derivative_id_function_dq  = cs.Function(\"didq\", [q_sym, qdot_sym, qddot_sym], [derivative_id_expression_dq], {\"jit\": True, \"jit_options\":{\"flags\":\"-Ofast\"}})\n",
    "\n",
    "print derivative_id_function_dq(np.ones(n_joints), np.ones(n_joints), np.ones(n_joints))"
   ]
  },
  {
   "cell_type": "markdown",
   "metadata": {},
   "source": [
    "# cs.jtimes()\n",
    "\n",
    "To obtain the time derivative with cs.jtimes, the same procedure as for cs.jacobian() is used with an additional variable, i.e the time derivatives of the varibales:\n",
    "\n",
    "1. Import casadi and declare the symbolic variables needed, also the time derivatives of these: "
   ]
  },
  {
   "cell_type": "code",
   "execution_count": 42,
   "metadata": {},
   "outputs": [],
   "source": [
    "import casadi as cs\n",
    "\n",
    "q_sym =cs.SX.sym(\"qs\", n_joints)\n",
    "qdot_sym =cs.SX.sym(\"qsdot\", n_joints)\n",
    "qddot_sym =cs.SX.sym(\"qsddot\", n_joints)\n",
    "qdddot_sym = cs.SX.sym(\"qsdddot\", n_joints)"
   ]
  },
  {
   "cell_type": "markdown",
   "metadata": {},
   "source": [
    "2. Declare the vector of the variables to find the derivatives with respect to, and the vector with their time derivatives:"
   ]
  },
  {
   "cell_type": "code",
   "execution_count": 43,
   "metadata": {},
   "outputs": [],
   "source": [
    "id_vec = cs.vertcat(q_sym, qdot_sym, qddot_sym)\n",
    "id_dvec = cs.vertcat(qdot_sym, qddot_sym, qdddot_sym)"
   ]
  },
  {
   "cell_type": "markdown",
   "metadata": {},
   "source": [
    "3. Obtain the symbolic expression of the time derivative of ID with respect to q, qdot, and qddot using cs.jtimes():"
   ]
  },
  {
   "cell_type": "code",
   "execution_count": 44,
   "metadata": {},
   "outputs": [],
   "source": [
    "timederivative_id_expression = cs.jtimes(tau_sym(q_sym, qdot_sym, qddot_sym), id_vec, id_dvec)"
   ]
  },
  {
   "cell_type": "markdown",
   "metadata": {},
   "source": [
    "4. Use the symbolic expression to make a CasADi function that can be efficiently numerical evaluated:"
   ]
  },
  {
   "cell_type": "code",
   "execution_count": 54,
   "metadata": {},
   "outputs": [
    {
     "name": "stdout",
     "output_type": "stream",
     "text": [
      "[1.07229, -1.64861, 3.07646, 1.97812, -1.62826, 0.314129]\n"
     ]
    }
   ],
   "source": [
    "timederivative_id_function = cs.Function(\"didtimes\", [q_sym, qdot_sym, qddot_sym, qdddot_sym], [timederivative_id_expression], {\"jit\": True, \"jit_options\":{\"flags\":\"-Ofast\"}})\n",
    "print timederivative_id_function(np.ones(n_joints), np.ones(n_joints), np.ones(n_joints), np.ones(n_joints))"
   ]
  },
  {
   "cell_type": "markdown",
   "metadata": {},
   "source": [
    "And one can also just find the time derivative of the inverse dynamics with respect to, for instance, q:"
   ]
  },
  {
   "cell_type": "code",
   "execution_count": 56,
   "metadata": {},
   "outputs": [
    {
     "name": "stdout",
     "output_type": "stream",
     "text": [
      "[1.86385, -4.7065, -0.553197, 1.25324, -2.18626, 0.245392]\n"
     ]
    }
   ],
   "source": [
    "timederivative_id_expression_dq = cs.jtimes(tau_sym(q_sym, qdot_sym, qddot_sym), q_sym, qdot_sym)\n",
    "timederivative_id_function_dq = cs.Function(\"dqidtimes\", [q_sym, qdot_sym, qddot_sym], [timederivative_id_expression_dq], {\"jit\": True, \"jit_options\":{\"flags\":\"-Ofast\"}})\n",
    "print timederivative_id_function_dq(np.ones(n_joints), np.ones(n_joints), np.ones(n_joints))"
   ]
  }
 ],
 "metadata": {
  "kernelspec": {
   "display_name": "Python 2",
   "language": "python",
   "name": "python2"
  },
  "language_info": {
   "codemirror_mode": {
    "name": "ipython",
    "version": 2
   },
   "file_extension": ".py",
   "mimetype": "text/x-python",
   "name": "python",
   "nbconvert_exporter": "python",
   "pygments_lexer": "ipython2",
   "version": "2.7.12"
  }
 },
 "nbformat": 4,
 "nbformat_minor": 2
}
