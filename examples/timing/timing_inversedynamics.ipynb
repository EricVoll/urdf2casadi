{
 "cells": [
  {
   "cell_type": "code",
   "execution_count": 1,
   "metadata": {},
   "outputs": [
    {
     "name": "stdout",
     "output_type": "stream",
     "text": [
      "The root link base_link has an inertia specified in the URDF, but KDL does not support a root link with an inertia.  As a workaround, you can add an extra dummy link to your URDF.\n",
      "./urdf2casadi/examples/urdf/test.urdf\n"
     ]
    }
   ],
   "source": [
    "import casadi as cs\n",
    "from urdf_parser_py.urdf import URDF, Pose\n",
    "import os # For current directory\n",
    "import urdf2casadi.urdf2casadi.urdfparser\n",
    "import urdf2casadi.urdf2casadi.geometry.plucker as plucker\n",
    "import numpy as np\n",
    "import PyKDL as kdl\n",
    "import kdl_parser.kdl_parser_py.kdl_parser_py.urdf as kdlurdf\n",
    "from timeit import Timer, timeit, repeat\n",
    "import rbdl\n",
    "\n",
    "ok, ur_tree = kdlurdf.treeFromFile('./urdf2casadi/examples/urdf/test.urdf')\n",
    "#ok, ur_tree = kdlurdf.treeFromFile('pantilt.urdf')\n",
    "asd = urdf2casadi.urdf2casadi.urdfparser.URDFparser()\n",
    "robot_desc = asd.from_file(\"./urdf2casadi/examples/urdf/test.urdf\")\n",
    "#robot_desc = asd.from_file(\"pantilt.urdf\")\n",
    "root = 'base_link'\n",
    "tip = 'wrist_3_link'\n",
    "ur_chain = ur_tree.getChain(root,tip)\n",
    "rbdlmodel = rbdl.loadModel(\"ur5_rbdl.urdf\")"
   ]
  },
  {
   "cell_type": "code",
   "execution_count": 2,
   "metadata": {},
   "outputs": [
    {
     "name": "stdout",
     "output_type": "stream",
     "text": [
      "6\n",
      "6\n",
      "@1=0, [@1, @1, @1, @1, @1, @1]\n"
     ]
    }
   ],
   "source": [
    "jlist, names, qmax, qmin = asd.get_joint_info(root, tip)\n",
    "njoints = len(jlist)\n",
    "print njoints\n",
    "print len(qmax)\n",
    "\n",
    "H_ur = kdl.JntSpaceInertiaMatrix(6)\n",
    "\n",
    "grav = kdl.Vector()\n",
    "grav[2] = -9.81\n",
    "\n",
    "q = kdl.JntArray(njoints)\n",
    "qdot = kdl.JntArray(njoints)\n",
    "\n",
    "q_np = np.zeros(njoints)\n",
    "qdot_np = np.zeros(njoints)\n",
    "qddot_np = np.zeros(njoints)\n",
    "tau_rbdl = np.zeros(njoints)\n",
    "\n",
    "q_sx = cs.SX.zeros(njoints)\n",
    "print q_sx\n",
    "qdot_sx = cs.SX.zeros(njoints)\n",
    "\n",
    "q_none = [None]*njoints\n",
    "qdot_none = [None]*njoints\n",
    "qddot_none = [None]*njoints\n",
    "\n",
    "\n",
    "tau_kdl = kdl.JntArray(njoints)\n",
    "grav_kdl = kdl.JntArray(njoints)\n",
    "\n",
    "nitr = 50000\n",
    "nrepeat = 3\n",
    "\n",
    "M_rbdl = (rbdlmodel.q_size, rbdlmodel.q_size)\n",
    "M_rbdl = np.zeros(M_rbdl)\n",
    "\n"
   ]
  },
  {
   "cell_type": "code",
   "execution_count": 14,
   "metadata": {},
   "outputs": [
    {
     "name": "stdout",
     "output_type": "stream",
     "text": [
      "[2.473716974258423, 2.3878560066223145, 2.4360198974609375, 2.3810958862304688, 2.467115879058838, 2.3593969345092773, 2.4299259185791016, 2.4418880939483643]\n"
     ]
    }
   ],
   "source": [
    "tau_u2c = asd.get_inverse_dynamics_RNEA(root, tip, grav)\n",
    "#q_none = [1., 1., 1., 1., 1., 1.]\n",
    "#qdot_none = [1., 1., 1., 1., 1., 1.]\n",
    "#qddot_none = [1., 1., 1., 1., 1., 1.]\n",
    "def idrnea_u2c():   \n",
    "    for j in range(njoints):\n",
    "        q_none[j] = (qmax[j] - qmin[j])*np.random.rand()-(qmax[j] - qmin[j])/2\n",
    "        qdot_none[j] = (qmax[j] - qmin[j])*np.random.rand()-(qmax[j] - qmin[j])/2\n",
    "        qddot_none[j] = (qmax[j] - qmin[j])*np.random.rand()-(qmax[j] - qmin[j])/2\n",
    "\n",
    "    tau_u2c(q_none, qdot_none, qddot_none)\n",
    "\n",
    "#timeit_fdcrba = timeit(\"fdcrba_u2c()\", setup = \"from __main__ import fdcrba_u2c\", number = 50000)\n",
    "#print timeit_fdcrba\n",
    "#print timeit_fdcrba/50000\n",
    "timeit_idrnea_repeat = repeat(\"idrnea_u2c()\", setup = \"from __main__ import idrnea_u2c\", repeat = 8, number = 50000)\n",
    "print timeit_idrnea_repeat"
   ]
  },
  {
   "cell_type": "code",
   "execution_count": 17,
   "metadata": {},
   "outputs": [
    {
     "name": "stdout",
     "output_type": "stream",
     "text": [
      "[1.990778923034668, 2.0226800441741943, 2.913455009460449, 2.3995749950408936, 1.9109230041503906, 2.2883129119873047, 2.560305118560791, 2.7022480964660645]\n"
     ]
    }
   ],
   "source": [
    "def id_rbdl():   \n",
    "    for j in range(njoints):\n",
    "        q_np[j] = (qmax[j] - qmin[j])*np.random.rand()-(qmax[j] - qmin[j])/2\n",
    "        qdot_np[j] = (qmax[j] - qmin[j])*np.random.rand()-(qmax[j] - qmin[j])/2\n",
    "        qddot_np[j] = (qmax[j] - qmin[j])*np.random.rand()-(qmax[j] - qmin[j])/2\n",
    "\n",
    "    rbdl.InverseDynamics(rbdlmodel, q_np, qdot_np, qddot_np, tau_rbdl)\n",
    "\n",
    "timeit_idrbdl_repeat = repeat(\"id_rbdl()\", setup = \"from __main__ import id_rbdl\", repeat = 8, number = 50000)\n",
    "print timeit_idrbdl_repeat"
   ]
  },
  {
   "cell_type": "code",
   "execution_count": null,
   "metadata": {},
   "outputs": [],
   "source": []
  },
  {
   "cell_type": "code",
   "execution_count": null,
   "metadata": {},
   "outputs": [],
   "source": []
  }
 ],
 "metadata": {
  "kernelspec": {
   "display_name": "Python 2",
   "language": "python",
   "name": "python2"
  },
  "language_info": {
   "codemirror_mode": {
    "name": "ipython",
    "version": 2
   },
   "file_extension": ".py",
   "mimetype": "text/x-python",
   "name": "python",
   "nbconvert_exporter": "python",
   "pygments_lexer": "ipython2",
   "version": "2.7.12"
  }
 },
 "nbformat": 4,
 "nbformat_minor": 2
}
