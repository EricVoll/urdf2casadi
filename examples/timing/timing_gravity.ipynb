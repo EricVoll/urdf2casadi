{
 "cells": [
  {
   "cell_type": "code",
   "execution_count": 3,
   "metadata": {},
   "outputs": [
    {
     "name": "stdout",
     "output_type": "stream",
     "text": [
      "The root link base_link has an inertia specified in the URDF, but KDL does not support a root link with an inertia.  As a workaround, you can add an extra dummy link to your URDF.\n",
      "ur5_rbdl.urdf\n"
     ]
    }
   ],
   "source": [
    "import casadi as cs\n",
    "from urdf_parser_py.urdf import URDF, Pose\n",
    "import os # For current directory\n",
    "import urdf2casadi.urdf2casadi.urdfparser\n",
    "import urdf2casadi.urdf2casadi.geometry.plucker as plucker\n",
    "import numpy as np\n",
    "import PyKDL as kdl\n",
    "import kdl_parser.kdl_parser_py.kdl_parser_py.urdf as kdlurdf\n",
    "from timeit import Timer, timeit, repeat\n",
    "import rbdl\n",
    "\n",
    "ok, ur_tree = kdlurdf.treeFromFile('ur5_rbdl.urdf')\n",
    "asd = urdf2casadi.urdf2casadi.urdfparser.URDFparser()\n",
    "robot_desc = asd.from_file(\"ur5_rbdl.urdf\")\n",
    "root = 'base_link'\n",
    "tip = 'wrist_3_link'\n",
    "ur_chain = ur_tree.getChain(root,tip)\n",
    "rbdlmodel = rbdl.loadModel(\"ur5_rbdl.urdf\")"
   ]
  },
  {
   "cell_type": "code",
   "execution_count": 4,
   "metadata": {},
   "outputs": [
    {
     "name": "stdout",
     "output_type": "stream",
     "text": [
      "6\n",
      "6\n",
      "@1=0, [@1, @1, @1, @1, @1, @1]\n"
     ]
    }
   ],
   "source": [
    "jlist, names, qmax, qmin = asd.get_joint_info(root, tip)\n",
    "njoints = len(jlist)\n",
    "print njoints\n",
    "print len(qmax)\n",
    "\n",
    "H_ur = kdl.JntSpaceInertiaMatrix(6)\n",
    "\n",
    "grav = kdl.Vector()\n",
    "grav[2] = -9.81\n",
    "\n",
    "q = kdl.JntArray(njoints)\n",
    "qdot = kdl.JntArray(njoints)\n",
    "\n",
    "q_np = np.zeros(njoints)\n",
    "qdot_np = np.zeros(njoints)\n",
    "qddot_np = np.zeros(njoints)\n",
    "\n",
    "q_sx = cs.SX.zeros(njoints)\n",
    "print q_sx\n",
    "qdot_sx = cs.SX.zeros(njoints)\n",
    "\n",
    "q_none = [None]*njoints\n",
    "qdot_none = [None]*njoints\n",
    "qddot_none = [None]*njoints\n",
    "\n",
    "tau_kdl = kdl.JntArray(njoints)\n",
    "grav_kdl = kdl.JntArray(njoints)\n",
    "\n",
    "nitr = 50000\n",
    "nrepeat = 10"
   ]
  },
  {
   "cell_type": "code",
   "execution_count": null,
   "metadata": {},
   "outputs": [],
   "source": [
    "g = asd.get_gravity_RNEA(root, tip, grav)\n",
    "def g_u2c_func():    \n",
    "    for j in range(njoints):\n",
    "        q_none[j] = (qmax[j] - qmin[j])*np.random.rand()-(qmax[j] - qmin[j])/2\n",
    "        #qdot_none[j] = (qmax[j] - qmin[j])*np.random.rand()-(qmax[j] - qmin[j])/2\n",
    "\n",
    "    g(q_none)\n",
    "\n",
    "#timeit_g_u2c = timeit(\"g_u2c_func()\", setup = \"from __main__ import g_u2c_func\", number = nitr)\n",
    "#print timeit_g_u2c\n",
    "#print timeit_g_u2c/nitr\n",
    "timeit_g_u2c_repeat = repeat(\"g_u2c_func()\", setup = \"from __main__ import g_u2c_func\", repeat = 10, number = nitr)\n",
    "print timeit_g_u2c_repeat\n",
    "\n",
    "\n",
    "#print g(np.ones(njoints))\n",
    "#for i in range(njoints):\n",
    "#    q[i] = 1.\n",
    "#kdl.ChainDynParam(ur_chain, grav).JntToGravity(q, tau_kdl)\n",
    "#print tau_kdl"
   ]
  },
  {
   "cell_type": "code",
   "execution_count": null,
   "metadata": {},
   "outputs": [],
   "source": [
    "def g_kdl():\n",
    "    for j in range(njoints):\n",
    "        q[j] = (qmax[j] - qmin[j])*np.random.rand()-(qmax[j] - qmin[j])/2\n",
    "        #qdot[j] = (qmax[j] - qmin[j])*np.random.rand()-(qmax[j] - qmin[j])/2\n",
    "\n",
    "    kdl.ChainDynParam(ur_chain, grav).JntToGravity(q, tau_kdl)\n",
    "#kdl_time = [None]*30\n",
    "\n",
    "#timeit_g_kdl = timeit(\"g_kdl()\", setup = \"from __main__ import g_kdl\", number = nitr)\n",
    "#print timeit_g_kdl\n",
    "#print timeit_g_kdl/nitr\n",
    "timeit_g_kdl_repeat = repeat(\"g_kdl()\", setup = \"from __main__ import g_kdl\", repeat = nrepeat, number = nitr)\n",
    "#print timeit_g_kdl_repeat\n"
   ]
  }
 ],
 "metadata": {
  "kernelspec": {
   "display_name": "Python 2",
   "language": "python",
   "name": "python2"
  },
  "language_info": {
   "codemirror_mode": {
    "name": "ipython",
    "version": 2
   },
   "file_extension": ".py",
   "mimetype": "text/x-python",
   "name": "python",
   "nbconvert_exporter": "python",
   "pygments_lexer": "ipython2",
   "version": "2.7.12"
  }
 },
 "nbformat": 4,
 "nbformat_minor": 2
}
