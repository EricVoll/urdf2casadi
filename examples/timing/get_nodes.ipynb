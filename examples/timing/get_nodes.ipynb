{
 "cells": [
  {
   "cell_type": "code",
   "execution_count": 1,
   "metadata": {},
   "outputs": [],
   "source": [
    "import urdf2casadi.urdfparser as u2c"
   ]
  },
  {
   "cell_type": "code",
   "execution_count": 3,
   "metadata": {},
   "outputs": [
    {
     "name": "stdout",
     "output_type": "stream",
     "text": [
      "./urdf4timing/1dof.urdf\n",
      "./urdf4timing/2dof.urdf\n",
      "./urdf4timing/3dof.urdf\n",
      "./urdf4timing/4dof.urdf\n",
      "./urdf4timing/5dof.urdf\n",
      "./urdf4timing/6dof.urdf\n",
      "./urdf4timing/7dof.urdf\n",
      "./urdf4timing/8dof.urdf\n",
      "./urdf4timing/9dof.urdf\n",
      "./urdf4timing/10dof.urdf\n",
      "./urdf4timing/11dof.urdf\n",
      "./urdf4timing/12dof.urdf\n",
      "./urdf4timing/13dof.urdf\n",
      "./urdf4timing/14dof.urdf\n",
      "./urdf4timing/15dof.urdf\n",
      "./urdf4timing/16dof.urdf\n",
      "./urdf4timing/17dof.urdf\n",
      "./urdf4timing/18dof.urdf\n",
      "./urdf4timing/19dof.urdf\n",
      "./urdf4timing/20dof.urdf\n",
      "./urdf4timing/21dof.urdf\n",
      "./urdf4timing/22dof.urdf\n",
      "./urdf4timing/23dof.urdf\n",
      "./urdf4timing/24dof.urdf\n",
      "./urdf4timing/25dof.urdf\n",
      "./urdf4timing/26dof.urdf\n",
      "./urdf4timing/27dof.urdf\n",
      "./urdf4timing/28dof.urdf\n",
      "./urdf4timing/29dof.urdf\n",
      "./urdf4timing/30dof.urdf\n",
      "./urdf4timing/31dof.urdf\n",
      "./urdf4timing/32dof.urdf\n"
     ]
    }
   ],
   "source": [
    "ndofs = 32\n",
    "urdf_nr = list(range(ndofs + 1))\n",
    "urdf_nr.pop(0)\n",
    "\n",
    "robot = u2c.URDFparser()\n",
    "root = \"base_link\"\n",
    "\n",
    "id_nodes = [None]*ndofs\n",
    "g_nodes = [None]*ndofs\n",
    "c_nodes = [None]*ndofs\n",
    "gravity = [0, 0, -9.81]\n",
    "for i in range(ndofs):\n",
    "    path_to_urdf = \"./urdf4timing/\" + str(urdf_nr[i]) + \"dof.urdf\"\n",
    "    robot.from_file(path_to_urdf)\n",
    "    tip = \"link\" + str(urdf_nr[i])\n",
    "    tau_id = robot.get_inverse_dynamics_rnea(root, tip)\n",
    "    tau_g = robot.get_gravity_rnea(root, tip, gravity)\n",
    "    tau_c = robot.get_coriolis_rnea(root, tip)\n",
    "    id_nodes[i] = tau_id.n_nodes()\n",
    "    g_nodes[i] = tau_g.n_nodes()\n",
    "    c_nodes[i] = tau_c.n_nodes()\n",
    "    \n",
    "    "
   ]
  },
  {
   "cell_type": "code",
   "execution_count": 4,
   "metadata": {},
   "outputs": [
    {
     "name": "stdout",
     "output_type": "stream",
     "text": [
      "[3, 116, 295, 478, 604, 733, 870, 1104, 1237, 1363, 1489, 1626, 1825, 1995, 2128, 2253, 2378, 2503, 2636, 2839, 3038, 3208, 3341, 3466, 3591, 3724, 3923, 4093, 4226, 4351, 4476, 4609]\n",
      "[1, 93, 255, 436, 560, 687, 823, 1054, 1185, 1309, 1433, 1569, 1766, 1934, 2065, 2188, 2311, 2434, 2565, 2766, 2963, 3131, 3262, 3385, 3508, 3639, 3836, 4004, 4135, 4258, 4381, 4512]\n",
      "[1, 26, 94, 148, 188, 226, 269, 352, 390, 429, 465, 504, 574, 628, 666, 704, 736, 774, 810, 883, 950, 1004, 1042, 1080, 1115, 1151, 1221, 1275, 1313, 1351, 1386, 1422]\n"
     ]
    }
   ],
   "source": [
    "print id_nodes\n",
    "print c_nodes \n",
    "print g_nodes"
   ]
  },
  {
   "cell_type": "code",
   "execution_count": null,
   "metadata": {},
   "outputs": [],
   "source": []
  }
 ],
 "metadata": {
  "kernelspec": {
   "display_name": "Python 2",
   "language": "python",
   "name": "python2"
  },
  "language_info": {
   "codemirror_mode": {
    "name": "ipython",
    "version": 2
   },
   "file_extension": ".py",
   "mimetype": "text/x-python",
   "name": "python",
   "nbconvert_exporter": "python",
   "pygments_lexer": "ipython2",
   "version": "2.7.12"
  }
 },
 "nbformat": 4,
 "nbformat_minor": 2
}
