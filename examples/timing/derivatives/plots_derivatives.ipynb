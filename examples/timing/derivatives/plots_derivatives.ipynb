{
 "cells": [
  {
   "cell_type": "code",
   "execution_count": 10,
   "metadata": {},
   "outputs": [],
   "source": [
    "%store -r mediantime_fd_crbaj\n",
    "%store -r mediantime_fd_abaj\n",
    "%store -r mediantime_Mj \n",
    "%store -r mediantime_Cj\n",
    "%store -r mediantime_idj\n",
    "%store -r mediantime_gj \n",
    "\n",
    "%store -r mediantime_g_u2c\n",
    "%store -r mediantime_C_u2c\n",
    "%store -r mediantime_id_u2c\n",
    "%store -r mediantime_M_u2c\n",
    "%store -r mediantime_fd_aba_u2c\n",
    "%store -r mediantime_fd_crba_u2c"
   ]
  },
  {
   "cell_type": "code",
   "execution_count": 11,
   "metadata": {},
   "outputs": [],
   "source": [
    "scale = 1000000\n",
    "\n",
    "mediantime_fd_crbaj = mediantime_fd_crbaj*scale\n",
    "mediantime_fd_abaj = mediantime_fd_abaj*scale\n",
    "mediantime_Mj = mediantime_Mj*scale\n",
    "mediantime_Cj= mediantime_Cj*scale\n",
    "mediantime_idj=mediantime_idj*scale\n",
    "mediantime_gj = mediantime_gj*scale\n",
    "\n",
    "mediantime_g_u2c = mediantime_g_u2c*scale\n",
    "mediantime_C_u2c= mediantime_C_u2c*scale\n",
    "mediantime_id_u2c= mediantime_id_u2c*scale\n",
    "mediantime_M_u2c= mediantime_M_u2c*scale\n",
    "mediantime_fd_aba_u2c= mediantime_fd_aba_u2c*scale\n",
    "mediantime_fd_crba_u2c= mediantime_fd_crba_u2c*scale"
   ]
  },
  {
   "cell_type": "code",
   "execution_count": 12,
   "metadata": {},
   "outputs": [],
   "source": [
    "palette1 = [\"#AA8439\", \"#7B9F35\", \"#882D61\", \"#2E4272\"]\n",
    "palette2 = [\"#DA9815\", \"#8ECB14\", \"#AF116A\", \"#1C4092\"] \n",
    "palette3 = [\"#FFAA00\", \"#A0F000\", \"#D30077\", \"#0B3FB5\"]"
   ]
  },
  {
   "cell_type": "code",
   "execution_count": 18,
   "metadata": {},
   "outputs": [],
   "source": [
    "from bokeh.core.properties import value\n",
    "from bokeh.io import show, output_file\n",
    "from bokeh.models import ColumnDataSource\n",
    "from bokeh.plotting import figure\n",
    "from bokeh.transform import dodge\n",
    "from bokeh.models import ColumnDataSource, ranges, LabelSet\n",
    "\n",
    "output_file(\"dodged_bars.html\")\n",
    "\n",
    "fruits = ['G', 'C', 'ID', 'M', 'FD (CRBA)', 'FD (ABA)']\n",
    "years = ['pybullet', 'RBDL', 'u2c']\n",
    "\n",
    "data = {'fruits' : fruits,\n",
    "        'u2c'   : [mediantime_g_u2c, mediantime_C_u2c, mediantime_id_u2c, mediantime_M_u2c, mediantime_fd_crba_u2c, mediantime_fd_aba_u2c],\n",
    "        'u2c derivatives'   : [mediantime_gj, mediantime_Cj , mediantime_idj , mediantime_Mj , mediantime_fd_crbaj, mediantime_fd_abaj]}\n",
    "\n",
    "\n",
    "#data = {'fruits' : fruits,\n",
    "#        'pybullet'   : [0.0002, 0.0001, 0.0004, 0.0003, .00002],\n",
    "#        'RBDL'   : [0.0005, 0.0003, 0.0003, 0.0002, 0.0004],\n",
    "#        'u2c'   : [0.0003, 0.0002, 0.0004, 0.0004, 0.0005]}\n",
    "\n",
    "\n",
    "source = ColumnDataSource(data=data)\n",
    "\n",
    "p1 = figure(x_range=fruits, y_range=(0, 75), plot_height=170, title=\"7-dof kuka-lwr\",\n",
    "           toolbar_location=None, tools=\"\", plot_width = 400)\n",
    "\n",
    "p1.vbar(x=dodge('fruits', -0.10, range=p1.x_range), top='u2c', width=0.2, source=source,\n",
    "       color=palette2[2],  legend=value(\"u2c\"))\n",
    "\n",
    "p1.vbar(x=dodge('fruits',  +0.10,  range=p1.x_range), top='u2c derivatives', width=0.2, source=source,\n",
    "       color=palette2[0],  legend=value(\"u2c derivatives\"))\n",
    "\n",
    "\n",
    "labels = LabelSet(x='fruits', level='glyph',\n",
    "        x_offset=-13.5, y_offset=0, source=source, render_mode='canvas')\n",
    "\n",
    "p1.x_range.range_padding = 0.1\n",
    "p1.xgrid.grid_line_color = None\n",
    "p1.legend.location = \"top_left\"\n",
    "p1.legend.orientation = \"horizontal\"\n",
    "p1.yaxis.axis_label = 'computation time [us]'\n",
    "p1.axis.minor_tick_line_color = None\n",
    "\n",
    "show(p1)"
   ]
  },
  {
   "cell_type": "code",
   "execution_count": null,
   "metadata": {},
   "outputs": [],
   "source": []
  }
 ],
 "metadata": {
  "kernelspec": {
   "display_name": "Python 2",
   "language": "python",
   "name": "python2"
  },
  "language_info": {
   "codemirror_mode": {
    "name": "ipython",
    "version": 2
   },
   "file_extension": ".py",
   "mimetype": "text/x-python",
   "name": "python",
   "nbconvert_exporter": "python",
   "pygments_lexer": "ipython2",
   "version": "2.7.12"
  }
 },
 "nbformat": 4,
 "nbformat_minor": 2
}
