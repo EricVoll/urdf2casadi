{
 "cells": [
  {
   "cell_type": "code",
   "execution_count": 1,
   "metadata": {},
   "outputs": [],
   "source": [
    "import numpy as np \n",
    "import urdf2casadi.urdfparser as u2c\n",
    "from urdf2casadi.geometry import plucker\n",
    "from urdf_parser_py.urdf import URDF, Pose\n",
    "import PyKDL as kdl\n",
    "import kdl_parser.kdl_parser_py.kdl_parser_py.urdf as kdlurdf\n",
    "from timeit import Timer, timeit, repeat\n",
    "import rbdl\n",
    "import pybullet as pb\n"
   ]
  },
  {
   "cell_type": "code",
   "execution_count": 2,
   "metadata": {},
   "outputs": [],
   "source": [
    "def median(lst):\n",
    "    n = len(lst)\n",
    "    if n < 1:\n",
    "            return None\n",
    "    if n % 2 == 1:\n",
    "            return sorted(lst)[n//2]\n",
    "    else:\n",
    "            return sum(sorted(lst)[n//2-1:n//2+1])/2.0\n",
    "        \n",
    "def average(lst): \n",
    "    return sum(lst) / len(lst) "
   ]
  },
  {
   "cell_type": "code",
   "execution_count": 3,
   "metadata": {},
   "outputs": [
    {
     "name": "stdout",
     "output_type": "stream",
     "text": [
      "0\n",
      "The root link base_link has an inertia specified in the URDF, but KDL does not support a root link with an inertia.  As a workaround, you can add an extra dummy link to your URDF.\n",
      "/home/lillmaria/urdf2casadi/examples/timing/urdf4timing/1dof.urdf\n",
      "1\n",
      "The root link base_link has an inertia specified in the URDF, but KDL does not support a root link with an inertia.  As a workaround, you can add an extra dummy link to your URDF.\n",
      "/home/lillmaria/urdf2casadi/examples/timing/urdf4timing/2dof.urdf\n",
      "2\n",
      "The root link base_link has an inertia specified in the URDF, but KDL does not support a root link with an inertia.  As a workaround, you can add an extra dummy link to your URDF.\n",
      "/home/lillmaria/urdf2casadi/examples/timing/urdf4timing/3dof.urdf\n",
      "3\n",
      "The root link base_link has an inertia specified in the URDF, but KDL does not support a root link with an inertia.  As a workaround, you can add an extra dummy link to your URDF.\n",
      "/home/lillmaria/urdf2casadi/examples/timing/urdf4timing/4dof.urdf\n",
      "4\n",
      "The root link base_link has an inertia specified in the URDF, but KDL does not support a root link with an inertia.  As a workaround, you can add an extra dummy link to your URDF.\n",
      "/home/lillmaria/urdf2casadi/examples/timing/urdf4timing/5dof.urdf\n",
      "5\n",
      "The root link base_link has an inertia specified in the URDF, but KDL does not support a root link with an inertia.  As a workaround, you can add an extra dummy link to your URDF.\n",
      "/home/lillmaria/urdf2casadi/examples/timing/urdf4timing/6dof.urdf\n",
      "6\n",
      "The root link base_link has an inertia specified in the URDF, but KDL does not support a root link with an inertia.  As a workaround, you can add an extra dummy link to your URDF.\n",
      "/home/lillmaria/urdf2casadi/examples/timing/urdf4timing/7dof.urdf\n",
      "7\n",
      "The root link base_link has an inertia specified in the URDF, but KDL does not support a root link with an inertia.  As a workaround, you can add an extra dummy link to your URDF.\n",
      "/home/lillmaria/urdf2casadi/examples/timing/urdf4timing/8dof.urdf\n",
      "8\n",
      "The root link base_link has an inertia specified in the URDF, but KDL does not support a root link with an inertia.  As a workaround, you can add an extra dummy link to your URDF.\n",
      "/home/lillmaria/urdf2casadi/examples/timing/urdf4timing/9dof.urdf\n",
      "9\n",
      "The root link base_link has an inertia specified in the URDF, but KDL does not support a root link with an inertia.  As a workaround, you can add an extra dummy link to your URDF.\n",
      "/home/lillmaria/urdf2casadi/examples/timing/urdf4timing/10dof.urdf\n",
      "10\n",
      "The root link base_link has an inertia specified in the URDF, but KDL does not support a root link with an inertia.  As a workaround, you can add an extra dummy link to your URDF.\n",
      "/home/lillmaria/urdf2casadi/examples/timing/urdf4timing/11dof.urdf\n",
      "11\n",
      "The root link base_link has an inertia specified in the URDF, but KDL does not support a root link with an inertia.  As a workaround, you can add an extra dummy link to your URDF.\n",
      "/home/lillmaria/urdf2casadi/examples/timing/urdf4timing/12dof.urdf\n",
      "12\n",
      "The root link base_link has an inertia specified in the URDF, but KDL does not support a root link with an inertia.  As a workaround, you can add an extra dummy link to your URDF.\n",
      "/home/lillmaria/urdf2casadi/examples/timing/urdf4timing/13dof.urdf\n",
      "13\n",
      "The root link base_link has an inertia specified in the URDF, but KDL does not support a root link with an inertia.  As a workaround, you can add an extra dummy link to your URDF.\n",
      "/home/lillmaria/urdf2casadi/examples/timing/urdf4timing/14dof.urdf\n",
      "14\n",
      "The root link base_link has an inertia specified in the URDF, but KDL does not support a root link with an inertia.  As a workaround, you can add an extra dummy link to your URDF.\n",
      "/home/lillmaria/urdf2casadi/examples/timing/urdf4timing/15dof.urdf\n",
      "15\n",
      "The root link base_link has an inertia specified in the URDF, but KDL does not support a root link with an inertia.  As a workaround, you can add an extra dummy link to your URDF.\n",
      "/home/lillmaria/urdf2casadi/examples/timing/urdf4timing/16dof.urdf\n",
      "16\n",
      "The root link base_link has an inertia specified in the URDF, but KDL does not support a root link with an inertia.  As a workaround, you can add an extra dummy link to your URDF.\n",
      "/home/lillmaria/urdf2casadi/examples/timing/urdf4timing/17dof.urdf\n",
      "17\n",
      "The root link base_link has an inertia specified in the URDF, but KDL does not support a root link with an inertia.  As a workaround, you can add an extra dummy link to your URDF.\n",
      "/home/lillmaria/urdf2casadi/examples/timing/urdf4timing/18dof.urdf\n",
      "18\n",
      "The root link base_link has an inertia specified in the URDF, but KDL does not support a root link with an inertia.  As a workaround, you can add an extra dummy link to your URDF.\n",
      "/home/lillmaria/urdf2casadi/examples/timing/urdf4timing/19dof.urdf\n",
      "19\n",
      "The root link base_link has an inertia specified in the URDF, but KDL does not support a root link with an inertia.  As a workaround, you can add an extra dummy link to your URDF.\n",
      "/home/lillmaria/urdf2casadi/examples/timing/urdf4timing/20dof.urdf\n",
      "20\n",
      "The root link base_link has an inertia specified in the URDF, but KDL does not support a root link with an inertia.  As a workaround, you can add an extra dummy link to your URDF.\n",
      "/home/lillmaria/urdf2casadi/examples/timing/urdf4timing/21dof.urdf\n",
      "21\n",
      "The root link base_link has an inertia specified in the URDF, but KDL does not support a root link with an inertia.  As a workaround, you can add an extra dummy link to your URDF.\n",
      "/home/lillmaria/urdf2casadi/examples/timing/urdf4timing/22dof.urdf\n",
      "22\n",
      "The root link base_link has an inertia specified in the URDF, but KDL does not support a root link with an inertia.  As a workaround, you can add an extra dummy link to your URDF.\n",
      "/home/lillmaria/urdf2casadi/examples/timing/urdf4timing/23dof.urdf\n",
      "23\n",
      "The root link base_link has an inertia specified in the URDF, but KDL does not support a root link with an inertia.  As a workaround, you can add an extra dummy link to your URDF.\n",
      "/home/lillmaria/urdf2casadi/examples/timing/urdf4timing/24dof.urdf\n",
      "24\n",
      "The root link base_link has an inertia specified in the URDF, but KDL does not support a root link with an inertia.  As a workaround, you can add an extra dummy link to your URDF.\n",
      "/home/lillmaria/urdf2casadi/examples/timing/urdf4timing/25dof.urdf\n",
      "25\n",
      "The root link base_link has an inertia specified in the URDF, but KDL does not support a root link with an inertia.  As a workaround, you can add an extra dummy link to your URDF.\n",
      "/home/lillmaria/urdf2casadi/examples/timing/urdf4timing/26dof.urdf\n",
      "26\n",
      "The root link base_link has an inertia specified in the URDF, but KDL does not support a root link with an inertia.  As a workaround, you can add an extra dummy link to your URDF.\n",
      "/home/lillmaria/urdf2casadi/examples/timing/urdf4timing/27dof.urdf\n",
      "27\n",
      "The root link base_link has an inertia specified in the URDF, but KDL does not support a root link with an inertia.  As a workaround, you can add an extra dummy link to your URDF.\n",
      "/home/lillmaria/urdf2casadi/examples/timing/urdf4timing/28dof.urdf\n",
      "28\n",
      "The root link base_link has an inertia specified in the URDF, but KDL does not support a root link with an inertia.  As a workaround, you can add an extra dummy link to your URDF.\n",
      "/home/lillmaria/urdf2casadi/examples/timing/urdf4timing/29dof.urdf\n",
      "29\n",
      "The root link base_link has an inertia specified in the URDF, but KDL does not support a root link with an inertia.  As a workaround, you can add an extra dummy link to your URDF.\n",
      "/home/lillmaria/urdf2casadi/examples/timing/urdf4timing/30dof.urdf\n",
      "30\n",
      "The root link base_link has an inertia specified in the URDF, but KDL does not support a root link with an inertia.  As a workaround, you can add an extra dummy link to your URDF.\n",
      "/home/lillmaria/urdf2casadi/examples/timing/urdf4timing/31dof.urdf\n",
      "31\n",
      "The root link base_link has an inertia specified in the URDF, but KDL does not support a root link with an inertia.  As a workaround, you can add an extra dummy link to your URDF.\n",
      "/home/lillmaria/urdf2casadi/examples/timing/urdf4timing/32dof.urdf\n",
      "32\n",
      "The root link base_link has an inertia specified in the URDF, but KDL does not support a root link with an inertia.  As a workaround, you can add an extra dummy link to your URDF.\n",
      "/home/lillmaria/urdf2casadi/examples/timing/urdf4timing/33dof.urdf\n"
     ]
    },
    {
     "name": "stdout",
     "output_type": "stream",
     "text": [
      "33\n",
      "The root link base_link has an inertia specified in the URDF, but KDL does not support a root link with an inertia.  As a workaround, you can add an extra dummy link to your URDF.\n",
      "/home/lillmaria/urdf2casadi/examples/timing/urdf4timing/34dof.urdf\n"
     ]
    }
   ],
   "source": [
    "#pb.connect(pb.DIRECT)\n",
    "#pbmodel = pb.loadURDF(\"pantilt.urdf\")\n",
    "ndofs = 34\n",
    "urdf_nr = list(range(ndofs + 1))\n",
    "urdf_nr.pop(0)\n",
    "\n",
    "#storage for timing data\n",
    "mediantime_kdl = [None]*ndofs\n",
    "mediantime_u2c = [None]*ndofs\n",
    "mediantime_rbdl = [None]*ndofs\n",
    "mediantime_pb = [None]*ndofs\n",
    "mintime_kdl = [None]*ndofs\n",
    "mintime_u2c = [None]*ndofs\n",
    "mintime_rbdl = [None]*ndofs\n",
    "mintime_pb = [None]*ndofs\n",
    "averagetime_kdl = [None]*ndofs\n",
    "averagetime_u2c = [None]*ndofs\n",
    "averagetime_rbdl = [None]*ndofs\n",
    "averagetime_pb = [None]*ndofs\n",
    "    \n",
    "for i in range(ndofs):    \n",
    "    print i\n",
    "    path_to_urdf = \"/home/lillmaria/urdf2casadi/examples/timing/urdf4timing/\" + str(urdf_nr[i]) + \"dof.urdf\"\n",
    "    end_link = \"link\" + str(urdf_nr[i])\n",
    "    root = 'base_link'\n",
    "    tip = end_link\n",
    "    \n",
    "    ok, kdl_tree = kdlurdf.treeFromFile(path_to_urdf)\n",
    "    kdlmodel = kdl_tree.getChain(root,tip)\n",
    "    \n",
    "    asd = u2c.URDFparser()\n",
    "    robot_desc = asd.from_file(path_to_urdf)\n",
    "    \n",
    "    jlist, names, qmax, qmin = asd.get_joint_info(root, tip)\n",
    "    njoints = len(jlist)\n",
    "\n",
    "    g_kdl = kdl.Vector()\n",
    "    M_kdl = kdl.JntSpaceInertiaMatrix(6)\n",
    "    #M_rbdl = (rbdlmodel.q_size, rbdlmodel.q_size)\n",
    "    #M_rbdl = np.zeros(M_rbdl)\n",
    "\n",
    "    q_kdl = kdl.JntArray(njoints)\n",
    "    q_np = np.zeros(njoints)\n",
    "    q_none = [None]*njoints\n",
    "\n",
    "    nitr = 50000\n",
    "    nrepeat = 10\n",
    "    \n",
    "    def M_kdl_func():\n",
    "        for j in range(njoints):\n",
    "            q_kdl[j] = (qmax[j] - qmin[j])*np.random.rand()-(qmax[j] - qmin[j])/2\n",
    "            #qdot[j] = (qmax[j] - qmin[j])*np.random.rand()-(qmax[j] - qmin[j])/2\n",
    "\n",
    "        kdl.ChainDynParam(kdlmodel, g_kdl).JntToMass(q_kdl, M_kdl)\n",
    "\n",
    "    timeit_kdl = repeat(\"M_kdl_func()\", setup = \"from __main__ import M_kdl_func\", repeat = nrepeat, number = nitr)\n",
    "    mintime_kdl[i] = min(timeit_kdl)\n",
    "    mediantime_kdl[i] = median(timeit_kdl)\n",
    "    averagetime_kdl[i] = average(timeit_kdl)\n",
    "    \n",
    "    \n",
    "    M_u2c = asd.get_jointspace_inertia_matrix(root, tip)\n",
    "    def M_u2c_func():   \n",
    "        for j in range(njoints):\n",
    "            q_none = (qmax[j] - qmin[j])*np.random.rand()-(qmax[j] - qmin[j])/2\n",
    "            #qdot_np[j] = (qmax[j] - qmin[j])*np.random.rand()-(qmax[j] - qmin[j])/2\n",
    "\n",
    "        M_u2c(q_none)\n",
    "\n",
    "    timeit_u2c = repeat(\"M_u2c_func()\", setup = \"from __main__ import M_u2c_func\", repeat = nrepeat, number = nitr)\n",
    "    mintime_u2c[i] = min(timeit_u2c)\n",
    "    mediantime_u2c[i] = median(timeit_u2c)\n",
    "    averagetime_u2c[i] = average(timeit_u2c)\n",
    "\n",
    "\n",
    "    \n",
    "    "
   ]
  },
  {
   "cell_type": "code",
   "execution_count": 4,
   "metadata": {},
   "outputs": [
    {
     "name": "stdout",
     "output_type": "stream",
     "text": [
      "[0.4770638942718506, 0.571026086807251, 0.6215329170227051, 0.6756541728973389, 0.7242310047149658, 0.7712218761444092, 0.8176519870758057, 0.9045069217681885, 0.9215271472930908, 0.9893298149108887, 1.0357840061187744, 1.1041641235351562, 1.1783020496368408, 1.2071561813354492, 1.2616779804229736, 1.3231351375579834, 1.3767189979553223, 1.4301729202270508, 1.4874989986419678, 1.5669760704040527, 1.6557159423828125, 1.6876609325408936, 1.7792601585388184, 1.9752600193023682, 1.9672210216522217, 2.0767340660095215, 2.0569279193878174, 2.1678221225738525, 2.2674570083618164, 2.2695350646972656, 2.380323886871338, 2.4544291496276855, 2.5230369567871094, 2.528869152069092]\n",
      "[0.2987039089202881, 0.38884496688842773, 0.49539709091186523, 0.5541150569915771, 0.6926319599151611, 0.9063780307769775, 0.7847189903259277, 0.8627939224243164, 1.0089240074157715, 1.0847899913787842, 1.1415519714355469, 1.2427217960357666, 1.3027408123016357, 1.347445011138916, 1.4094550609588623, 1.4828100204467773, 1.6886701583862305, 1.7376389503479004, 1.8398199081420898, 1.904278039932251, 1.9714181423187256, 2.024616003036499, 2.074215888977051, 2.12437105178833, 2.187122106552124, 2.2668068408966064, 2.32572603225708, 2.459821939468384, 2.4311602115631104, 2.526603937149048, 2.5626161098480225, 2.655564069747925, 3.0674238204956055, 3.2106359004974365]\n"
     ]
    }
   ],
   "source": [
    "print mintime_u2c\n",
    "print mintime_kdl"
   ]
  },
  {
   "cell_type": "code",
   "execution_count": 5,
   "metadata": {},
   "outputs": [
    {
     "data": {
      "text/plain": [
       "<Figure size 640x480 with 1 Axes>"
      ]
     },
     "metadata": {},
     "output_type": "display_data"
    }
   ],
   "source": [
    "import matplotlib.pyplot as plt\n",
    "import pandas as pd\n",
    "\n",
    "joint_nr = list(range(ndofs + 1))\n",
    "joint_nr.pop(0)\n",
    "plt.scatter(joint_nr, mediantime_kdl, c='r', marker='x', label='kdl')\n",
    "plt.scatter(joint_nr, mediantime_u2c, c='fuchsia', marker='s', label='u2c')\n",
    "#plt.scatter(joint_nr, mediantime_rbdl, c='b', marker='s', label='rbdl')\n",
    "#plt.scatter(joint_nr, mediantime_pb, c='r', marker='s', label='pybullet')\n",
    "plt.legend(loc='upper left')\n",
    "plt.show()"
   ]
  },
  {
   "cell_type": "code",
   "execution_count": 6,
   "metadata": {},
   "outputs": [
    {
     "data": {
      "image/png": "[encoded data removed]",
      "text/plain": [
       "<Figure size 432x288 with 1 Axes>"
      ]
     },
     "metadata": {
      "needs_background": "light"
     },
     "output_type": "display_data"
    }
   ],
   "source": [
    "#joint_nr = list(range(ndofs + 1))\n",
    "#joint_nr.pop(0)\n",
    "plt.scatter(joint_nr, mintime_kdl, c='r', marker='x', label='kdl')\n",
    "plt.scatter(joint_nr, mintime_u2c, c='fuchsia', marker='s', label='u2c')\n",
    "#plt.scatter(joint_nr, mediantime_rbdl, c='b', marker='s', label='rbdl')\n",
    "#plt.scatter(joint_nr, mediantime_pb, c='r', marker='s', label='pybullet')\n",
    "plt.legend(loc='upper left')\n",
    "plt.show()\n"
   ]
  },
  {
   "cell_type": "code",
   "execution_count": 10,
   "metadata": {},
   "outputs": [
    {
     "data": {
      "text/plain": [
       "[Text(0,0,'KDL'), Text(0,0,'U2C')]"
      ]
     },
     "execution_count": 10,
     "metadata": {},
     "output_type": "execute_result"
    },
    {
     "data": {
      "image/png": "[encoded data removed]",
      "text/plain": [
       "<Figure size 576x576 with 1 Axes>"
      ]
     },
     "metadata": {
      "needs_background": "light"
     },
     "output_type": "display_data"
    }
   ],
   "source": [
    "timing_scores = [mediantime_kdl, mediantime_u2c]\n",
    "names = [\"KDL\", \"U2C\"]#, \"RBDL\", \"pybullet\"]\n",
    "boxplot = plt.figure(figsize = (8, 8))\n",
    "boxplot.suptitle(\"Library Timing Comparison\")\n",
    "ax = boxplot.add_subplot(111)\n",
    "ax.boxplot(timing_scores)\n",
    "#plt.boxplot(timing_scores)\n",
    "ax.set_xticklabels(names)"
   ]
  },
  {
   "cell_type": "code",
   "execution_count": 7,
   "metadata": {},
   "outputs": [
    {
     "data": {
      "image/png": "[encoded data removed]",
      "text/plain": [
       "<Figure size 432x288 with 1 Axes>"
      ]
     },
     "metadata": {
      "needs_background": "light"
     },
     "output_type": "display_data"
    }
   ],
   "source": [
    "plt.scatter(joint_nr, averagetime_kdl, c='r', marker='x', label='kdl')\n",
    "plt.scatter(joint_nr, averagetime_u2c, c='fuchsia', marker='s', label='u2c')\n",
    "#plt.scatter(joint_nr, mediantime_rbdl, c='b', marker='s', label='rbdl')\n",
    "#plt.scatter(joint_nr, mediantime_pb, c='r', marker='s', label='pybullet')\n",
    "plt.legend(loc='upper left')\n",
    "plt.show()\n"
   ]
  },
  {
   "cell_type": "code",
   "execution_count": 8,
   "metadata": {},
   "outputs": [],
   "source": [
    "#kjoere alt og lagre data:\n",
    "\n",
    "def M_kdl_func():\n",
    "    for j in range(njoints):\n",
    "        q_kdl[j] = (qmax[j] - qmin[j])*np.random.rand()-(qmax[j] - qmin[j])/2\n",
    "        #qdot[j] = (qmax[j] - qmin[j])*np.random.rand()-(qmax[j] - qmin[j])/2\n",
    "\n",
    "    kdl.ChainDynParam(kdlmodel, g_kdl).JntToMass(q_kdl, M_kdl)\n",
    "\n",
    "timeit_kdl = repeat(\"M_kdl_func()\", setup = \"from __main__ import M_kdl_func\", repeat = nrepeat, number = nitr)\n",
    "mintime_kdl[njoints-1] = min(timeit_kdl)\n",
    "mediantime_kdl[njoints-1] = median(timeit_kdl)\n",
    "averagetime_kdl[njoints-1] = average(timeit_kdl)\n",
    "#print median(timeit_kdl)\n",
    "#print average(timeit_kdl)\n",
    "#print timeit_kdl\n",
    "#print min(timeit_kdl)\n",
    "#print max(timeit_kdl)"
   ]
  },
  {
   "cell_type": "code",
   "execution_count": 9,
   "metadata": {},
   "outputs": [],
   "source": [
    "M_u2c = asd.get_jointspace_inertia_matrix(root, tip)\n",
    "def M_u2c_func():   \n",
    "    for j in range(njoints):\n",
    "        q_none = (qmax[j] - qmin[j])*np.random.rand()-(qmax[j] - qmin[j])/2\n",
    "        #qdot_np[j] = (qmax[j] - qmin[j])*np.random.rand()-(qmax[j] - qmin[j])/2\n",
    "\n",
    "    M_u2c(q_none)\n",
    "\n",
    "timeit_u2c = repeat(\"M_u2c_func()\", setup = \"from __main__ import M_u2c_func\", repeat = nrepeat, number = nitr)\n",
    "\n",
    "mintime_u2c[njoints-1] = min(timeit_u2c)\n",
    "mediantime_u2c[njoints-1] = median(timeit_u2c)\n",
    "averagetime_u2c[njoints-1] = average(timeit_u2c)\n",
    "#print median(timeit_u2c)\n",
    "#print average(timeit_u2c)\n",
    "#print timeit_u2c\n",
    "#print min(timeit_u2c)\n",
    "#print max(timeit_u2c)"
   ]
  },
  {
   "cell_type": "code",
   "execution_count": 10,
   "metadata": {},
   "outputs": [
    {
     "ename": "NameError",
     "evalue": "global name 'rbdlmodel' is not defined",
     "output_type": "error",
     "traceback": [
      "\u001b[0;31m---------------------------------------------------------------------------\u001b[0m",
      "\u001b[0;31mNameError\u001b[0m                                 Traceback (most recent call last)",
      "\u001b[0;32m<ipython-input-10-865bd15a2dcd>\u001b[0m in \u001b[0;36m<module>\u001b[0;34m()\u001b[0m\n\u001b[1;32m      4\u001b[0m \u001b[0;34m\u001b[0m\u001b[0m\n\u001b[1;32m      5\u001b[0m     \u001b[0mrbdl\u001b[0m\u001b[0;34m.\u001b[0m\u001b[0mCompositeRigidBodyAlgorithm\u001b[0m\u001b[0;34m(\u001b[0m\u001b[0mrbdlmodel\u001b[0m\u001b[0;34m,\u001b[0m \u001b[0mq_np\u001b[0m\u001b[0;34m,\u001b[0m \u001b[0mM_rbdl\u001b[0m\u001b[0;34m)\u001b[0m\u001b[0;34m\u001b[0m\u001b[0m\n\u001b[0;32m----> 6\u001b[0;31m \u001b[0mtimeit_rbdl\u001b[0m \u001b[0;34m=\u001b[0m \u001b[0mrepeat\u001b[0m\u001b[0;34m(\u001b[0m\u001b[0;34m\"M_rbdl_func()\"\u001b[0m\u001b[0;34m,\u001b[0m \u001b[0msetup\u001b[0m \u001b[0;34m=\u001b[0m \u001b[0;34m\"from __main__ import M_rbdl_func\"\u001b[0m\u001b[0;34m,\u001b[0m \u001b[0mrepeat\u001b[0m \u001b[0;34m=\u001b[0m \u001b[0mnrepeat\u001b[0m\u001b[0;34m,\u001b[0m \u001b[0mnumber\u001b[0m \u001b[0;34m=\u001b[0m \u001b[0mnitr\u001b[0m\u001b[0;34m)\u001b[0m\u001b[0;34m\u001b[0m\u001b[0m\n\u001b[0m\u001b[1;32m      7\u001b[0m \u001b[0mmintime_rbdl\u001b[0m\u001b[0;34m[\u001b[0m\u001b[0mnjoints\u001b[0m\u001b[0;34m-\u001b[0m\u001b[0;36m1\u001b[0m\u001b[0;34m]\u001b[0m \u001b[0;34m=\u001b[0m \u001b[0mmin\u001b[0m\u001b[0;34m(\u001b[0m\u001b[0mtimeit_rbdl\u001b[0m\u001b[0;34m)\u001b[0m\u001b[0;34m\u001b[0m\u001b[0m\n\u001b[1;32m      8\u001b[0m \u001b[0mmediantime_rbdl\u001b[0m\u001b[0;34m[\u001b[0m\u001b[0mnjoints\u001b[0m\u001b[0;34m-\u001b[0m\u001b[0;36m1\u001b[0m\u001b[0;34m]\u001b[0m \u001b[0;34m=\u001b[0m \u001b[0mmedian\u001b[0m\u001b[0;34m(\u001b[0m\u001b[0mtimeit_rbdl\u001b[0m\u001b[0;34m)\u001b[0m\u001b[0;34m\u001b[0m\u001b[0m\n",
      "\u001b[0;32m/usr/lib/python2.7/timeit.pyc\u001b[0m in \u001b[0;36mrepeat\u001b[0;34m(stmt, setup, timer, repeat, number)\u001b[0m\n\u001b[1;32m    240\u001b[0m            repeat=default_repeat, number=default_number):\n\u001b[1;32m    241\u001b[0m     \u001b[0;34m\"\"\"Convenience function to create Timer object and call repeat method.\"\"\"\u001b[0m\u001b[0;34m\u001b[0m\u001b[0m\n\u001b[0;32m--> 242\u001b[0;31m     \u001b[0;32mreturn\u001b[0m \u001b[0mTimer\u001b[0m\u001b[0;34m(\u001b[0m\u001b[0mstmt\u001b[0m\u001b[0;34m,\u001b[0m \u001b[0msetup\u001b[0m\u001b[0;34m,\u001b[0m \u001b[0mtimer\u001b[0m\u001b[0;34m)\u001b[0m\u001b[0;34m.\u001b[0m\u001b[0mrepeat\u001b[0m\u001b[0;34m(\u001b[0m\u001b[0mrepeat\u001b[0m\u001b[0;34m,\u001b[0m \u001b[0mnumber\u001b[0m\u001b[0;34m)\u001b[0m\u001b[0;34m\u001b[0m\u001b[0m\n\u001b[0m\u001b[1;32m    243\u001b[0m \u001b[0;34m\u001b[0m\u001b[0m\n\u001b[1;32m    244\u001b[0m \u001b[0;32mdef\u001b[0m \u001b[0mmain\u001b[0m\u001b[0;34m(\u001b[0m\u001b[0margs\u001b[0m\u001b[0;34m=\u001b[0m\u001b[0mNone\u001b[0m\u001b[0;34m,\u001b[0m \u001b[0m_wrap_timer\u001b[0m\u001b[0;34m=\u001b[0m\u001b[0mNone\u001b[0m\u001b[0;34m)\u001b[0m\u001b[0;34m:\u001b[0m\u001b[0;34m\u001b[0m\u001b[0m\n",
      "\u001b[0;32m/usr/lib/python2.7/timeit.pyc\u001b[0m in \u001b[0;36mrepeat\u001b[0;34m(self, repeat, number)\u001b[0m\n\u001b[1;32m    228\u001b[0m         \u001b[0mr\u001b[0m \u001b[0;34m=\u001b[0m \u001b[0;34m[\u001b[0m\u001b[0;34m]\u001b[0m\u001b[0;34m\u001b[0m\u001b[0m\n\u001b[1;32m    229\u001b[0m         \u001b[0;32mfor\u001b[0m \u001b[0mi\u001b[0m \u001b[0;32min\u001b[0m \u001b[0mrange\u001b[0m\u001b[0;34m(\u001b[0m\u001b[0mrepeat\u001b[0m\u001b[0;34m)\u001b[0m\u001b[0;34m:\u001b[0m\u001b[0;34m\u001b[0m\u001b[0m\n\u001b[0;32m--> 230\u001b[0;31m             \u001b[0mt\u001b[0m \u001b[0;34m=\u001b[0m \u001b[0mself\u001b[0m\u001b[0;34m.\u001b[0m\u001b[0mtimeit\u001b[0m\u001b[0;34m(\u001b[0m\u001b[0mnumber\u001b[0m\u001b[0;34m)\u001b[0m\u001b[0;34m\u001b[0m\u001b[0m\n\u001b[0m\u001b[1;32m    231\u001b[0m             \u001b[0mr\u001b[0m\u001b[0;34m.\u001b[0m\u001b[0mappend\u001b[0m\u001b[0;34m(\u001b[0m\u001b[0mt\u001b[0m\u001b[0;34m)\u001b[0m\u001b[0;34m\u001b[0m\u001b[0m\n\u001b[1;32m    232\u001b[0m         \u001b[0;32mreturn\u001b[0m \u001b[0mr\u001b[0m\u001b[0;34m\u001b[0m\u001b[0m\n",
      "\u001b[0;32m/usr/lib/python2.7/timeit.pyc\u001b[0m in \u001b[0;36mtimeit\u001b[0;34m(self, number)\u001b[0m\n\u001b[1;32m    200\u001b[0m         \u001b[0mgc\u001b[0m\u001b[0;34m.\u001b[0m\u001b[0mdisable\u001b[0m\u001b[0;34m(\u001b[0m\u001b[0;34m)\u001b[0m\u001b[0;34m\u001b[0m\u001b[0m\n\u001b[1;32m    201\u001b[0m         \u001b[0;32mtry\u001b[0m\u001b[0;34m:\u001b[0m\u001b[0;34m\u001b[0m\u001b[0m\n\u001b[0;32m--> 202\u001b[0;31m             \u001b[0mtiming\u001b[0m \u001b[0;34m=\u001b[0m \u001b[0mself\u001b[0m\u001b[0;34m.\u001b[0m\u001b[0minner\u001b[0m\u001b[0;34m(\u001b[0m\u001b[0mit\u001b[0m\u001b[0;34m,\u001b[0m \u001b[0mself\u001b[0m\u001b[0;34m.\u001b[0m\u001b[0mtimer\u001b[0m\u001b[0;34m)\u001b[0m\u001b[0;34m\u001b[0m\u001b[0m\n\u001b[0m\u001b[1;32m    203\u001b[0m         \u001b[0;32mfinally\u001b[0m\u001b[0;34m:\u001b[0m\u001b[0;34m\u001b[0m\u001b[0m\n\u001b[1;32m    204\u001b[0m             \u001b[0;32mif\u001b[0m \u001b[0mgcold\u001b[0m\u001b[0;34m:\u001b[0m\u001b[0;34m\u001b[0m\u001b[0m\n",
      "\u001b[0;32m/usr/lib/python2.7/timeit.pyc\u001b[0m in \u001b[0;36minner\u001b[0;34m(_it, _timer)\u001b[0m\n",
      "\u001b[0;32m<ipython-input-10-865bd15a2dcd>\u001b[0m in \u001b[0;36mM_rbdl_func\u001b[0;34m()\u001b[0m\n\u001b[1;32m      3\u001b[0m         \u001b[0mq_np\u001b[0m\u001b[0;34m[\u001b[0m\u001b[0mj\u001b[0m\u001b[0;34m]\u001b[0m \u001b[0;34m=\u001b[0m \u001b[0;34m(\u001b[0m\u001b[0mqmax\u001b[0m\u001b[0;34m[\u001b[0m\u001b[0mj\u001b[0m\u001b[0;34m]\u001b[0m \u001b[0;34m-\u001b[0m \u001b[0mqmin\u001b[0m\u001b[0;34m[\u001b[0m\u001b[0mj\u001b[0m\u001b[0;34m]\u001b[0m\u001b[0;34m)\u001b[0m\u001b[0;34m*\u001b[0m\u001b[0mnp\u001b[0m\u001b[0;34m.\u001b[0m\u001b[0mrandom\u001b[0m\u001b[0;34m.\u001b[0m\u001b[0mrand\u001b[0m\u001b[0;34m(\u001b[0m\u001b[0;34m)\u001b[0m\u001b[0;34m-\u001b[0m\u001b[0;34m(\u001b[0m\u001b[0mqmax\u001b[0m\u001b[0;34m[\u001b[0m\u001b[0mj\u001b[0m\u001b[0;34m]\u001b[0m \u001b[0;34m-\u001b[0m \u001b[0mqmin\u001b[0m\u001b[0;34m[\u001b[0m\u001b[0mj\u001b[0m\u001b[0;34m]\u001b[0m\u001b[0;34m)\u001b[0m\u001b[0;34m/\u001b[0m\u001b[0;36m2\u001b[0m\u001b[0;34m\u001b[0m\u001b[0m\n\u001b[1;32m      4\u001b[0m \u001b[0;34m\u001b[0m\u001b[0m\n\u001b[0;32m----> 5\u001b[0;31m     \u001b[0mrbdl\u001b[0m\u001b[0;34m.\u001b[0m\u001b[0mCompositeRigidBodyAlgorithm\u001b[0m\u001b[0;34m(\u001b[0m\u001b[0mrbdlmodel\u001b[0m\u001b[0;34m,\u001b[0m \u001b[0mq_np\u001b[0m\u001b[0;34m,\u001b[0m \u001b[0mM_rbdl\u001b[0m\u001b[0;34m)\u001b[0m\u001b[0;34m\u001b[0m\u001b[0m\n\u001b[0m\u001b[1;32m      6\u001b[0m \u001b[0mtimeit_rbdl\u001b[0m \u001b[0;34m=\u001b[0m \u001b[0mrepeat\u001b[0m\u001b[0;34m(\u001b[0m\u001b[0;34m\"M_rbdl_func()\"\u001b[0m\u001b[0;34m,\u001b[0m \u001b[0msetup\u001b[0m \u001b[0;34m=\u001b[0m \u001b[0;34m\"from __main__ import M_rbdl_func\"\u001b[0m\u001b[0;34m,\u001b[0m \u001b[0mrepeat\u001b[0m \u001b[0;34m=\u001b[0m \u001b[0mnrepeat\u001b[0m\u001b[0;34m,\u001b[0m \u001b[0mnumber\u001b[0m \u001b[0;34m=\u001b[0m \u001b[0mnitr\u001b[0m\u001b[0;34m)\u001b[0m\u001b[0;34m\u001b[0m\u001b[0m\n\u001b[1;32m      7\u001b[0m \u001b[0mmintime_rbdl\u001b[0m\u001b[0;34m[\u001b[0m\u001b[0mnjoints\u001b[0m\u001b[0;34m-\u001b[0m\u001b[0;36m1\u001b[0m\u001b[0;34m]\u001b[0m \u001b[0;34m=\u001b[0m \u001b[0mmin\u001b[0m\u001b[0;34m(\u001b[0m\u001b[0mtimeit_rbdl\u001b[0m\u001b[0;34m)\u001b[0m\u001b[0;34m\u001b[0m\u001b[0m\n",
      "\u001b[0;31mNameError\u001b[0m: global name 'rbdlmodel' is not defined"
     ]
    }
   ],
   "source": [
    "def M_rbdl_func():\n",
    "    for j in range(njoints):\n",
    "        q_np[j] = (qmax[j] - qmin[j])*np.random.rand()-(qmax[j] - qmin[j])/2\n",
    "\n",
    "    rbdl.CompositeRigidBodyAlgorithm(rbdlmodel, q_np, M_rbdl)\n",
    "timeit_rbdl = repeat(\"M_rbdl_func()\", setup = \"from __main__ import M_rbdl_func\", repeat = nrepeat, number = nitr)\n",
    "mintime_rbdl[njoints-1] = min(timeit_rbdl)\n",
    "mediantime_rbdl[njoints-1] = median(timeit_rbdl)\n",
    "averagetime_rbdl[njoints-1] = average(timeit_rbdl)\n",
    "print median(timeit_rbdl)\n",
    "print average(timeit_rbdl)\n",
    "print timeit_rbdl\n",
    "print min(timeit_rbdl)\n",
    "print max(timeit_rbdl)"
   ]
  },
  {
   "cell_type": "code",
   "execution_count": null,
   "metadata": {},
   "outputs": [],
   "source": [
    "def M_pb_func():\n",
    "    for j in range(njoints):\n",
    "        q_none[j] = (qmax[j] - qmin[j])*np.random.rand()-(qmax[j] - qmin[j])/2\n",
    "    #print q\n",
    "    H = pb.calculateMassMatrix(pbmodel, q_none)\n",
    "timeit_pb = repeat(\"M_pb_func()\", setup = \"from __main__ import M_pb_func\", repeat = nrepeat, number = nitr)\n",
    "mintime_pb[njoints-1] = min(timeit_pb)\n",
    "mediantime_pb[njoints-1] = median(timeit_pb)\n",
    "averagetime_pb[njoints-1] = average(timeit_pb)\n",
    "print median(timeit_pb)\n",
    "print average(timeit_pb)\n",
    "print timeit_pb\n",
    "print min(timeit_pb)\n",
    "print max(timeit_pb)"
   ]
  },
  {
   "cell_type": "code",
   "execution_count": null,
   "metadata": {},
   "outputs": [],
   "source": [
    "import matplotlib.pyplot as plt\n",
    "import pandas as pd\n",
    "\n",
    "joint_nr = list(range(njoints + 1))\n",
    "joint_nr.pop(0)\n",
    "plt.scatter(joint_nr, mediantime_kdl, c='peachpuff', marker='x', label='kdl')\n",
    "plt.scatter(joint_nr, mediantime_u2c, c='fuchsia', marker='s', label='u2c')\n",
    "plt.scatter(joint_nr, mediantime_rbdl, c='b', marker='s', label='rbdl')\n",
    "plt.scatter(joint_nr, mediantime_pb, c='r', marker='s', label='pybullet')\n",
    "plt.legend(loc='upper left')\n",
    "plt.show()"
   ]
  }
 ],
 "metadata": {
  "kernelspec": {
   "display_name": "Python 2",
   "language": "python",
   "name": "python2"
  },
  "language_info": {
   "codemirror_mode": {
    "name": "ipython",
    "version": 2
   },
   "file_extension": ".py",
   "mimetype": "text/x-python",
   "name": "python",
   "nbconvert_exporter": "python",
   "pygments_lexer": "ipython2",
   "version": "2.7.12"
  }
 },
 "nbformat": 4,
 "nbformat_minor": 2
}
