{
 "cells": [
  {
   "cell_type": "code",
   "execution_count": 4,
   "metadata": {},
   "outputs": [],
   "source": [
    "import casadi as cs\n",
    "from urdf_parser_py.urdf import URDF, Pose\n",
    "import os # For current directory\n",
    "#import urdf2casadi.urdf2casadi.urdfparser\n",
    "#import urdf2casadi.urdf2casadi.geometry.plucker as plucker\n",
    "import numpy as np\n",
    "import PyKDL as kdl\n",
    "#import kdl_parser.kdl_parser_py.kdl_parser_py.urdf as kdlurdf\n",
    "from timeit import Timer, timeit, repeat\n",
    "import rbdl"
   ]
  },
  {
   "cell_type": "markdown",
   "metadata": {},
   "source": [
    "## Load models:"
   ]
  },
  {
   "cell_type": "code",
   "execution_count": 2,
   "metadata": {},
   "outputs": [
    {
     "name": "stdout",
     "output_type": "stream",
     "text": [
      "The root link base_link has an inertia specified in the URDF, but KDL does not support a root link with an inertia.  As a workaround, you can add an extra dummy link to your URDF.\n",
      "ur5_rbdl.urdf\n"
     ]
    }
   ],
   "source": [
    "#ok, ur_tree = kdlurdf.treeFromFile('./urdf2casadi/examples/urdf/test.urdf')\n",
    "ok, ur_tree = kdlurdf.treeFromFile('ur5_rbdl.urdf')\n",
    "asd = urdf2casadi.urdf2casadi.urdfparser.URDFparser()\n",
    "#robot_desc = asd.from_file(\"./urdf2casadi/examples/urdf/test.urdf\")\n",
    "robot_desc = asd.from_file(\"ur5_rbdl.urdf\")\n",
    "root = 'base_link'\n",
    "tip = 'wrist_3_link'\n",
    "ur_chain = ur_tree.getChain(root,tip)\n",
    "#rbdlmodel = rbdl.loadModel(\"ur5_rbdl.urdf\")"
   ]
  },
  {
   "cell_type": "markdown",
   "metadata": {},
   "source": [
    "## Declare variables to use in timing tests:"
   ]
  },
  {
   "cell_type": "code",
   "execution_count": 3,
   "metadata": {},
   "outputs": [
    {
     "name": "stdout",
     "output_type": "stream",
     "text": [
      "6\n",
      "6\n",
      "@1=0, [@1, @1, @1, @1, @1, @1]\n"
     ]
    }
   ],
   "source": [
    "jlist, names, qmax, qmin = asd.get_joint_info(root, tip)\n",
    "njoints = len(jlist)\n",
    "print njoints\n",
    "print len(qmax)\n",
    "\n",
    "H_ur = kdl.JntSpaceInertiaMatrix(6)\n",
    "\n",
    "grav = kdl.Vector()\n",
    "grav[2] = -9.81\n",
    "\n",
    "q = kdl.JntArray(njoints)\n",
    "qdot = kdl.JntArray(njoints)\n",
    "\n",
    "q_np = np.zeros(njoints)\n",
    "qdot_np = np.zeros(njoints)\n",
    "qddot_np = np.zeros(njoints)\n",
    "\n",
    "q_sx = cs.SX.zeros(njoints)\n",
    "print q_sx\n",
    "qdot_sx = cs.SX.zeros(njoints)\n",
    "\n",
    "q_none = [None]*njoints\n",
    "qdot_none = [None]*njoints\n",
    "qddot_none = [None]*njoints\n",
    "\n",
    "tau_kdl = kdl.JntArray(njoints)\n",
    "grav_kdl = kdl.JntArray(njoints)\n",
    "\n",
    "nitr = 50000\n",
    "nrepeat = 10\n",
    "\n"
   ]
  },
  {
   "cell_type": "markdown",
   "metadata": {},
   "source": [
    "# Timing Coriolis\n",
    "## Coriolis KDL timing:"
   ]
  },
  {
   "cell_type": "code",
   "execution_count": 4,
   "metadata": {},
   "outputs": [
    {
     "name": "stdout",
     "output_type": "stream",
     "text": [
      "[1.2641470432281494, 1.227410078048706, 1.1931788921356201, 1.1927030086517334, 1.1964430809020996, 1.19508695602417, 1.1952321529388428, 1.2077960968017578, 1.1975998878479004, 1.194835901260376]\n"
     ]
    }
   ],
   "source": [
    "def C_kdl():\n",
    "    for j in range(njoints):\n",
    "        q[j] = (qmax[j] - qmin[j])*np.random.rand()-(qmax[j] - qmin[j])/2\n",
    "        qdot[j] = (qmax[j] - qmin[j])*np.random.rand()-(qmax[j] - qmin[j])/2\n",
    "\n",
    "    kdl.ChainDynParam(ur_chain, grav).JntToCoriolis(q, qdot, tau_kdl)\n",
    "#kdl_time = [None]*30\n",
    "\n",
    "#timeit_C_kdl = timeit(\"C_kdl()\", setup = \"from __main__ import C_kdl\", number = nitr)\n",
    "#print timeit_C_kdl\n",
    "#print timeit_C_kdl/nitr\n",
    "timeit_C_kdl_repeat = repeat(\"C_kdl()\", setup = \"from __main__ import C_kdl\", repeat = nrepeat, number = nitr)\n",
    "print timeit_C_kdl_repeat"
   ]
  },
  {
   "cell_type": "markdown",
   "metadata": {},
   "source": [
    "## Coriolis u2c timing:"
   ]
  },
  {
   "cell_type": "markdown",
   "metadata": {},
   "source": [
    "With timeit magic:"
   ]
  },
  {
   "cell_type": "code",
   "execution_count": 5,
   "metadata": {},
   "outputs": [
    {
     "name": "stdout",
     "output_type": "stream",
     "text": [
      "base_link\n",
      "revolute\n",
      "shoulder_link\n",
      "revolute\n",
      "upper_arm_link\n",
      "revolute\n",
      "forearm_link\n",
      "revolute\n",
      "wrist_1_link\n",
      "revolute\n",
      "wrist_2_link\n",
      "revolute\n",
      "wrist_3_link\n"
     ]
    }
   ],
   "source": [
    "C_u2c = asd.get_jointspace_bias_matrix(root, tip)"
   ]
  },
  {
   "cell_type": "markdown",
   "metadata": {},
   "source": [
    "With timeit module:"
   ]
  },
  {
   "cell_type": "code",
   "execution_count": 6,
   "metadata": {},
   "outputs": [
    {
     "name": "stdout",
     "output_type": "stream",
     "text": [
      "2.41834998131\n",
      "4.83669996262e-05\n",
      "[2.357588052749634, 2.341248035430908, 2.3379530906677246, 2.3332231044769287, 2.422407865524292, 2.4123408794403076, 2.333911895751953, 2.33134388923645, 2.331494092941284, 2.416335105895996]\n"
     ]
    }
   ],
   "source": [
    "def C_u2c_func():    \n",
    "    for j in range(njoints):\n",
    "        q_none[j] = (qmax[j] - qmin[j])*np.random.rand()-(qmax[j] - qmin[j])/2\n",
    "        qdot_none[j] = (qmax[j] - qmin[j])*np.random.rand()-(qmax[j] - qmin[j])/2\n",
    "\n",
    "    C_u2c(q_none, qdot_none)\n",
    "\n",
    "timeit_C_u2c = timeit(\"C_u2c_func()\", setup = \"from __main__ import C_u2c_func\", number = nitr)\n",
    "print timeit_C_u2c\n",
    "print timeit_C_u2c/nitr\n",
    "timeit_C_u2c_repeat = repeat(\"C_u2c_func()\", setup = \"from __main__ import C_u2c_func\", repeat = nrepeat, number = nitr)\n",
    "print timeit_C_u2c_repeat\n",
    "\n",
    "#1.68 as best \n",
    "\n",
    "#%store timeit_C_u2c_repeat"
   ]
  },
  {
   "cell_type": "code",
   "execution_count": 7,
   "metadata": {},
   "outputs": [],
   "source": [
    "tau_rbdl = np.zeros(njoints)"
   ]
  },
  {
   "cell_type": "code",
   "execution_count": 11,
   "metadata": {},
   "outputs": [
    {
     "name": "stdout",
     "output_type": "stream",
     "text": [
      "[2.0779550075531006, 1.9433138370513916, 2.047614812850952]\n"
     ]
    }
   ],
   "source": [
    "def C_rbdl():   \n",
    "    for j in range(njoints):\n",
    "        q_np[j] = (qmax[j] - qmin[j])*np.random.rand()-(qmax[j] - qmin[j])/2\n",
    "        qdot_np[j] = (qmax[j] - qmin[j])*np.random.rand()-(qmax[j] - qmin[j])/2\n",
    "\n",
    "    rbdl.InverseDynamics(rbdlmodel, q_np, qdot_np, qddot_np, tau_rbdl)\n",
    "\n",
    "#timeit_C_rbdl = timeit(\"C_rbdl()\", setup = \"from __main__ import C_rbdl\", number = 50000)\n",
    "#print timeit_C_rbdl\n",
    "#print timeit_C_rbdl/50000\n",
    "timeit_C_rbdl_repeat = repeat(\"C_rbdl()\", setup = \"from __main__ import C_rbdl\", repeat = 3, number = 50000)\n",
    "print timeit_C_rbdl_repeat\n",
    "#1.91 as best "
   ]
  },
  {
   "cell_type": "code",
   "execution_count": 9,
   "metadata": {},
   "outputs": [
    {
     "name": "stdout",
     "output_type": "stream",
     "text": [
      "minimum u2c coriolis: 1.68841195107\n",
      "minimum kdl coriolis: 1.01719594002\n"
     ]
    }
   ],
   "source": [
    "print \"minimum u2c coriolis:\", min(timeit_C_u2c_repeat)\n",
    "print \"minimum kdl coriolis:\", min(timeit_C_kdl_repeat)\n",
    "    "
   ]
  },
  {
   "cell_type": "code",
   "execution_count": null,
   "metadata": {},
   "outputs": [],
   "source": []
  },
  {
   "cell_type": "code",
   "execution_count": null,
   "metadata": {},
   "outputs": [],
   "source": []
  }
 ],
 "metadata": {
  "kernelspec": {
   "display_name": "Python 2",
   "language": "python",
   "name": "python2"
  },
  "language_info": {
   "codemirror_mode": {
    "name": "ipython",
    "version": 2
   },
   "file_extension": ".py",
   "mimetype": "text/x-python",
   "name": "python",
   "nbconvert_exporter": "python",
   "pygments_lexer": "ipython2",
   "version": "2.7.12"
  }
 },
 "nbformat": 4,
 "nbformat_minor": 2
}
