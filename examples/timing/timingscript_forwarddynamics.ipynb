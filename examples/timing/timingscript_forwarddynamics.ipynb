{
 "cells": [
  {
   "cell_type": "code",
   "execution_count": 1,
   "metadata": {},
   "outputs": [],
   "source": [
    "import numpy as np \n",
    "import urdf2casadi.urdfparser as u2c\n",
    "from urdf2casadi.geometry import plucker\n",
    "from urdf_parser_py.urdf import URDF, Pose\n",
    "#import PyKDL as kdl\n",
    "#import kdl_parser.kdl_parser_py.kdl_parser_py.urdf as kdlurdf\n",
    "from timeit import Timer, timeit, repeat\n",
    "import rbdl\n",
    "import pybullet as pb\n"
   ]
  },
  {
   "cell_type": "code",
   "execution_count": null,
   "metadata": {},
   "outputs": [],
   "source": [
    "def median(lst):\n",
    "    n = len(lst)\n",
    "    if n < 1:\n",
    "            return None\n",
    "    if n % 2 == 1:\n",
    "            return sorted(lst)[n//2]\n",
    "    else:\n",
    "            return sum(sorted(lst)[n//2-1:n//2+1])/2.0\n",
    "        \n",
    "def average(lst): \n",
    "    return sum(lst) / len(lst) \n",
    "\n",
    "#def C_kdl_func():\n",
    "#    for j in range(njoints):\n",
    "#        q_kdl[j] = (qmax[j] - qmin[j])*np.random.rand()-(qmax[j] - qmin[j])/2\n",
    "        #qdot_kdl[j] = (qmax[j] - qmin[j])*np.random.rand()-(qmax[j] - qmin[j])/2\n",
    "\n",
    "#    kdl.ChainDynParam(kdlmodel, g_kdl).JntToCoriolis(q_kdl, qdot_kdl, C_kdl)\n",
    "\n",
    "#timeit_kdl = repeat(\"M_kdl_func()\", setup = \"from __main__ import M_kdl_func\", repeat = nrepeat, number = nitr)\n",
    "#mintime_kdl[i] = min(timeit_kdl)\n",
    "#mediantime_kdl[i] = median(timeit_kdl)\n",
    "#averagetime_kdl[i] = average(timeit_kdl)\n",
    "\n",
    "def aba_u2c_func():   \n",
    "    for j in range(njoints):\n",
    "        q_none = (qmax[j] - qmin[j])*np.random.rand()-(qmax[j] - qmin[j])/2\n",
    "        qdot_none[j] = (qmax[j] - qmin[j])*np.random.rand()-(qmax[j] - qmin[j])/2\n",
    "\n",
    "    aba_u2c(q_none, qdot_none)\n",
    "    \n",
    "def crba_u2c_func():\n",
    "    for j in range(njoints):\n",
    "        q_none[j] = (qmax[j] - qmin[j])*np.random.rand()-(qmax[j] - qmin[j])/2\n",
    "        qdot_none[j] = (qmax[j] - qmin[j])*np.random.rand()-(qmax[j] - qmin[j])/2\n",
    "    \n",
    "    crba_u2c(q_none, qdot_none)\n",
    "    \n",
    "    \n",
    "def C_rbdl_func():\n",
    "    for j in range(njoints):\n",
    "        q_np[j] = (qmax[j] - qmin[j])*np.random.rand()-(qmax[j] - qmin[j])/2\n",
    "        qdot_np[j] = (qmax[j] - qmin[j])*np.random.rand()-(qmax[j] - qmin[j])/2\n",
    "\n",
    "    rbdl.InverseDynamics(rbdlmodel, q_np, qdot_np, qddot_np, C_rbdl)\n",
    "\n"
   ]
  }
 ],
 "metadata": {
  "kernelspec": {
   "display_name": "Python 2",
   "language": "python",
   "name": "python2"
  },
  "language_info": {
   "codemirror_mode": {
    "name": "ipython",
    "version": 2
   },
   "file_extension": ".py",
   "mimetype": "text/x-python",
   "name": "python",
   "nbconvert_exporter": "python",
   "pygments_lexer": "ipython2",
   "version": "2.7.12"
  }
 },
 "nbformat": 4,
 "nbformat_minor": 2
}
