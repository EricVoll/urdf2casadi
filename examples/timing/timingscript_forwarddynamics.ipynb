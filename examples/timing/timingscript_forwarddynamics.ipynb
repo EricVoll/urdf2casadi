{
 "cells": [
  {
   "cell_type": "code",
   "execution_count": 1,
   "metadata": {},
   "outputs": [],
   "source": [
    "import numpy as np \n",
    "import urdf2casadi.urdfparser as u2c\n",
    "from urdf2casadi.geometry import plucker\n",
    "from urdf_parser_py.urdf import URDF, Pose\n",
    "#import PyKDL as kdl\n",
    "#import kdl_parser.kdl_parser_py.kdl_parser_py.urdf as kdlurdf\n",
    "from timeit import Timer, timeit, repeat\n",
    "import rbdl\n",
    "import pybullet as pb\n"
   ]
  },
  {
   "cell_type": "code",
   "execution_count": 2,
   "metadata": {},
   "outputs": [],
   "source": [
    "def median(lst):\n",
    "    n = len(lst)\n",
    "    if n < 1:\n",
    "            return None\n",
    "    if n % 2 == 1:\n",
    "            return sorted(lst)[n//2]\n",
    "    else:\n",
    "            return sum(sorted(lst)[n//2-1:n//2+1])/2.0\n",
    "        \n",
    "def average(lst): \n",
    "    return sum(lst) / len(lst) \n",
    "\n",
    "#def C_kdl_func():\n",
    "#    for j in range(njoints):\n",
    "#        q_kdl[j] = (qmax[j] - qmin[j])*np.random.rand()-(qmax[j] - qmin[j])/2\n",
    "        #qdot_kdl[j] = (qmax[j] - qmin[j])*np.random.rand()-(qmax[j] - qmin[j])/2\n",
    "\n",
    "#    kdl.ChainDynParam(kdlmodel, g_kdl).JntToCoriolis(q_kdl, qdot_kdl, C_kdl)\n",
    "\n",
    "#timeit_kdl = repeat(\"M_kdl_func()\", setup = \"from __main__ import M_kdl_func\", repeat = nrepeat, number = nitr)\n",
    "#mintime_kdl[i] = min(timeit_kdl)\n",
    "#mediantime_kdl[i] = median(timeit_kdl)\n",
    "#averagetime_kdl[i] = average(timeit_kdl)\n",
    "\n",
    "def aba_u2c_func():   \n",
    "    for j in range(njoints):\n",
    "        q_none = (qmax[j] - qmin[j])*np.random.rand()-(qmax[j] - qmin[j])/2\n",
    "        qdot_none[j] = (qmax[j] - qmin[j])*np.random.rand()-(qmax[j] - qmin[j])/2\n",
    "\n",
    "    aba_u2c(q_none, qdot_none)\n",
    "    \n",
    "def crba_u2c_func():\n",
    "    for j in range(njoints):\n",
    "        q_none[j] = (qmax[j] - qmin[j])*np.random.rand()-(qmax[j] - qmin[j])/2\n",
    "        qdot_none[j] = (qmax[j] - qmin[j])*np.random.rand()-(qmax[j] - qmin[j])/2\n",
    "    \n",
    "    crba_u2c(q_none, qdot_none)\n",
    "    \n",
    "    \n",
    "def fd_rbdl_func():\n",
    "    for j in range(njoints):\n",
    "        q_np[j] = (qmax[j] - qmin[j])*np.random.rand()-(qmax[j] - qmin[j])/2\n",
    "        qdot_np[j] = (qmax[j] - qmin[j])*np.random.rand()-(qmax[j] - qmin[j])/2\n",
    "\n",
    "    rbdl.ForwardDynamics(rbdlmodel, q_np, qdot_np, tau_np, qddot_np)\n",
    "\n"
   ]
  },
  {
   "cell_type": "code",
   "execution_count": 5,
   "metadata": {},
   "outputs": [
    {
     "name": "stdout",
     "output_type": "stream",
     "text": [
      "0\n",
      "1dof.urdf\n",
      "1\n",
      "2dof.urdf\n",
      "2\n",
      "3dof.urdf\n",
      "3\n",
      "4dof.urdf\n",
      "4\n",
      "5dof.urdf\n",
      "5\n",
      "6dof.urdf\n",
      "6\n",
      "7dof.urdf\n",
      "7\n",
      "8dof.urdf\n",
      "8\n",
      "9dof.urdf\n",
      "9\n",
      "10dof.urdf\n",
      "10\n",
      "11dof.urdf\n",
      "11\n",
      "12dof.urdf\n"
     ]
    }
   ],
   "source": [
    "#pbmodel = pb.loadURDF(\"pantilt.urdf\")\n",
    "sim = pb.connect(pb.DIRECT)\n",
    "#pbmodel = pb.loadURDF(\"/urdf4timing/1dof.urdf\")\n",
    "ndofs = 12\n",
    "urdf_nr = list(range(ndofs + 1))\n",
    "urdf_nr.pop(0)\n",
    "\n",
    "#storage for timing data\n",
    "\n",
    "mediantime_u2c_aba = [None]*ndofs\n",
    "mediantime_rbdl = [None]*ndofs\n",
    "mediantime_u2c_crba = [None]*ndofs\n",
    "#mintime_kdl = [None]*ndofs\n",
    "mintime_u2c_aba = [None]*ndofs\n",
    "mintime_rbdl = [None]*ndofs\n",
    "mintime_u2c_crba = [None]*ndofs\n",
    "#averagetime_kdl = [None]*ndofs\n",
    "averagetime_u2c_aba = [None]*ndofs\n",
    "averagetime_rbdl = [None]*ndofs\n",
    "averagetime_u2c_crba = [None]*ndofs\n",
    "\n",
    "\n",
    "nitr = 50000\n",
    "nrepeat = 10\n",
    "    \n",
    "for i in range(ndofs):    \n",
    "    print i\n",
    "    #path_to_urdf = \"/home/lillmaria/urdf2casadi/examples/timing/urdf4timing/\" + str(urdf_nr[i]) + \"dof.urdf\"\n",
    "    path_to_urdf = str(urdf_nr[i]) + \"dof.urdf\"\n",
    "    end_link = \"link\" + str(urdf_nr[i])\n",
    "    root = 'base_link'\n",
    "    tip = end_link\n",
    "    \n",
    "    #ok, kdl_tree = kdlurdf.treeFromFile(path_to_urdf)\n",
    "    #kdlmodel = kdl_tree.getChain(root,tip)\n",
    "    \n",
    "    rbdlmodel = rbdl.loadModel(path_to_urdf)\n",
    "    pbmodel = pb.loadURDF(path_to_urdf, useFixedBase=True)\n",
    "    asd = u2c.URDFparser()\n",
    "    robot_desc = asd.from_file(path_to_urdf)\n",
    "    \n",
    "    jlist, names, qmax, qmin = asd.get_joint_info(root, tip)\n",
    "    njoints = len(jlist)\n",
    "\n",
    "    #g_kdl = kdl.Vector()\n",
    "    #M_kdl = kdl.JntSpaceInertiaMatrix(njoints)\n",
    "    \n",
    "    #rbdl declarations\n",
    "    q_np = np.zeros(njoints)\n",
    "    qdot_np = np.zeros(njoints)\n",
    "    qddot_np = np.zeros(njoints)\n",
    "    tau_np = np.zeros(njoints)\n",
    "    \n",
    "    #kdl declatations\n",
    "    #q_kdl = kdl.JntArray(njoints)\n",
    "    #qdot_kdl = kdl.JntArray(njoints)\n",
    "    \n",
    "    #u2c and pybullet declarations\n",
    "    q_none = [None]*njoints\n",
    "    qdot_none = [None]*njoints\n",
    "    C_pb = [None]*njoints\n",
    "    \n",
    "    tau = []\n",
    "    for i in range(njoints):\n",
    "        tau.append(0.)\n",
    "        \n",
    "    #er det gravity sin feil?    \n",
    "    gravity = [0, 0, -9.81]\n",
    "    \n",
    "    aba_u2c = asd.get_forward_dynamics_ABA(root, tip, tau)\n",
    "    timeit_u2c_aba = repeat(\"aba_u2c_func()\", setup = \"from __main__ import aba_u2c_func\", repeat = nrepeat, number = nitr)\n",
    "    mintime_u2c_aba[i] = min(timeit_u2c_aba)\n",
    "    mediantime_u2c_aba[i] = median(timeit_u2c_aba)\n",
    "    averagetime_u2c_aba[i] = average(timeit_u2c_aba)\n",
    "    \n",
    "    crba_u2c = asd.get_forward_dynamics_CRBA(root, tip, tau)\n",
    "    timeit_crba = repeat(\"crba_u2c_func()\", setup = \"from __main__ import crba_u2c_func\", repeat = nrepeat, number = nitr)\n",
    "    mintime_u2c_crba[i] = min(timeit_crba)\n",
    "    mediantime_u2c_crba[i] = median(timeit_crba)\n",
    "    averagetime_u2c_crba[i] = average(timeit_crba)\n",
    "    \n",
    "    timeit_rbdl = repeat(\"fd_rbdl_func()\", setup = \"from __main__ import fd_rbdl_func\", repeat = nrepeat, number = nitr)\n",
    "    mintime_rbdl[i] = min(timeit_rbdl)\n",
    "    mediantime_rbdl[i] = median(timeit_rbdl)\n",
    "    averagetime_rbdl[i] = average(timeit_rbdl)\n",
    "    \n",
    "    "
   ]
  },
  {
   "cell_type": "code",
   "execution_count": 7,
   "metadata": {},
   "outputs": [
    {
     "data": {
      "image/png": "[encoded data removed]",
      "text/plain": [
       "<Figure size 576x576 with 1 Axes>"
      ]
     },
     "metadata": {},
     "output_type": "display_data"
    }
   ],
   "source": [
    "import matplotlib.pyplot as plt\n",
    "import pandas as pd\n",
    "\n",
    "joint_nr = list(range(ndofs + 1))\n",
    "joint_nr.pop(0)\n",
    "med_fig = plt.figure(figsize = (8, 8))\n",
    "#plt.scatter(joint_nr, mediantime_kdl, c='r', marker='x', label='kdl')\n",
    "plt.scatter(joint_nr, mediantime_u2c_aba, c='fuchsia', marker='s', label='U2C - ABA')\n",
    "plt.scatter(joint_nr, mediantime_rbdl, c='b', marker='s', label='rbdl')\n",
    "plt.scatter(joint_nr, mediantime_u2c_crba, c='r', marker='s', label='U2C - CRBA + RNEA')\n",
    "plt.legend(loc='upper left')\n",
    "med_fig.show()"
   ]
  },
  {
   "cell_type": "code",
   "execution_count": 9,
   "metadata": {},
   "outputs": [
    {
     "data": {
      "text/plain": [
       "[Text(0,0,'U2C - ABA'), Text(0,0,'U2C - CRBA + RNEA'), Text(0,0,'RBDL')]"
      ]
     },
     "execution_count": 9,
     "metadata": {},
     "output_type": "execute_result"
    },
    {
     "data": {
      "image/png": "[encoded data removed]",
      "text/plain": [
       "<Figure size 504x504 with 1 Axes>"
      ]
     },
     "metadata": {},
     "output_type": "display_data"
    }
   ],
   "source": [
    "timing_scores = [mediantime_u2c_aba, mediantime_u2c_crba, mediantime_rbdl]\n",
    "names = [\"U2C - ABA\", \"U2C - CRBA + RNEA\", \"RBDL\"]\n",
    "boxplot = plt.figure(figsize = (7, 7))\n",
    "boxplot.suptitle(\"Library Timing Comparison\")\n",
    "ax = boxplot.add_subplot(111)\n",
    "ax.boxplot(timing_scores)\n",
    "#plt.boxplot(timing_scores)\n",
    "ax.set_xticklabels(names)\n"
   ]
  },
  {
   "cell_type": "code",
   "execution_count": null,
   "metadata": {},
   "outputs": [],
   "source": []
  }
 ],
 "metadata": {
  "kernelspec": {
   "display_name": "Python 2",
   "language": "python",
   "name": "python2"
  },
  "language_info": {
   "codemirror_mode": {
    "name": "ipython",
    "version": 2
   },
   "file_extension": ".py",
   "mimetype": "text/x-python",
   "name": "python",
   "nbconvert_exporter": "python",
   "pygments_lexer": "ipython2",
   "version": "2.7.12"
  }
 },
 "nbformat": 4,
 "nbformat_minor": 2
}
