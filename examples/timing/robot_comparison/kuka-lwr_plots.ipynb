{
 "cells": [
  {
   "cell_type": "code",
   "execution_count": null,
   "metadata": {},
   "outputs": [],
   "source": [
    "%store -r timeit_g_rbdl\n",
    "%store -r timeit_C_rbdl\n",
    "%store -r timeit_id_rbdl\n",
    "%store -r timeit_M_rbdl\n",
    "%store -r timeit_fd_rbdl"
   ]
  },
  {
   "cell_type": "code",
   "execution_count": null,
   "metadata": {},
   "outputs": [],
   "source": [
    "%store -r timeit_g_kdl\n",
    "%store -r timeit_C_kdl\n",
    "%store -r timeit_M_kdl"
   ]
  },
  {
   "cell_type": "code",
   "execution_count": null,
   "metadata": {},
   "outputs": [],
   "source": [
    "%store -r timeit_g_pb\n",
    "%store -r timeit_C_pb\n",
    "%store -r timeit_id_pb\n",
    "%store -r timeit_M_pb"
   ]
  }
 ],
 "metadata": {
  "kernelspec": {
   "display_name": "Python 2",
   "language": "python",
   "name": "python2"
  },
  "language_info": {
   "codemirror_mode": {
    "name": "ipython",
    "version": 2
   },
   "file_extension": ".py",
   "mimetype": "text/x-python",
   "name": "python",
   "nbconvert_exporter": "python",
   "pygments_lexer": "ipython2",
   "version": "2.7.12"
  }
 },
 "nbformat": 4,
 "nbformat_minor": 2
}
