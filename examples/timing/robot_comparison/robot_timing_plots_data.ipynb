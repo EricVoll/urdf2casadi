{
 "cells": [
  {
   "cell_type": "markdown",
   "metadata": {},
   "source": [
    "# ur5 data"
   ]
  },
  {
   "cell_type": "code",
   "execution_count": null,
   "metadata": {},
   "outputs": [],
   "source": [
    "scale5 = 0.00001*1000000\n",
    "scale6 = 0.000001*1000000\n",
    "\n",
    "ur5_g_u2c= 1.60067915916*scale5\n",
    "\n",
    "ur5_id_u2c= 3.95920038223*scale5\n",
    "\n",
    "ur5_C_u2c= 2.73404836655*scale5\n",
    "\n",
    "ur5_M_u2c= 1.66308999062*scale5\n",
    "\n",
    "ur5_fd_aba_u2c= 4.01996970177*scale5\n",
    "\n",
    "ur5_fd_crba_u2c= 4.05380964279*scale5\n",
    "\n",
    "print ur5_g_u2c"
   ]
  },
  {
   "cell_type": "code",
   "execution_count": null,
   "metadata": {},
   "outputs": [],
   "source": [
    "ur5_g_pb= 5.05030155182*scale6\n",
    "\n",
    "ur5_id_pb= 1.03515505791*scale5\n",
    "\n",
    "\n",
    "ur5_C_pb= 7.7164888382*scale6\n",
    "\n",
    "ur5_M_pb= 5.62341213226*scale6"
   ]
  },
  {
   "cell_type": "code",
   "execution_count": null,
   "metadata": {},
   "outputs": [],
   "source": [
    "ur5_g_kdl= 1.23634934425*scale5\n",
    "\n",
    "ur5_C_kdl= 1.55902981758*scale5\n",
    "\n",
    "ur5_M_kdl= 1.32323980331*scale5"
   ]
  },
  {
   "cell_type": "code",
   "execution_count": null,
   "metadata": {},
   "outputs": [],
   "source": [
    "ur5_g_rbdl= 6.24589920044*scale6\n",
    "\n",
    "ur5_id_rbdl= 1.18062973022*scale5\n",
    "\n",
    "ur5_C_rbdl= 9.0437412262*scale6\n",
    "\n",
    "ur5_M_rbdl= 5.31970262527*scale6\n",
    "\n",
    "ur5_fd_rbdl= 1.29534482956*scale5"
   ]
  },
  {
   "cell_type": "markdown",
   "metadata": {},
   "source": [
    "# pendulum data"
   ]
  },
  {
   "cell_type": "code",
   "execution_count": null,
   "metadata": {},
   "outputs": [],
   "source": [
    "\n",
    "pendel_g_u2c= 1.59740447998e-05\n",
    "\n",
    "pendel_id_u2c= 3.19480895996e-05\n",
    "\n",
    "pendel_C_u2c= 2.28881835938e-05\n",
    "\n",
    "pendel_M_u2c= 1.4066696167e-05\n",
    "\n",
    "pendel_fd_aba u2c= 3.00407409668e-05\n",
    "\n",
    "pendel_fd_crba u2c= 3.00407409668e-05\n"
   ]
  },
  {
   "cell_type": "code",
   "execution_count": null,
   "metadata": {},
   "outputs": [],
   "source": [
    "\n",
    "pendel_g_pb= 3.09944152832e-06\n",
    "\n",
    "pendel_id_pb= 5.00679016113e-06\n",
    "\n",
    "pendel_C_pb= 4.05311584473e-06\n",
    "\n",
    "pendel_M_pb= 2.86102294922e-06\n"
   ]
  },
  {
   "cell_type": "code",
   "execution_count": null,
   "metadata": {},
   "outputs": [],
   "source": [
    "pendel_g_kdl= 5.96046447754e-06\n",
    "\n",
    "pendel_C_kdl= 6.91413879395e-06\n",
    "\n",
    "pendel_M_kdl= 5.96046447754e-06"
   ]
  },
  {
   "cell_type": "code",
   "execution_count": null,
   "metadata": {},
   "outputs": [],
   "source": [
    "pendel_g_rbdl= 4.05311584473e-06\n",
    "\n",
    "pendel_id_rbdl= 5.00679016113e-06\n",
    "\n",
    "pendel_C_rbdl= 5.00679016113e-06\n",
    "\n",
    "pendel_M_rbdl= 2.86102294922e-06\n",
    "\n",
    "pendel_fd_rbdl= 5.96046447754e-06"
   ]
  },
  {
   "cell_type": "markdown",
   "metadata": {},
   "source": [
    "# snake data"
   ]
  },
  {
   "cell_type": "code",
   "execution_count": null,
   "metadata": {},
   "outputs": [],
   "source": [
    "snake_g_rbdl= 1.50295972824e-05\n",
    "\n",
    "snake_id_rbdl= 3.10234069824e-05\n",
    "\n",
    "snake_C_rbdl= 2.31941103935e-05\n",
    "\n",
    "snake_M_rbdl= 1.46150946617e-05\n",
    "\n",
    "snake_fd_rbdl= 3.3531498909e-05"
   ]
  },
  {
   "cell_type": "code",
   "execution_count": null,
   "metadata": {},
   "outputs": [],
   "source": [
    "snake_g_kdl= 2.21590399742e-05\n",
    "\n",
    "snake_C_kdl= 3.06058645248e-05\n",
    "\n",
    "snake_M_kdl= 2.50537037849e-05"
   ]
  },
  {
   "cell_type": "code",
   "execution_count": null,
   "metadata": {},
   "outputs": [],
   "source": [
    "snake_g_pb= 1.22357487679e-05\n",
    "\n",
    "snake_id_pb= 2.58797883987e-05\n",
    "\n",
    "snake_C_pb= 1.90866470337e-05\n",
    "\n",
    "snake_M_pb= 1.62697076797e-05"
   ]
  },
  {
   "cell_type": "code",
   "execution_count": null,
   "metadata": {},
   "outputs": [],
   "source": [
    "\n",
    "ur5_g_u2c= 2.27650046349e-05\n",
    "\n",
    "ur5_id_u2c= 5.50861001015e-05\n",
    "\n",
    "ur5_C_u2c= 3.87549519539e-05\n",
    "\n",
    "ur5_M_u2c= 2.39140510559e-05\n",
    "\n",
    "ur5_fd_aba u2c= 5.57755470276e-05\n",
    "\n",
    "ur5_fd_crba u2c= 7.03647017479e-05\n"
   ]
  }
 ],
 "metadata": {
  "kernelspec": {
   "display_name": "Python 2",
   "language": "python",
   "name": "python2"
  },
  "language_info": {
   "codemirror_mode": {
    "name": "ipython",
    "version": 2
   },
   "file_extension": ".py",
   "mimetype": "text/x-python",
   "name": "python",
   "nbconvert_exporter": "python",
   "pygments_lexer": "ipython2",
   "version": "2.7.12"
  }
 },
 "nbformat": 4,
 "nbformat_minor": 2
}
