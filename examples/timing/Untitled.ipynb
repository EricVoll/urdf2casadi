{
 "cells": [
  {
   "cell_type": "code",
   "execution_count": 4,
   "metadata": {},
   "outputs": [],
   "source": [
    "import rbdl\n",
    "import PyKDL\n",
    "import numpy as np\n",
    "import pybullet as pb"
   ]
  },
  {
   "cell_type": "code",
   "execution_count": 7,
   "metadata": {},
   "outputs": [],
   "source": [
    "rbdlmodel = rbdl.loadModel(\"ur5_rbdl.urdf\")"
   ]
  },
  {
   "cell_type": "code",
   "execution_count": 8,
   "metadata": {},
   "outputs": [
    {
     "name": "stdout",
     "output_type": "stream",
     "text": [
      "[[1.80269578e-01 5.41846125e-17]\n",
      " [5.41846125e-17 8.84901876e-01]]\n"
     ]
    }
   ],
   "source": [
    "M = (rbdlmodel.q_size, rbdlmodel.q_size)\n",
    "M = np.zeros(M)\n",
    "q = np.zeros(rbdlmodel.q_size)\n",
    "rbdl.CompositeRigidBodyAlgorithm(rbdlmodel, q, M)\n",
    "print M"
   ]
  },
  {
   "cell_type": "code",
   "execution_count": 15,
   "metadata": {},
   "outputs": [
    {
     "name": "stdout",
     "output_type": "stream",
     "text": [
      "5\n",
      "2\n"
     ]
    }
   ],
   "source": [
    "sim = pb.connect(pb.DIRECT)\n",
    "pbmodel = pb.loadURDF(\"ur5_rbdl.urdf\")\n",
    "print pbmodel\n",
    "print pb.getNumJoints(pbmodel)"
   ]
  },
  {
   "cell_type": "code",
   "execution_count": 16,
   "metadata": {},
   "outputs": [
    {
     "name": "stdout",
     "output_type": "stream",
     "text": [
      "((0.3891906064370965, -0.3192529292520151, -0.20952717674347282, 0.0, -1.0781996472677822, 1.1401890281885863, 0.2328220764621668, 0.20952717577273575), (-0.3192529292520151, 0.9964922421903548, -0.10165809611990975, 1.0781996472677822, 0.0, -2.3500400100052334, -0.3192529292520151, 0.0), (-0.20952717674347282, -0.10165809611990975, 0.9596730659709681, -1.1401890281885863, 2.3500400100052334, 0.0, 3.331666031026878e-08, -0.784404190269598), (0.0, 1.0781996472677822, -1.1401890281885863, 16.093, 0.0, 0.0, 0.0, 0.0), (-1.0781996472677822, 0.0, 2.3500400100052334, 0.0, 16.093, 0.0, 1.0272351554121799e-07, -2.3500400100052357), (1.1401890281885863, -2.3500400100052334, 0.0, 0.0, 0.0, 16.093, 1.1401890281885863, 0.0), (0.2328220764621668, -0.3192529292520151, 3.331666031026878e-08, 0.0, 1.0272351554121799e-07, 1.1401890281885863, 0.2328220856208924, -3.4287397528000435e-08), (0.20952717577273575, 0.0, -0.784404190269598, 0.0, -2.3500400100052357, 0.0, -3.4287397528000435e-08, 0.7844041902695987))\n"
     ]
    },
    {
     "ename": "error",
     "evalue": "Error in calculateInverseDynamics, please check arguments.",
     "output_type": "error",
     "traceback": [
      "\u001b[0;31m---------------------------------------------------------------------------\u001b[0m",
      "\u001b[0;31merror\u001b[0m                                     Traceback (most recent call last)",
      "\u001b[0;31merror\u001b[0m: Error in calculateInverseDynamics, please check arguments."
     ]
    }
   ],
   "source": [
    "q_none = [0., 0.]\n",
    "H = pb.calculateMassMatrix(pbmodel, q_none)\n",
    "print H\n",
    "\n",
    "tau = pb.calculateInverseDynamics(pbmodel, q_none, q_none, q_none)"
   ]
  },
  {
   "cell_type": "code",
   "execution_count": null,
   "metadata": {},
   "outputs": [],
   "source": []
  }
 ],
 "metadata": {
  "kernelspec": {
   "display_name": "Python 2",
   "language": "python",
   "name": "python2"
  },
  "language_info": {
   "codemirror_mode": {
    "name": "ipython",
    "version": 2
   },
   "file_extension": ".py",
   "mimetype": "text/x-python",
   "name": "python",
   "nbconvert_exporter": "python",
   "pygments_lexer": "ipython2",
   "version": "2.7.12"
  }
 },
 "nbformat": 4,
 "nbformat_minor": 2
}
