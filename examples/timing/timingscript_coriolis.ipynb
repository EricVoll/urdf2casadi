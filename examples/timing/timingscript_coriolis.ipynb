{
 "cells": [
  {
   "cell_type": "code",
   "execution_count": 2,
   "metadata": {},
   "outputs": [],
   "source": [
    "import numpy as np \n",
    "import urdf2casadi.urdfparser as u2c\n",
    "from urdf2casadi.geometry import plucker\n",
    "from urdf_parser_py.urdf import URDF, Pose\n",
    "#import PyKDL as kdl\n",
    "#import kdl_parser.kdl_parser_py.kdl_parser_py.urdf as kdlurdf\n",
    "from timeit import Timer, timeit, repeat\n",
    "import rbdl\n",
    "import pybullet as pb\n"
   ]
  },
  {
   "cell_type": "code",
   "execution_count": null,
   "metadata": {},
   "outputs": [],
   "source": [
    "path_to_urdf = \"/home/lillmaria/urdf2casadi/examples/timing/urdf4timing/\" + \"1\" + \"dof.urdf\"\n",
    "\n",
    "sim = pb.connect(pb.DIRECT)\n",
    "pbmodel = pb.loadURDF(\"/urdf4timing/1dof.urdf\")\n",
    "\n",
    "rbdlmodel = rbdl.loadModel(\"/home/lillmaria/urdf2casadi/examples/timing/urdf4timing/ur5_rbdl.urdf\")"
   ]
  },
  {
   "cell_type": "code",
   "execution_count": null,
   "metadata": {},
   "outputs": [],
   "source": []
  }
 ],
 "metadata": {
  "kernelspec": {
   "display_name": "Python 2",
   "language": "python",
   "name": "python2"
  },
  "language_info": {
   "codemirror_mode": {
    "name": "ipython",
    "version": 2
   },
   "file_extension": ".py",
   "mimetype": "text/x-python",
   "name": "python",
   "nbconvert_exporter": "python",
   "pygments_lexer": "ipython2",
   "version": "2.7.12"
  }
 },
 "nbformat": 4,
 "nbformat_minor": 2
}
