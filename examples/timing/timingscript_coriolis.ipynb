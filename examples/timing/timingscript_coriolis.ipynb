{
 "cells": [
  {
   "cell_type": "code",
   "execution_count": 2,
   "metadata": {},
   "outputs": [],
   "source": [
    "import numpy as np \n",
    "import urdf2casadi.urdfparser as u2c\n",
    "from urdf2casadi.geometry import plucker\n",
    "from urdf_parser_py.urdf import URDF, Pose\n",
    "#import PyKDL as kdl\n",
    "#import kdl_parser.kdl_parser_py.kdl_parser_py.urdf as kdlurdf\n",
    "from timeit import Timer, timeit, repeat\n",
    "import rbdl\n",
    "import pybullet as pb\n"
   ]
  },
  {
   "cell_type": "code",
   "execution_count": 10,
   "metadata": {},
   "outputs": [],
   "source": [
    "def median(lst):\n",
    "    n = len(lst)\n",
    "    if n < 1:\n",
    "            return None\n",
    "    if n % 2 == 1:\n",
    "            return sorted(lst)[n//2]\n",
    "    else:\n",
    "            return sum(sorted(lst)[n//2-1:n//2+1])/2.0\n",
    "        \n",
    "def average(lst): \n",
    "    return sum(lst) / len(lst) \n",
    "\n",
    "#def C_kdl_func():\n",
    "#    for j in range(njoints):\n",
    "#        q_kdl[j] = (qmax[j] - qmin[j])*np.random.rand()-(qmax[j] - qmin[j])/2\n",
    "        #qdot_kdl[j] = (qmax[j] - qmin[j])*np.random.rand()-(qmax[j] - qmin[j])/2\n",
    "\n",
    "#    kdl.ChainDynParam(kdlmodel, g_kdl).JntToCoriolis(q_kdl, qdot_kdl, C_kdl)\n",
    "\n",
    "#timeit_kdl = repeat(\"M_kdl_func()\", setup = \"from __main__ import M_kdl_func\", repeat = nrepeat, number = nitr)\n",
    "#mintime_kdl[i] = min(timeit_kdl)\n",
    "#mediantime_kdl[i] = median(timeit_kdl)\n",
    "#averagetime_kdl[i] = average(timeit_kdl)\n",
    "\n",
    "def C_u2c_func():   \n",
    "    for j in range(njoints):\n",
    "        q_none = (qmax[j] - qmin[j])*np.random.rand()-(qmax[j] - qmin[j])/2\n",
    "        qdot_none[j] = (qmax[j] - qmin[j])*np.random.rand()-(qmax[j] - qmin[j])/2\n",
    "\n",
    "    C_u2c(q_none, qdot_none, qddot)\n",
    "    \n",
    "def C_pb_func():\n",
    "    for j in range(njoints):\n",
    "        q_none[j] = (qmax[j] - qmin[j])*np.random.rand()-(qmax[j] - qmin[j])/2\n",
    "        qdot_none[j] = (qmax[j] - qmin[j])*np.random.rand()-(qmax[j] - qmin[j])/2\n",
    "    \n",
    "    C_pb = pb.calculateInverseDynamics(pbmodel, q_none, qdot_none, qddot)\n",
    "    \n",
    "    \n",
    "def C_rbdl_func():\n",
    "    for j in range(njoints):\n",
    "        q_np[j] = (qmax[j] - qmin[j])*np.random.rand()-(qmax[j] - qmin[j])/2\n",
    "        qdot_np[j] = (qmax[j] - qmin[j])*np.random.rand()-(qmax[j] - qmin[j])/2\n",
    "\n",
    "    rbdl.InverseDynamics(rbdlmodel, q_np, qdot_np, qddot_np, C_rbdl)\n",
    "\n"
   ]
  },
  {
   "cell_type": "code",
   "execution_count": 11,
   "metadata": {},
   "outputs": [
    {
     "name": "stdout",
     "output_type": "stream",
     "text": [
      "0\n",
      "1dof.urdf\n",
      "1\n",
      "2dof.urdf\n",
      "2\n",
      "3dof.urdf\n",
      "3\n",
      "4dof.urdf\n",
      "4\n",
      "5dof.urdf\n",
      "5\n",
      "6dof.urdf\n",
      "6\n",
      "7dof.urdf\n",
      "7\n",
      "8dof.urdf\n",
      "8\n",
      "9dof.urdf\n",
      "9\n",
      "10dof.urdf\n",
      "10\n",
      "11dof.urdf\n",
      "11\n",
      "12dof.urdf\n",
      "12\n",
      "13dof.urdf\n",
      "13\n",
      "14dof.urdf\n",
      "14\n",
      "15dof.urdf\n",
      "15\n",
      "16dof.urdf\n",
      "16\n",
      "17dof.urdf\n",
      "17\n",
      "18dof.urdf\n",
      "18\n",
      "19dof.urdf\n",
      "19\n",
      "20dof.urdf\n",
      "20\n",
      "21dof.urdf\n",
      "21\n",
      "22dof.urdf\n",
      "22\n",
      "23dof.urdf\n",
      "23\n",
      "24dof.urdf\n",
      "24\n",
      "25dof.urdf\n",
      "25\n",
      "26dof.urdf\n",
      "26\n",
      "27dof.urdf\n",
      "27\n",
      "28dof.urdf\n",
      "28\n",
      "29dof.urdf\n",
      "29\n",
      "30dof.urdf\n"
     ]
    }
   ],
   "source": [
    "#pbmodel = pb.loadURDF(\"pantilt.urdf\")\n",
    "sim = pb.connect(pb.DIRECT)\n",
    "#pbmodel = pb.loadURDF(\"/urdf4timing/1dof.urdf\")\n",
    "ndofs = 30\n",
    "urdf_nr = list(range(ndofs + 1))\n",
    "urdf_nr.pop(0)\n",
    "\n",
    "#storage for timing data\n",
    "mediantime_kdl = [None]*ndofs\n",
    "mediantime_u2c = [None]*ndofs\n",
    "mediantime_rbdl = [None]*ndofs\n",
    "mediantime_pb = [None]*ndofs\n",
    "mintime_kdl = [None]*ndofs\n",
    "mintime_u2c = [None]*ndofs\n",
    "mintime_rbdl = [None]*ndofs\n",
    "mintime_pb = [None]*ndofs\n",
    "averagetime_kdl = [None]*ndofs\n",
    "averagetime_u2c = [None]*ndofs\n",
    "averagetime_rbdl = [None]*ndofs\n",
    "averagetime_pb = [None]*ndofs\n",
    "\n",
    "nitr = 50000\n",
    "nrepeat = 10\n",
    "    \n",
    "for i in range(ndofs):    \n",
    "    print i\n",
    "    #path_to_urdf = \"/home/lillmaria/urdf2casadi/examples/timing/urdf4timing/\" + str(urdf_nr[i]) + \"dof.urdf\"\n",
    "    path_to_urdf = str(urdf_nr[i]) + \"dof.urdf\"\n",
    "    end_link = \"link\" + str(urdf_nr[i])\n",
    "    root = 'base_link'\n",
    "    tip = end_link\n",
    "    \n",
    "    #ok, kdl_tree = kdlurdf.treeFromFile(path_to_urdf)\n",
    "    #kdlmodel = kdl_tree.getChain(root,tip)\n",
    "    \n",
    "    rbdlmodel = rbdl.loadModel(path_to_urdf)\n",
    "    pbmodel = pb.loadURDF(path_to_urdf, useFixedBase=True)\n",
    "    asd = u2c.URDFparser()\n",
    "    robot_desc = asd.from_file(path_to_urdf)\n",
    "    \n",
    "    jlist, names, qmax, qmin = asd.get_joint_info(root, tip)\n",
    "    njoints = len(jlist)\n",
    "\n",
    "    #g_kdl = kdl.Vector()\n",
    "    #M_kdl = kdl.JntSpaceInertiaMatrix(njoints)\n",
    "    \n",
    "    #rbdl declarations\n",
    "    q_np = np.zeros(njoints)\n",
    "    qdot_np = np.zeros(njoints)\n",
    "    qddot_np = np.zeros(njoints)\n",
    "    C_rbdl = np.zeros(njoints)\n",
    "    \n",
    "    #kdl declatations\n",
    "    #q_kdl = kdl.JntArray(njoints)\n",
    "    #qdot_kdl = kdl.JntArray(njoints)\n",
    "    \n",
    "    #u2c and pybullet declarations\n",
    "    q_none = [None]*njoints\n",
    "    qdot_none = [None]*njoints\n",
    "    C_pb = [None]*njoints\n",
    "    \n",
    "    qddot = []\n",
    "    for i in range(njoints):\n",
    "        qddot.append(0.)\n",
    "    \n",
    "    C_u2c = asd.get_inverse_dynamics_RNEA(root, tip)\n",
    "    timeit_u2c = repeat(\"C_u2c_func()\", setup = \"from __main__ import C_u2c_func\", repeat = nrepeat, number = nitr)\n",
    "    mintime_u2c[i] = min(timeit_u2c)\n",
    "    mediantime_u2c[i] = median(timeit_u2c)\n",
    "    averagetime_u2c[i] = average(timeit_u2c)\n",
    "    \n",
    "    timeit_pb = repeat(\"C_pb_func()\", setup = \"from __main__ import C_pb_func\", repeat = nrepeat, number = nitr)\n",
    "    #print C_pb\n",
    "    mintime_pb[i] = min(timeit_pb)\n",
    "    mediantime_pb[i] = median(timeit_pb)\n",
    "    averagetime_pb[i] = average(timeit_pb)\n",
    "    \n",
    "    timeit_rbdl = repeat(\"C_rbdl_func()\", setup = \"from __main__ import C_rbdl_func\", repeat = nrepeat, number = nitr)\n",
    "    mintime_rbdl[i] = min(timeit_rbdl)\n",
    "    mediantime_rbdl[i] = median(timeit_rbdl)\n",
    "    averagetime_rbdl[i] = average(timeit_rbdl)\n",
    "\n",
    "\n",
    "    \n",
    "    "
   ]
  },
  {
   "cell_type": "code",
   "execution_count": 12,
   "metadata": {},
   "outputs": [
    {
     "name": "stdout",
     "output_type": "stream",
     "text": [
      "[0.9798460006713867, 1.1409409046173096, 1.2150249481201172, 1.2833740711212158, 1.3728139400482178, 1.4272840023040771, 1.5176379680633545, 1.5448169708251953, 1.646569013595581, 1.7046828269958496, 1.8000049591064453, 1.8329861164093018, 1.9341390132904053, 1.9516370296478271, 2.0391178131103516, 2.120511054992676, 2.2416770458221436, 2.2424957752227783, 2.415148973464966, 2.377779006958008, 2.5574989318847656, 2.4997267723083496, 2.680233955383301, 2.6081490516662598, 2.795736074447632, 2.7359580993652344, 2.91044282913208, 2.8446621894836426, 3.0417001247406006, 2.990041971206665]\n",
      "[0.10997200012207031, 0.16757917404174805, 0.22202086448669434, 0.2738330364227295, 0.33002805709838867, 0.3847389221191406, 0.4417541027069092, 0.49291300773620605, 0.5489718914031982, 0.6042430400848389, 0.6559948921203613, 0.718142032623291, 0.776900053024292, 0.821303129196167, 0.8769590854644775, 0.9396131038665771, 0.9922988414764404, 1.0427989959716797, 1.1008970737457275, 1.1617729663848877, 1.2153499126434326, 1.2592048645019531, 1.3173460960388184, 1.365109920501709, 1.4238429069519043, 1.478646993637085, 1.5361018180847168, 1.5965080261230469, 1.6523349285125732, 1.7042839527130127]\n"
     ]
    }
   ],
   "source": [
    "print mintime_u2c\n",
    "\n",
    "print mintime_pb"
   ]
  },
  {
   "cell_type": "code",
   "execution_count": 13,
   "metadata": {},
   "outputs": [
    {
     "data": {
      "image/png": "[encoded data removed]",
      "text/plain": [
       "<Figure size 576x576 with 1 Axes>"
      ]
     },
     "metadata": {},
     "output_type": "display_data"
    }
   ],
   "source": [
    "import matplotlib.pyplot as plt\n",
    "import pandas as pd\n",
    "\n",
    "joint_nr = list(range(ndofs + 1))\n",
    "joint_nr.pop(0)\n",
    "med_fig = plt.figure(figsize = (8, 8))\n",
    "#plt.scatter(joint_nr, mediantime_kdl, c='r', marker='x', label='kdl')\n",
    "plt.scatter(joint_nr, mediantime_u2c, c='fuchsia', marker='s', label='u2c')\n",
    "plt.scatter(joint_nr, mediantime_rbdl, c='b', marker='s', label='rbdl')\n",
    "plt.scatter(joint_nr, mediantime_pb, c='r', marker='s', label='pybullet')\n",
    "plt.legend(loc='upper left')\n",
    "med_fig.show()"
   ]
  },
  {
   "cell_type": "code",
   "execution_count": 14,
   "metadata": {},
   "outputs": [
    {
     "name": "stdout",
     "output_type": "stream",
     "text": [
      "30\n",
      "30\n"
     ]
    },
    {
     "data": {
      "image/png": "[encoded data removed]",
      "text/plain": [
       "<Figure size 576x576 with 1 Axes>"
      ]
     },
     "metadata": {},
     "output_type": "display_data"
    }
   ],
   "source": [
    "print len(joint_nr)\n",
    "print len(mintime_u2c)\n",
    "\n",
    "min_fig = plt.figure(figsize = (8, 8))\n",
    "#plt.scatter(joint_nr, mintime_kdl, c='r', marker='x', label='kdl')\n",
    "plt.scatter(joint_nr, mintime_u2c, c='fuchsia', label='u2c')\n",
    "plt.scatter(joint_nr, mintime_rbdl, c='b', marker='s', label='rbdl')\n",
    "plt.scatter(joint_nr, mintime_pb, c='r', marker='s', label='pybullet')\n",
    "plt.legend(loc='upper left')\n",
    "min_fig.show()"
   ]
  },
  {
   "cell_type": "code",
   "execution_count": null,
   "metadata": {},
   "outputs": [],
   "source": []
  }
 ],
 "metadata": {
  "kernelspec": {
   "display_name": "Python 2",
   "language": "python",
   "name": "python2"
  },
  "language_info": {
   "codemirror_mode": {
    "name": "ipython",
    "version": 2
   },
   "file_extension": ".py",
   "mimetype": "text/x-python",
   "name": "python",
   "nbconvert_exporter": "python",
   "pygments_lexer": "ipython2",
   "version": "2.7.12"
  }
 },
 "nbformat": 4,
 "nbformat_minor": 2
}
