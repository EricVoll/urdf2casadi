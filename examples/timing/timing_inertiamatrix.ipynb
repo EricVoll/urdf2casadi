{
 "cells": [
  {
   "cell_type": "code",
   "execution_count": 1,
   "metadata": {},
   "outputs": [
    {
     "ename": "ImportError",
     "evalue": "No module named urdf2casadi.urdfparser",
     "output_type": "error",
     "traceback": [
      "\u001b[0;31m---------------------------------------------------------------------------\u001b[0m",
      "\u001b[0;31mImportError\u001b[0m                               Traceback (most recent call last)",
      "\u001b[0;32m<ipython-input-1-eede40aa2460>\u001b[0m in \u001b[0;36m<module>\u001b[0;34m()\u001b[0m\n\u001b[1;32m      2\u001b[0m \u001b[0;32mfrom\u001b[0m \u001b[0murdf_parser_py\u001b[0m\u001b[0;34m.\u001b[0m\u001b[0murdf\u001b[0m \u001b[0;32mimport\u001b[0m \u001b[0mURDF\u001b[0m\u001b[0;34m,\u001b[0m \u001b[0mPose\u001b[0m\u001b[0;34m\u001b[0m\u001b[0m\n\u001b[1;32m      3\u001b[0m \u001b[0;32mimport\u001b[0m \u001b[0mos\u001b[0m \u001b[0;31m# For current directory\u001b[0m\u001b[0;34m\u001b[0m\u001b[0m\n\u001b[0;32m----> 4\u001b[0;31m \u001b[0;32mimport\u001b[0m \u001b[0murdf2casadi\u001b[0m\u001b[0;34m.\u001b[0m\u001b[0murdf2casadi\u001b[0m\u001b[0;34m.\u001b[0m\u001b[0murdfparser\u001b[0m\u001b[0;34m\u001b[0m\u001b[0m\n\u001b[0m\u001b[1;32m      5\u001b[0m \u001b[0;32mimport\u001b[0m \u001b[0murdf2casadi\u001b[0m\u001b[0;34m.\u001b[0m\u001b[0murdf2casadi\u001b[0m\u001b[0;34m.\u001b[0m\u001b[0mgeometry\u001b[0m\u001b[0;34m.\u001b[0m\u001b[0mplucker\u001b[0m \u001b[0;32mas\u001b[0m \u001b[0mplucker\u001b[0m\u001b[0;34m\u001b[0m\u001b[0m\n\u001b[1;32m      6\u001b[0m \u001b[0;32mimport\u001b[0m \u001b[0mnumpy\u001b[0m \u001b[0;32mas\u001b[0m \u001b[0mnp\u001b[0m\u001b[0;34m\u001b[0m\u001b[0m\n",
      "\u001b[0;31mImportError\u001b[0m: No module named urdf2casadi.urdfparser"
     ]
    }
   ],
   "source": [
    "import casadi as cs\n",
    "from urdf_parser_py.urdf import URDF, Pose\n",
    "import os # For current directory\n",
    "import urdf2casadi.urdf2casadi.urdfparser\n",
    "import urdf2casadi.urdf2casadi.geometry.plucker as plucker\n",
    "import numpy as np\n",
    "import PyKDL as kdl\n",
    "import kdl_parser.kdl_parser_py.kdl_parser_py.urdf as kdlurdf\n",
    "from timeit import Timer, timeit, repeat\n",
    "import rbdl"
   ]
  },
  {
   "cell_type": "markdown",
   "metadata": {},
   "source": [
    "## Load models:"
   ]
  },
  {
   "cell_type": "code",
   "execution_count": 20,
   "metadata": {},
   "outputs": [
    {
     "name": "stdout",
     "output_type": "stream",
     "text": [
      "The root link base_link has an inertia specified in the URDF, but KDL does not support a root link with an inertia.  As a workaround, you can add an extra dummy link to your URDF.\n",
      "./urdf2casadi/examples/urdf/test.urdf\n"
     ]
    }
   ],
   "source": [
    "ok, ur_tree = kdlurdf.treeFromFile('./urdf2casadi/examples/urdf/test.urdf')\n",
    "#ok, ur_tree = kdlurdf.treeFromFile('pantilt.urdf')\n",
    "asd = urdf2casadi.urdf2casadi.urdfparser.URDFparser()\n",
    "robot_desc = asd.from_file(\"./urdf2casadi/examples/urdf/test.urdf\")\n",
    "#robot_desc = asd.from_file(\"pantilt.urdf\")\n",
    "root = 'base_link'\n",
    "tip = 'wrist_3_link'\n",
    "ur_chain = ur_tree.getChain(root,tip)\n",
    "rbdlmodel = rbdl.loadModel(\"ur5_rbdl.urdf\")"
   ]
  },
  {
   "cell_type": "markdown",
   "metadata": {},
   "source": [
    "## Declare variables to use in timing tests:"
   ]
  },
  {
   "cell_type": "code",
   "execution_count": 22,
   "metadata": {},
   "outputs": [
    {
     "name": "stdout",
     "output_type": "stream",
     "text": [
      "6\n",
      "6\n",
      "@1=0, [@1, @1, @1, @1, @1, @1]\n"
     ]
    }
   ],
   "source": [
    "jlist, names, qmax, qmin = asd.get_joint_info(root, tip)\n",
    "njoints = len(jlist)\n",
    "print njoints\n",
    "print len(qmax)\n",
    "\n",
    "H_ur = kdl.JntSpaceInertiaMatrix(6)\n",
    "\n",
    "grav = kdl.Vector()\n",
    "grav[2] = -9.81\n",
    "\n",
    "q = kdl.JntArray(njoints)\n",
    "qdot = kdl.JntArray(njoints)\n",
    "\n",
    "q_np = np.zeros(njoints)\n",
    "qdot_np = np.zeros(njoints)\n",
    "qddot_np = np.zeros(njoints)\n",
    "\n",
    "q_sx = cs.SX.zeros(njoints)\n",
    "print q_sx\n",
    "qdot_sx = cs.SX.zeros(njoints)\n",
    "\n",
    "q_none = [None]*njoints\n",
    "qdot_none = [None]*njoints\n",
    "qddot_none = [None]*njoints\n",
    "\n",
    "tau_kdl = kdl.JntArray(njoints)\n",
    "grav_kdl = kdl.JntArray(njoints)\n",
    "\n",
    "nitr = 50000\n",
    "nrepeat = 3\n",
    "\n",
    "M_rbdl = (rbdlmodel.q_size, rbdlmodel.q_size)\n",
    "M_rbdl = np.zeros(M_rbdl)\n"
   ]
  },
  {
   "cell_type": "markdown",
   "metadata": {},
   "source": [
    "# Inertia Matrix Timing \n",
    "## KDL vs u2c:\n",
    "With timeit module:"
   ]
  },
  {
   "cell_type": "code",
   "execution_count": 10,
   "metadata": {},
   "outputs": [
    {
     "name": "stdout",
     "output_type": "stream",
     "text": [
      "0.994987010956\n",
      "1.98997402191e-05\n",
      "[0.8941152095794678, 0.8484561443328857, 0.8353838920593262, 0.8279831409454346, 0.827606201171875, 0.8432409763336182, 0.8361051082611084, 0.8390989303588867, 0.8260359764099121, 0.8260140419006348]\n"
     ]
    }
   ],
   "source": [
    "def M_kdl():\n",
    "    for j in range(njoints):\n",
    "        q[j] = (qmax[j] - qmin[j])*np.random.rand()-(qmax[j] - qmin[j])/2\n",
    "        #qdot[j] = (qmax[j] - qmin[j])*np.random.rand()-(qmax[j] - qmin[j])/2\n",
    "\n",
    "    kdl.ChainDynParam(ur_chain, grav).JntToMass(q, H_ur)\n",
    "\n",
    "timeit_M_kdl = timeit(\"M_kdl()\", setup = \"from __main__ import M_kdl\", number = nitr)\n",
    "print timeit_M_kdl\n",
    "print timeit_M_kdl/nitr\n",
    "timeit_M_kdl_repeat = repeat(\"M_kdl()\", setup = \"from __main__ import M_kdl\", repeat = 10, number = nitr)\n",
    "print timeit_M_kdl_repeat"
   ]
  },
  {
   "cell_type": "code",
   "execution_count": 8,
   "metadata": {},
   "outputs": [],
   "source": [
    "M = asd.get_jointspace_inertia_matrix(root, tip)"
   ]
  },
  {
   "cell_type": "code",
   "execution_count": 9,
   "metadata": {},
   "outputs": [
    {
     "name": "stdout",
     "output_type": "stream",
     "text": [
      "0.697988986969\n",
      "1.39597797394e-05\n",
      "[1.100003957748413, 0.8199138641357422, 0.6107070446014404, 0.6007380485534668, 0.5877580642700195, 0.5841989517211914, 1.0059311389923096, 0.9312691688537598, 1.1127619743347168, 0.5959780216217041]\n"
     ]
    }
   ],
   "source": [
    "def M_u2c():   \n",
    "    for j in range(njoints):\n",
    "        q_none = (qmax[j] - qmin[j])*np.random.rand()-(qmax[j] - qmin[j])/2\n",
    "        #qdot_np[j] = (qmax[j] - qmin[j])*np.random.rand()-(qmax[j] - qmin[j])/2\n",
    "\n",
    "    M(q_none)\n",
    "\n",
    "timeit_M_u2c = timeit(\"M_u2c()\", setup = \"from __main__ import M_u2c\", number = 50000)\n",
    "print timeit_M_u2c\n",
    "print timeit_M_u2c/50000\n",
    "timeit_M_u2c_repeat = repeat(\"M_u2c()\", setup = \"from __main__ import M_u2c\", repeat = 10, number = 50000)\n",
    "print timeit_M_u2c_repeat"
   ]
  },
  {
   "cell_type": "markdown",
   "metadata": {},
   "source": [
    "With timeit magic:"
   ]
  },
  {
   "cell_type": "code",
   "execution_count": 25,
   "metadata": {},
   "outputs": [
    {
     "name": "stdout",
     "output_type": "stream",
     "text": [
      "[2.5185980796813965, 2.3144681453704834, 2.453153133392334, 2.3757059574127197, 2.4539759159088135, 2.341848134994507, 2.374173879623413, 2.3893380165100098, 2.3690850734710693, 2.3069770336151123]\n"
     ]
    }
   ],
   "source": [
    "def M_rbdl_func():\n",
    "    for j in range(njoints):\n",
    "        q_np[j] = (qmax[j] - qmin[j])*np.random.rand()-(qmax[j] - qmin[j])/2\n",
    "\n",
    "    rbdl.CompositeRigidBodyAlgorithm(rbdlmodel, q_np, M_rbdl)\n",
    "timeit_M_rbdl_repeat = repeat(\"M_rbdl_func()\", setup = \"from __main__ import M_rbdl_func\", repeat = 10, number = 50000)\n",
    "print timeit_M_rbdl_repeat"
   ]
  },
  {
   "cell_type": "code",
   "execution_count": null,
   "metadata": {},
   "outputs": [],
   "source": []
  },
  {
   "cell_type": "code",
   "execution_count": null,
   "metadata": {},
   "outputs": [],
   "source": []
  }
 ],
 "metadata": {
  "kernelspec": {
   "display_name": "Python 2",
   "language": "python",
   "name": "python2"
  },
  "language_info": {
   "codemirror_mode": {
    "name": "ipython",
    "version": 2
   },
   "file_extension": ".py",
   "mimetype": "text/x-python",
   "name": "python",
   "nbconvert_exporter": "python",
   "pygments_lexer": "ipython2",
   "version": "2.7.12"
  }
 },
 "nbformat": 4,
 "nbformat_minor": 2
}
