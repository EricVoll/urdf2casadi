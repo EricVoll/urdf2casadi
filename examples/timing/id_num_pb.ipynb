{
 "cells": [
  {
   "cell_type": "code",
   "execution_count": 1,
   "metadata": {},
   "outputs": [],
   "source": [
    "import numpy as np \n",
    "import urdf2casadi.urdfparser as u2c\n",
    "from urdf2casadi.geometry import plucker\n",
    "from urdf_parser_py.urdf import URDF, Pose\n",
    "import PyKDL as kdl\n",
    "import kdl_parser_py.urdf as kdlurdf\n",
    "from timeit import Timer, timeit, repeat\n",
    "import rbdl\n",
    "import pybullet as pb\n"
   ]
  },
  {
   "cell_type": "code",
   "execution_count": 2,
   "metadata": {},
   "outputs": [
    {
     "name": "stdout",
     "output_type": "stream",
     "text": [
      "The root link base_link has an inertia specified in the URDF, but KDL does not support a root link with an inertia.  As a workaround, you can add an extra dummy link to your URDF.\n",
      "/home/lillmaria/urdf2casadi/examples/timing/urdf4timing/2dof.urdf\n"
     ]
    }
   ],
   "source": [
    "sim = pb.connect(pb.DIRECT)\n",
    "pb.setGravity(0,0,-9.81)\n",
    "#path_to_urdf = \"/home/lillmaria/urdf2casadi/examples/urdf/pantilt.urdf\"\n",
    "path_to_urdf = \"/home/lillmaria/urdf2casadi/examples/timing/urdf4timing/2dof.urdf\"\n",
    "\n",
    "#tip = \"tilt_link\"\n",
    "root = 'base_link'\n",
    "tip = 'link2'\n",
    "\n",
    "ok, kdl_tree = kdlurdf.treeFromFile(path_to_urdf)\n",
    "kdlmodel = kdl_tree.getChain(root,tip)\n",
    "    \n",
    "#rbdlmodel = rbdl.loadModel(path_to_urdf)\n",
    "pbmodel = pb.loadURDF(path_to_urdf,globalScaling=1, basePosition = (0, 0, 10), baseOrientation = (0, 0, 0, 10), useFixedBase=True, flags=pb.URDF_USE_IMPLICIT_CYLINDER|pb.URDF_USE_INERTIA_FROM_FILE|pb.URDF_INITIALIZE_SAT_FEATURES )\n",
    "asd = u2c.URDFparser()\n",
    "asd.from_file(path_to_urdf)\n",
    "    \n",
    "jlist, names, qmax, qmin = asd.get_joint_info(root, tip)\n",
    "njoints = len(jlist)\n",
    "    \n",
    "gravity = [0, 0, -9.81]\n",
    "    \n",
    "#rbdl declarations\n",
    "q_np = np.zeros(njoints)\n",
    "qdot_np = np.zeros(njoints)\n",
    "qddot_np = np.zeros(njoints)\n",
    "id_rbdl = np.zeros(njoints)\n",
    "    \n",
    "#u2c and pybullet declarations\n",
    "q = [None]*njoints\n",
    "qdot = [None]*njoints\n",
    "qddot = [None]*njoints\n",
    "id_pb = [None]*njoints\n",
    "c_pb = [None]*njoints\n",
    "\n",
    "gravity_kdl = kdl.Vector()\n",
    "gravity_kdl[2] = -9.81\n",
    "q_kdl = kdl.JntArray(njoints)\n",
    "qdot_kdl = kdl.JntArray(njoints)\n",
    "g_kdl = kdl.JntArray(njoints)\n",
    "c_kdl = kdl.JntArray(njoints)\n",
    "    \n",
    "id_sym = asd.get_inverse_dynamics_rnea(root, tip, gravity)\n",
    "c_sym = asd.get_coriolis_rnea(root, tip)"
   ]
  },
  {
   "cell_type": "code",
   "execution_count": 3,
   "metadata": {},
   "outputs": [
    {
     "name": "stdout",
     "output_type": "stream",
     "text": [
      "g u2c: [2.40763, 11.0924]\n",
      "g pb: (2.407627808328206, 11.09235825826987)\n",
      "g kdl 2.40763\n",
      "11.0924\n"
     ]
    }
   ],
   "source": [
    "for i in range(njoints):\n",
    "    q[i] = (qmax[i] - qmin[i])*np.random.rand()-(qmax[i] - qmin[i])/2\n",
    "    q_kdl[i] = q[i]\n",
    "    qdot[i] = 0#(qmax[i] - qmin[i])*np.random.rand()-(qmax[i] - qmin[i])/2\n",
    "    qddot[i] = 0#(qmax[i] - qmin[i])*np.random.rand()-(qmax[i] - qmin[i])/2\n",
    "\n",
    "    \n",
    "    \n",
    "id_u2c = id_sym(q, qdot, qddot)\n",
    "print \"g u2c:\", id_u2c\n",
    "\n",
    "id_pb = pb.calculateInverseDynamics(pbmodel, q, qdot, qddot)\n",
    "print \"g pb:\", id_pb\n",
    "\n",
    "kdl.ChainDynParam(kdlmodel, gravity_kdl).JntToGravity(q_kdl, g_kdl)\n",
    "print \"g kdl\", g_kdl"
   ]
  },
  {
   "cell_type": "code",
   "execution_count": 4,
   "metadata": {},
   "outputs": [
    {
     "name": "stdout",
     "output_type": "stream",
     "text": [
      "c u2c: [9.98406, 2.65551]\n",
      "c pb: (9.984062385537788, 2.655511809968429)\n",
      "c kdl -6.46365\n",
      " 0.33888\n"
     ]
    }
   ],
   "source": [
    "for i in range(njoints):\n",
    "    q[i] = (qmax[i] - qmin[i])*np.random.rand()-(qmax[i] - qmin[i])/2\n",
    "    q_kdl[i] = q[i]\n",
    "    qdot[i] = (qmax[i] - qmin[i])*np.random.rand()-(qmax[i] - qmin[i])/2\n",
    "    qdot_kdl[i] = qdot[i]\n",
    "    qddot[i] = (qmax[i] - qmin[i])*np.random.rand()-(qmax[i] - qmin[i])/2\n",
    "\n",
    "c_u2c = id_sym(q, qdot, qddot)\n",
    "print \"c u2c:\", c_u2c\n",
    "\n",
    "c_pb = pb.calculateInverseDynamics(pbmodel, q, qdot, qddot)\n",
    "print \"c pb:\", c_pb\n",
    "\n",
    "kdl.ChainDynParam(kdlmodel, gravity_kdl).JntToCoriolis(q_kdl, qdot_kdl, c_kdl)\n",
    "print \"c kdl\", c_kdl"
   ]
  },
  {
   "cell_type": "code",
   "execution_count": 5,
   "metadata": {},
   "outputs": [
    {
     "name": "stdout",
     "output_type": "stream",
     "text": [
      "Errors in coriolis forces with 1000 iterations and comparing against KDL:\n",
      "[2.41495712e-12 1.47754031e-12]\n",
      "Sum of errors:\n",
      "3.89249743548703e-12\n"
     ]
    }
   ],
   "source": [
    "import casadi as cs\n",
    "\n",
    "def u2c2np(asd):\n",
    "    return cs.Function(\"temp\",[],[asd])()[\"o0\"].toarray()\n",
    "\n",
    "def kdl2np(asd):\n",
    "    x = []\n",
    "    for i in range(njoints):\n",
    "        x.append(asd[i])\n",
    "    return np.asarray(x)\n",
    "\n",
    "error = np.zeros(njoints)\n",
    "\n",
    "n_itr = 1000\n",
    "\n",
    "for i in range(n_itr):\n",
    "    for j in range(njoints):\n",
    "        q[j] = (qmax[j] - qmin[j])*np.random.rand()-(qmax[j] - qmin[j])/2\n",
    "        q_kdl[j] = q[j]\n",
    "        qdot[j] = (qmax[j] - qmin[j])*np.random.rand()-(qmax[j] - qmin[j])/2\n",
    "        qdot_kdl[j] = qdot[j]\n",
    "        qddot[j] = (qmax[j] - qmin[j])*np.random.rand()-(qmax[j] - qmin[j])/2\n",
    "\n",
    "\n",
    "   \n",
    "    c_u2c = id_sym(q, qdot, qddot)\n",
    "    #print \"c u2c:\", c_u2c\n",
    "\n",
    "    c_pb = pb.calculateInverseDynamics(pbmodel, q, qdot, qddot)\n",
    "    #print \"c pb:\", c_pb\n",
    "\n",
    "\n",
    "    for tau_idx in range(njoints):\n",
    "        error[tau_idx] += np.absolute((kdl2np(c_pb)[tau_idx] - u2c2np(c_u2c)[tau_idx]))\n",
    "\n",
    "print \"Errors in coriolis forces with\",n_itr, \"iterations and comparing against KDL:\\n\", error\n",
    "\n",
    "sum_error = 0\n",
    "for err in range(njoints):\n",
    "    sum_error += error[err]\n",
    "print \"Sum of errors:\\n\", sum_error\n"
   ]
  },
  {
   "cell_type": "code",
   "execution_count": null,
   "metadata": {},
   "outputs": [],
   "source": []
  },
  {
   "cell_type": "code",
   "execution_count": null,
   "metadata": {},
   "outputs": [],
   "source": []
  }
 ],
 "metadata": {
  "kernelspec": {
   "display_name": "Python 2",
   "language": "python",
   "name": "python2"
  },
  "language_info": {
   "codemirror_mode": {
    "name": "ipython",
    "version": 2
   },
   "file_extension": ".py",
   "mimetype": "text/x-python",
   "name": "python",
   "nbconvert_exporter": "python",
   "pygments_lexer": "ipython2",
   "version": "2.7.12"
  }
 },
 "nbformat": 4,
 "nbformat_minor": 2
}
