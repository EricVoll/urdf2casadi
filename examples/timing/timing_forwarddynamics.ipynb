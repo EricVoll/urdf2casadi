{
 "cells": [
  {
   "cell_type": "code",
   "execution_count": 1,
   "metadata": {},
   "outputs": [],
   "source": [
    "import casadi as cs\n",
    "from urdf_parser_py.urdf import URDF, Pose\n",
    "import os # For current directory\n",
    "import urdf2casadi.urdf2casadi.urdfparser\n",
    "import urdf2casadi.urdf2casadi.geometry.plucker as plucker\n",
    "import numpy as np\n",
    "import PyKDL as kdl\n",
    "import kdl_parser.kdl_parser_py.kdl_parser_py.urdf as kdlurdf\n",
    "from timeit import Timer, timeit, repeat\n",
    "import rbdl"
   ]
  },
  {
   "cell_type": "code",
   "execution_count": 2,
   "metadata": {},
   "outputs": [
    {
     "name": "stdout",
     "output_type": "stream",
     "text": [
      "The root link base_link has an inertia specified in the URDF, but KDL does not support a root link with an inertia.  As a workaround, you can add an extra dummy link to your URDF.\n",
      "./urdf2casadi/examples/urdf/test.urdf\n"
     ]
    }
   ],
   "source": [
    "ok, ur_tree = kdlurdf.treeFromFile('./urdf2casadi/examples/urdf/test.urdf')\n",
    "#ok, ur_tree = kdlurdf.treeFromFile('pantilt.urdf')\n",
    "asd = urdf2casadi.urdf2casadi.urdfparser.URDFparser()\n",
    "robot_desc = asd.from_file(\"./urdf2casadi/examples/urdf/test.urdf\")\n",
    "#robot_desc = asd.from_file(\"pantilt.urdf\")\n",
    "root = 'base_link'\n",
    "tip = 'wrist_3_link5'\n",
    "ur_chain = ur_tree.getChain(root,tip)\n",
    "rbdlmodel = rbdl.loadModel(\"./urdf2casadi/examples/urdf/test.urdf\")"
   ]
  },
  {
   "cell_type": "code",
   "execution_count": 3,
   "metadata": {},
   "outputs": [
    {
     "name": "stdout",
     "output_type": "stream",
     "text": [
      "30\n",
      "30\n",
      "@1=0, [@1, @1, @1, @1, @1, @1, @1, @1, @1, @1, @1, @1, @1, @1, @1, @1, @1, @1, @1, @1, @1, @1, @1, @1, @1, @1, @1, @1, @1, @1]\n"
     ]
    }
   ],
   "source": [
    "jlist, names, qmax, qmin = asd.get_joint_info(root, tip)\n",
    "njoints = len(jlist)\n",
    "print njoints\n",
    "print len(qmax)\n",
    "\n",
    "H_ur = kdl.JntSpaceInertiaMatrix(6)\n",
    "\n",
    "grav = kdl.Vector()\n",
    "grav[2] = -9.81\n",
    "\n",
    "q = kdl.JntArray(njoints)\n",
    "qdot = kdl.JntArray(njoints)\n",
    "\n",
    "q_np = np.zeros(njoints)\n",
    "qdot_np = np.zeros(njoints)\n",
    "qddot_np = np.zeros(njoints)\n",
    "\n",
    "q_sx = cs.SX.zeros(njoints)\n",
    "print q_sx\n",
    "qdot_sx = cs.SX.zeros(njoints)\n",
    "\n",
    "q_none = [None]*njoints\n",
    "qdot_none = [None]*njoints\n",
    "qddot_none = [None]*njoints\n",
    "\n",
    "tau_kdl = kdl.JntArray(njoints)\n",
    "grav_kdl = kdl.JntArray(njoints)\n",
    "\n",
    "nitr = 50000\n",
    "nrepeat = 3\n",
    "\n",
    "M_rbdl = (rbdlmodel.q_size, rbdlmodel.q_size)\n",
    "M_rbdl = np.zeros(M_rbdl)\n"
   ]
  },
  {
   "cell_type": "markdown",
   "metadata": {},
   "source": [
    "# Forward Dynamics CRBA + RNEA vs ABA Timing\n",
    "## u2c:"
   ]
  },
  {
   "cell_type": "code",
   "execution_count": 4,
   "metadata": {},
   "outputs": [],
   "source": [
    "tau_u2c = [1., 1., 1., 1., 1., 1., 1., 1., 1., 1., 1., 1., 1., 1., 1., 1., 1., 1., 1., 1., 1., 1., 1., 1., 1., 1., 1., 1., 1., 1.]\n",
    "fd_crba = asd.get_forward_dynamics_CRBA(root, tip, tau_u2c)\n",
    "fd_aba = asd.get_forward_dynamics_ABA(root, tip, tau_u2c)"
   ]
  },
  {
   "cell_type": "code",
   "execution_count": 5,
   "metadata": {},
   "outputs": [
    {
     "name": "stdout",
     "output_type": "stream",
     "text": [
      "10.6183600426\n",
      "0.000212367200851\n",
      "[11.98826289176941, 11.22599482536316, 17.93891978263855, 12.036670923233032, 12.208286046981812, 21.647587060928345, 11.580895185470581, 11.470958948135376]\n"
     ]
    }
   ],
   "source": [
    "def fdcrba_u2c():   \n",
    "    for j in range(njoints):\n",
    "        q_none[j] = (qmax[j] - qmin[j])*np.random.rand()-(qmax[j] - qmin[j])/2\n",
    "        qdot_none[j] = (qmax[j] - qmin[j])*np.random.rand()-(qmax[j] - qmin[j])/2\n",
    "\n",
    "    fd_crba(q_none, qdot_none)\n",
    "\n",
    "timeit_fdcrba = timeit(\"fdcrba_u2c()\", setup = \"from __main__ import fdcrba_u2c\", number = 50000)\n",
    "print timeit_fdcrba\n",
    "print timeit_fdcrba/50000\n",
    "timeit_fdcrba_repeat = repeat(\"fdcrba_u2c()\", setup = \"from __main__ import fdcrba_u2c\", repeat = 8, number = 50000)\n",
    "print timeit_fdcrba_repeat"
   ]
  },
  {
   "cell_type": "code",
   "execution_count": 6,
   "metadata": {},
   "outputs": [
    {
     "name": "stdout",
     "output_type": "stream",
     "text": [
      "5.50214791298\n",
      "0.00011004295826\n",
      "[5.3047990798950195, 5.2741639614105225, 5.230039119720459, 5.273496150970459, 5.454323053359985, 5.6985859870910645, 5.222710847854614, 5.056975841522217]\n"
     ]
    }
   ],
   "source": [
    "def fdaba_u2c():   \n",
    "    for j in range(njoints):\n",
    "        q_none[j] = (qmax[j] - qmin[j])*np.random.rand()-(qmax[j] - qmin[j])/2\n",
    "        qdot_none[j] = (qmax[j] - qmin[j])*np.random.rand()-(qmax[j] - qmin[j])/2\n",
    "\n",
    "    fd_aba(q_none, qdot_none)\n",
    "\n",
    "timeit_fdaba = timeit(\"fdaba_u2c()\", setup = \"from __main__ import fdaba_u2c\", number = 50000)\n",
    "print timeit_fdaba\n",
    "print timeit_fdaba/50000\n",
    "timeit_fdaba_repeat = repeat(\"fdaba_u2c()\", setup = \"from __main__ import fdaba_u2c\", repeat = 8, number = 50000)\n",
    "print timeit_fdaba_repeat"
   ]
  },
  {
   "cell_type": "code",
   "execution_count": 7,
   "metadata": {},
   "outputs": [],
   "source": [
    "tau_rbdl = np.ones(njoints)"
   ]
  },
  {
   "cell_type": "code",
   "execution_count": 8,
   "metadata": {},
   "outputs": [
    {
     "name": "stdout",
     "output_type": "stream",
     "text": [
      "[4.847084045410156, 4.648300886154175, 4.7603349685668945, 4.7387731075286865, 4.753636837005615, 4.699927091598511, 4.737782955169678, 4.683664798736572]\n"
     ]
    }
   ],
   "source": [
    "def fd_rbdl():   \n",
    "    for j in range(njoints):\n",
    "        q_np[j] = (qmax[j] - qmin[j])*np.random.rand()-(qmax[j] - qmin[j])/2\n",
    "        qdot_np[j] = (qmax[j] - qmin[j])*np.random.rand()-(qmax[j] - qmin[j])/2\n",
    "\n",
    "    rbdl.ForwardDynamics(rbdlmodel, q_np, qdot_np, tau_rbdl, qddot_np)\n",
    "\n",
    "timeit_fdrbdl_repeat = repeat(\"fd_rbdl()\", setup = \"from __main__ import fd_rbdl\", repeat = 8, number = 50000)\n",
    "print timeit_fdrbdl_repeat"
   ]
  },
  {
   "cell_type": "markdown",
   "metadata": {},
   "source": [
    "## Inverse Dynamics Timing"
   ]
  },
  {
   "cell_type": "code",
   "execution_count": 9,
   "metadata": {},
   "outputs": [
    {
     "ename": "SyntaxError",
     "evalue": "invalid syntax (<ipython-input-9-0b7eafda3f24>, line 2)",
     "output_type": "error",
     "traceback": [
      "\u001b[0;36m  File \u001b[0;32m\"<ipython-input-9-0b7eafda3f24>\"\u001b[0;36m, line \u001b[0;32m2\u001b[0m\n\u001b[0;31m    %%timeit\u001b[0m\n\u001b[0m    ^\u001b[0m\n\u001b[0;31mSyntaxError\u001b[0m\u001b[0;31m:\u001b[0m invalid syntax\n"
     ]
    }
   ],
   "source": [
    "id_tau = asd.get_inverse_dynamics_RNEA(root, tip, grav)\n",
    "%%timeit \n",
    "for j in range(njoints):\n",
    "    q_np[j] = (qmax[j] - qmin[j])*np.random.rand()-(qmax[j] - qmin[j])/2\n",
    "    qdot_np[j] = (qmax[j] - qmin[j])*np.random.rand()-(qmax[j] - qmin[j])/2\n",
    "    qddot_np[j] = (qmax[j] - qmin[j])*np.random.rand()-(qmax[j] - qmin[j])/2\n",
    "\n",
    "\n",
    "id_tau(q_np, qdot_np, qddot_np)"
   ]
  }
 ],
 "metadata": {
  "kernelspec": {
   "display_name": "Python 2",
   "language": "python",
   "name": "python2"
  },
  "language_info": {
   "codemirror_mode": {
    "name": "ipython",
    "version": 2
   },
   "file_extension": ".py",
   "mimetype": "text/x-python",
   "name": "python",
   "nbconvert_exporter": "python",
   "pygments_lexer": "ipython2",
   "version": "2.7.12"
  }
 },
 "nbformat": 4,
 "nbformat_minor": 2
}
