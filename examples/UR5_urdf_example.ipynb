{
 "cells": [
  {
   "cell_type": "code",
   "execution_count": 8,
   "metadata": {},
   "outputs": [],
   "source": [
    "import casadi as cs\n",
    "from urdf_parser_py.urdf import URDF, Pose\n",
    "from urdf2casadi import converter\n",
    "from urdf2casadi.casadi_geom import dual_quaternion_to_transformation_matrix\n",
    "import os # For current directory"
   ]
  },
  {
   "cell_type": "code",
   "execution_count": null,
   "metadata": {},
   "outputs": [],
   "source": []
  },
  {
   "cell_type": "code",
   "execution_count": 9,
   "metadata": {},
   "outputs": [],
   "source": [
    "# urdf2casadi uses cs.MX and cs.SX, which can be hard to read as these are sparse matrices.\n",
    "# This short function just makes it so that the result will be a numpy matrix\n",
    "# Use for \n",
    "def cs2np(asd):\n",
    "    return cs.Function(\"temp\",[],[asd])()[\"o0\"].toarray()\n",
    "# NOTE: casadi imports numpy as np, so cs.np is numpy"
   ]
  },
  {
   "cell_type": "markdown",
   "metadata": {},
   "source": [
    "# Importing UR5 urdf"
   ]
  },
  {
   "cell_type": "code",
   "execution_count": 10,
   "metadata": {},
   "outputs": [
    {
     "name": "stdout",
     "output_type": "stream",
     "text": [
      "['q', 'upper', 'lower', 'dual_quaternion_fk', 'joint_names', 'T_fk', 'joint_list', 'quaternion_fk']\n"
     ]
    }
   ],
   "source": [
    "urdf_path = \"./urdf/ur5.urdf\"\n",
    "root_link = \"base_link\"\n",
    "end_link = \"tool0\"\n",
    "fk_dict = converter.from_file(root_link, end_link, urdf_path)\n",
    "print fk_dict.keys()"
   ]
  },
  {
   "cell_type": "code",
   "execution_count": 24,
   "metadata": {},
   "outputs": [
    {
     "name": "stdout",
     "output_type": "stream",
     "text": [
      "['base_link', 'shoulder_pan_joint', 'shoulder_link', 'shoulder_lift_joint', 'upper_arm_link', 'elbow_joint', 'forearm_link', 'wrist_1_joint', 'wrist_1_link', 'wrist_2_joint', 'wrist_2_link', 'wrist_3_joint', 'wrist_3_link', 'wrist_3_link-tool0_fixed_joint', 'tool0']\n",
      "{'elbow_joint': <urdf_parser_py.urdf.Joint object at 0x7fc75767dcd0>, 'world_joint': <urdf_parser_py.urdf.Joint object at 0x7fc757698750>, 'shoulder_pan_joint': <urdf_parser_py.urdf.Joint object at 0x7fc75768b4d0>, 'base_link-base_fixed_joint': <urdf_parser_py.urdf.Joint object at 0x7fc757677310>, 'wrist_3_joint': <urdf_parser_py.urdf.Joint object at 0x7fc757681d10>, 'wrist_3_link-tool0_fixed_joint': <urdf_parser_py.urdf.Joint object at 0x7fc757677390>, 'wrist_1_joint': <urdf_parser_py.urdf.Joint object at 0x7fc75767de50>, 'shoulder_lift_joint': <urdf_parser_py.urdf.Joint object at 0x7fc75767d610>, 'ee_fixed_joint': <urdf_parser_py.urdf.Joint object at 0x7fc757681890>, 'wrist_2_joint': <urdf_parser_py.urdf.Joint object at 0x7fc75767d3d0>}\n",
      "axis: [0.0, 0.0, 1.0]\n",
      "calibration: None\n",
      "child: shoulder_link\n",
      "dynamics: {damping: 0.0, friction: 0.0}\n",
      "limit: {effort: 150.0, lower: -6.28318530718, upper: 6.28318530718, velocity: 3.15}\n",
      "mimic: None\n",
      "name: shoulder_pan_joint\n",
      "origin:\n",
      "  rpy: [0.0, 0.0, 0.0]\n",
      "  xyz: [0.0, 0.0, 0.089159]\n",
      "parent: base_link\n",
      "safety_controller: None\n",
      "type: revolute\n",
      "axis: [0.0, 1.0, 0.0]\n",
      "calibration: None\n",
      "child: upper_arm_link\n",
      "dynamics: {damping: 0.0, friction: 0.0}\n",
      "limit: {effort: 150.0, lower: -6.28318530718, upper: 6.28318530718, velocity: 3.15}\n",
      "mimic: None\n",
      "name: shoulder_lift_joint\n",
      "origin:\n",
      "  rpy: [0.0, 1.57079632679, 0.0]\n",
      "  xyz: [0.0, 0.13585, 0.0]\n",
      "parent: shoulder_link\n",
      "safety_controller: None\n",
      "type: revolute\n",
      "axis: [0.0, 1.0, 0.0]\n",
      "calibration: None\n",
      "child: forearm_link\n",
      "dynamics: {damping: 0.0, friction: 0.0}\n",
      "limit: {effort: 150.0, lower: -3.14159265359, upper: 3.14159265359, velocity: 3.15}\n",
      "mimic: None\n",
      "name: elbow_joint\n",
      "origin:\n",
      "  rpy: [0.0, 0.0, 0.0]\n",
      "  xyz: [0.0, -0.1197, 0.425]\n",
      "parent: upper_arm_link\n",
      "safety_controller: None\n",
      "type: revolute\n",
      "axis: [0.0, 1.0, 0.0]\n",
      "calibration: None\n",
      "child: wrist_1_link\n",
      "dynamics: {damping: 0.0, friction: 0.0}\n",
      "limit: {effort: 28.0, lower: -6.28318530718, upper: 6.28318530718, velocity: 3.2}\n",
      "mimic: None\n",
      "name: wrist_1_joint\n",
      "origin:\n",
      "  rpy: [0.0, 1.57079632679, 0.0]\n",
      "  xyz: [0.0, 0.0, 0.39225]\n",
      "parent: forearm_link\n",
      "safety_controller: None\n",
      "type: revolute\n",
      "axis: [0.0, 0.0, 1.0]\n",
      "calibration: None\n",
      "child: wrist_2_link\n",
      "dynamics: {damping: 0.0, friction: 0.0}\n",
      "limit: {effort: 28.0, lower: -6.28318530718, upper: 6.28318530718, velocity: 3.2}\n",
      "mimic: None\n",
      "name: wrist_2_joint\n",
      "origin:\n",
      "  rpy: [0.0, 0.0, 0.0]\n",
      "  xyz: [0.0, 0.093, 0.0]\n",
      "parent: wrist_1_link\n",
      "safety_controller: None\n",
      "type: revolute\n",
      "axis: [0.0, 1.0, 0.0]\n",
      "calibration: None\n",
      "child: wrist_3_link\n",
      "dynamics: {damping: 0.0, friction: 0.0}\n",
      "limit: {effort: 28.0, lower: -6.28318530718, upper: 6.28318530718, velocity: 3.2}\n",
      "mimic: None\n",
      "name: wrist_3_joint\n",
      "origin:\n",
      "  rpy: [0.0, 0.0, 0.0]\n",
      "  xyz: [0.0, 0.0, 0.09465]\n",
      "parent: wrist_2_link\n",
      "safety_controller: None\n",
      "type: revolute\n",
      "axis: None\n",
      "calibration: None\n",
      "child: tool0\n",
      "dynamics: None\n",
      "limit: None\n",
      "mimic: None\n",
      "name: wrist_3_link-tool0_fixed_joint\n",
      "origin:\n",
      "  rpy: [-1.57079632679, 0.0, 0.0]\n",
      "  xyz: [0.0, 0.0823, 0.0]\n",
      "parent: wrist_3_link\n",
      "safety_controller: None\n",
      "type: fixed\n"
     ]
    }
   ],
   "source": [
    "robot_desc = URDF.from_xml_file(urdf_path)\n",
    "chain = robot_desc.get_chain(root_link, end_link)\n",
    "print(robot_desc.get_chain(root_link, end_link))\n",
    "print(robot_desc.joint_map)\n",
    "\n",
    "\n",
    "joint_list = []\n",
    "upper = []\n",
    "lower = []\n",
    "actuated_names = []\n",
    "\n",
    "for item in chain:\n",
    "    if item in robot_desc.joint_map:\n",
    "        joint = robot_desc.joint_map[item]\n",
    "        print(joint)\n",
    "        joint_list += [joint]"
   ]
  },
  {
   "cell_type": "markdown",
   "metadata": {},
   "source": [
    "`fk_dict` is a python dictionary with some of the things we can extract from the URDF. In this example we will show the forward kinematics for the UR5 as a transformation matrix, as a dual quaternion, and a way of calculating the jacobians for the forward kinematics."
   ]
  },
  {
   "cell_type": "markdown",
   "metadata": {},
   "source": [
    "## Joint information"
   ]
  },
  {
   "cell_type": "code",
   "execution_count": 4,
   "metadata": {},
   "outputs": [
    {
     "name": "stdout",
     "output_type": "stream",
     "text": [
      "Number of joints: 6\n",
      "Upper limits: [6.28318530718, 6.28318530718, 3.14159265359, 6.28318530718, 6.28318530718, 6.28318530718]\n",
      "Lower limits: [-6.28318530718, -6.28318530718, -3.14159265359, -6.28318530718, -6.28318530718, -6.28318530718]\n",
      "Joint names: ['shoulder_pan_joint', 'shoulder_lift_joint', 'elbow_joint', 'wrist_1_joint', 'wrist_2_joint', 'wrist_3_joint']\n"
     ]
    }
   ],
   "source": [
    "# CasADi MX symbol giving the joint symbols:\n",
    "q = fk_dict[\"q\"]\n",
    "# Upper limits of the joint values\n",
    "q_upper = fk_dict[\"upper\"]\n",
    "# Lower limits of the joint values\n",
    "q_lower = fk_dict[\"lower\"]\n",
    "# Joint names\n",
    "joint_names = fk_dict[\"joint_names\"]\n",
    "print \"Number of joints:\", q.size()[0]\n",
    "print \"Upper limits:\", q_upper\n",
    "print \"Lower limits:\", q_lower\n",
    "print \"Joint names:\", joint_names"
   ]
  },
  {
   "cell_type": "markdown",
   "metadata": {},
   "source": [
    "## Forward kinematics"
   ]
  },
  {
   "cell_type": "code",
   "execution_count": 5,
   "metadata": {},
   "outputs": [],
   "source": [
    "# CasADi MX symbol for transformation matrix of the forward kinematics:\n",
    "T_fk_sym = fk_dict[\"T_fk\"]\n",
    "# CasADi MX symbol for dual_quaternion of the forward kinematics:\n",
    "Q_fk_sym = fk_dict[\"dual_quaternion_fk\"]"
   ]
  },
  {
   "cell_type": "markdown",
   "metadata": {},
   "source": [
    "These are CasADi MX symbols, meaning that we have to create CasADi functions that we can call:"
   ]
  },
  {
   "cell_type": "code",
   "execution_count": 6,
   "metadata": {},
   "outputs": [],
   "source": [
    "# Transformation matrix function:\n",
    "T_fk = cs.Function(\"T_fk\",[q], [T_fk_sym], [\"q\"], [\"T_fk\"])\n",
    "# Dual quaternion function:\n",
    "Q_fk = cs.Function(\"Q_fk\",[q], [Q_fk_sym], [\"q\"], [\"Q_fk\"])"
   ]
  },
  {
   "cell_type": "markdown",
   "metadata": {},
   "source": [
    "So what's the position when all joint values are zero?"
   ]
  },
  {
   "cell_type": "code",
   "execution_count": 7,
   "metadata": {},
   "outputs": [
    {
     "name": "stdout",
     "output_type": "stream",
     "text": [
      "Transformation matrix:\n",
      "[[-1.00000000e+00 -9.79317772e-12  4.79531649e-23  8.17250000e-01]\n",
      " [ 0.00000000e+00  4.89658886e-12  1.00000000e+00  1.91450000e-01]\n",
      " [-9.79317772e-12  1.00000000e+00 -4.89658886e-12 -5.49100000e-03]\n",
      " [ 0.00000000e+00  0.00000000e+00  0.00000000e+00  1.00000000e+00]]\n",
      "Position:\n",
      "x: 0.81725  y: 0.19145  z: -0.005491\n",
      "Distance from origin:\n",
      "0.8393931236807168 m\n"
     ]
    }
   ],
   "source": [
    "T0 = T_fk([0., 0., 0., 0., 0., 0.])\n",
    "p0 = T0[:3, 3]\n",
    "R0 = T0[:3, :3]\n",
    "print \"Transformation matrix:\\n\",cs2np(T0)\n",
    "print \"Position:\\n\", \"x:\",p0[0],\" y:\", p0[1], \" z:\", p0[2]\n",
    "print \"Distance from origin:\\n\", cs.np.linalg.norm(p0), \"m\""
   ]
  },
  {
   "cell_type": "markdown",
   "metadata": {},
   "source": [
    "And how about as a dual quaternion?"
   ]
  },
  {
   "cell_type": "code",
   "execution_count": 74,
   "metadata": {},
   "outputs": [
    {
     "name": "stdout",
     "output_type": "stream",
     "text": [
      "Dual quaternion:\n",
      "[[ -3.46240714e-12]\n",
      " [  7.07106781e-01]\n",
      " [  7.07106781e-01]\n",
      " [  3.46240714e-12]\n",
      " [  6.96291583e-02]\n",
      " [ -2.88941508e-01]\n",
      " [  2.88941508e-01]\n",
      " [ -6.57464350e-02]]\n",
      "Dual quaternion as transformation matrix:\n",
      "[[ -1.00000000e+00  -9.79316628e-12   4.79538573e-23   8.17250000e-01]\n",
      " [  0.00000000e+00   4.89658314e-12   1.00000000e+00   1.91450000e-01]\n",
      " [ -9.79316628e-12   1.00000000e+00  -4.89658314e-12  -5.49100000e-03]\n",
      " [  0.00000000e+00   0.00000000e+00   0.00000000e+00   1.00000000e+00]]\n",
      "||TofQ0 - T0||< 1e-12, so they are equal\n"
     ]
    }
   ],
   "source": [
    "Q0 = Q_fk([0., 0., 0., 0., 0., 0.])\n",
    "TofQ0 = dual_quaternion_to_transformation_matrix(Q0)\n",
    "print \"Dual quaternion:\\n\", cs2np(Q0)\n",
    "print \"Dual quaternion as transformation matrix:\\n\", cs2np(TofQ0)\n",
    "if cs.np.linalg.norm(cs2np(TofQ0) - cs2np(T0)) < 1e-12:\n",
    "    print \"||TofQ0 - T0||< 1e-12, so they are equal\""
   ]
  },
  {
   "cell_type": "markdown",
   "metadata": {},
   "source": [
    "## Jacobians\n",
    "As we're dealing with symbols, we formulate the symbolic expression for the jacobian, and then we create the functions for them."
   ]
  },
  {
   "cell_type": "code",
   "execution_count": 78,
   "metadata": {},
   "outputs": [],
   "source": [
    "# Create symbols\n",
    "fk_position_jacobian_sym = cs.jacobian(T_fk_sym[:3,3], q)\n",
    "fk_rotation_jacobian_sym = cs.jacobian(T_fk_sym[:3,:3], q)\n",
    "fk_dual_quaternion_jacobian_sym = cs.jacobian(Q_fk_sym, q)"
   ]
  },
  {
   "cell_type": "code",
   "execution_count": 81,
   "metadata": {},
   "outputs": [],
   "source": [
    "# Create functions\n",
    "fk_position_jacobian = cs.Function(\"jac_fk_pos\", [q], [fk_position_jacobian_sym], [\"q\"], [\"jac_fk_pos\"])\n",
    "fk_rotation_jacobian = cs.Function(\"jac_fk_rot\", [q], [fk_rotation_jacobian_sym], [\"q\"], [\"jac_fk_rot\"])\n",
    "fk_dual_quaternion_jacobian = cs.Function(\"jac_fk_Q\", [q], [fk_dual_quaternion_jacobian_sym], [\"q\"], [\"jac_fk_Q\"])"
   ]
  },
  {
   "cell_type": "markdown",
   "metadata": {},
   "source": [
    "Now let's test them out!"
   ]
  },
  {
   "cell_type": "code",
   "execution_count": 89,
   "metadata": {},
   "outputs": [
    {
     "name": "stdout",
     "output_type": "stream",
     "text": [
      "Positional jacobian at  [0.0, 0.0, 0.0, 0.0, 0.0, 0.0] is:\n",
      "[[ -1.91450000e-01  -9.46500000e-02  -9.46500000e-02  -9.46500000e-02\n",
      "    8.23000000e-02   0.00000000e+00]\n",
      " [  8.17250000e-01   0.00000000e+00   0.00000000e+00   0.00000000e+00\n",
      "    0.00000000e+00   0.00000000e+00]\n",
      " [  0.00000000e+00  -8.17250000e-01  -3.92250000e-01  -9.26924271e-13\n",
      "    8.05978526e-13   0.00000000e+00]]\n"
     ]
    }
   ],
   "source": [
    "joint_vals = [0., 0., 0., 0., 0., 0.,]\n",
    "pos_jac = fk_position_jacobian(joint_vals)\n",
    "print \"Positional jacobian at \", joint_vals, \"is:\\n\", cs2np(pos_jac)"
   ]
  },
  {
   "cell_type": "markdown",
   "metadata": {},
   "source": [
    "What does this tell us? Let's look at each of the x, y, and z directions separately."
   ]
  },
  {
   "cell_type": "code",
   "execution_count": 115,
   "metadata": {},
   "outputs": [
    {
     "name": "stdout",
     "output_type": "stream",
     "text": [
      "Comparative measure of how readily each direction is controlled:\n",
      "Norm of jac in x direction: 0.265145733511\n",
      "Norm of jac in y direction: 0.817250000001\n",
      "Norm of jac in z direction: 0.906508480381\n",
      "\n",
      "Comparative measure of how readily each joint affects positions:\n",
      "shoulder_pan_joint: 0.839375163441\n",
      "shoulder_lift_joint: 0.822712698942\n",
      "elbow_joint: 0.403507973899\n",
      "wrist_1_joint: 0.09465\n",
      "wrist_2_joint: 0.0823\n",
      "wrist_3_joint: 0.0\n"
     ]
    }
   ],
   "source": [
    "print \"Comparative measure of how readily each direction is controlled:\"\n",
    "print \"Norm of jac in x direction:\", cs.np.linalg.norm(cs2np(pos_jac[0,:]))\n",
    "print \"Norm of jac in y direction:\", cs.np.linalg.norm(cs2np(pos_jac[1,:]))\n",
    "print \"Norm of jac in z direction:\", cs.np.linalg.norm(cs2np(pos_jac[2,:]))\n",
    "print \"\\nComparative measure of how readily each joint affects positions:\"\n",
    "for i in xrange(len(joint_names)):\n",
    "    print joint_names[i]+\":\",cs.np.linalg.norm(cs2np(pos_jac[:,i]))"
   ]
  },
  {
   "cell_type": "markdown",
   "metadata": {},
   "source": [
    "So the Z direction is most affected by any of the joint values (but the last), motion in the T direction can only be done by the shoulder pan joint (`q[0]`) because all the motors are standing perpendicular to the y direction. Oh, and the last joint seems to do nothing, well, that's because it's the infinite rotational joint at the end of the UR robot that is just used for rotating the end-effector frame. So basically it doesn't change the position.\n",
    "\n",
    "What are these comparative measures we're talking about? Essentially it amounts to asking, if we take the same tiny step on each of the joints, which one is the most affected, or if wish to move, which direction is most affect by a tiny step or set of tiny steps?\n",
    "\n",
    "The following are not as tidy and easily read, but given for completion"
   ]
  },
  {
   "cell_type": "code",
   "execution_count": 102,
   "metadata": {},
   "outputs": [
    {
     "name": "stdout",
     "output_type": "stream",
     "text": [
      "[[  0.00000000e+00  -9.79317772e-12  -9.79317772e-12  -9.79317772e-12\n",
      "    0.00000000e+00  -9.79317772e-12]\n",
      " [ -1.00000000e+00   0.00000000e+00   0.00000000e+00   0.00000000e+00\n",
      "    1.00000000e+00   0.00000000e+00]\n",
      " [  0.00000000e+00   1.00000000e+00   1.00000000e+00   1.00000000e+00\n",
      "    0.00000000e+00   1.00000000e+00]\n",
      " [ -4.89658886e-12   1.00000000e+00   1.00000000e+00   1.00000000e+00\n",
      "    4.89658886e-12   1.00000000e+00]\n",
      " [ -9.79317772e-12   0.00000000e+00   0.00000000e+00   0.00000000e+00\n",
      "    0.00000000e+00   0.00000000e+00]\n",
      " [  0.00000000e+00   9.79317772e-12   9.79317772e-12   9.79317772e-12\n",
      "    4.79531649e-23   9.79317772e-12]\n",
      " [ -1.00000000e+00  -4.89658886e-12  -4.89658886e-12  -4.89658886e-12\n",
      "    1.00000000e+00  -4.89658886e-12]\n",
      " [  4.79531649e-23   0.00000000e+00   0.00000000e+00   0.00000000e+00\n",
      "    0.00000000e+00   0.00000000e+00]\n",
      " [  0.00000000e+00  -4.79531649e-23  -4.79531649e-23  -4.79531649e-23\n",
      "    9.79317772e-12  -4.79531649e-23]]\n"
     ]
    }
   ],
   "source": [
    "joint_vals = [0., 0., 0., 0., 0., 0.,]\n",
    "rot_jac = fk_rotation_jacobian(joint_vals)\n",
    "print cs2np(rot_jac)"
   ]
  },
  {
   "cell_type": "code",
   "execution_count": 108,
   "metadata": {},
   "outputs": [
    {
     "name": "stdout",
     "output_type": "stream",
     "text": [
      "[[ -3.53553391e-01   3.53553391e-01   3.53553391e-01   3.53553391e-01]\n",
      " [ -1.73120357e-12   1.73120357e-12   1.73120357e-12   1.73120357e-12]\n",
      " [  1.73120357e-12   1.73120357e-12   1.73120357e-12   1.73120357e-12]\n",
      " [ -3.53553391e-01  -3.53553391e-01  -3.53553391e-01  -3.53553391e-01]]\n",
      "[ -3.53553391e-01  -1.73120357e-12   1.73120357e-12  -3.53553391e-01]\n"
     ]
    }
   ],
   "source": [
    "joint_vals = [0., 0., 0., 0., 0., 0.,]\n",
    "Q_jac = fk_dual_quaternion_jacobian(joint_vals)\n",
    "print cs2np(Q_jac)\n",
    "print cs2np(Q_jac)[:4,0]"
   ]
  },
  {
   "cell_type": "code",
   "execution_count": 118,
   "metadata": {},
   "outputs": [
    {
     "name": "stdout",
     "output_type": "stream",
     "text": [
      "Comparative measure of joint effect on rotation\n",
      "shoulder_pan_joint: 0.5\n",
      "shoulder_lift_joint: 0.5\n",
      "elbow_joint: 0.5\n",
      "wrist_1_joint: 0.5\n",
      "wrist_2_joint: 0.5\n",
      "wrist_3_joint: 0.5\n"
     ]
    }
   ],
   "source": [
    "print \"Comparative measure of joint effect on rotation\"\n",
    "for i in xrange(len(joint_names)):\n",
    "    print joint_names[i]+\":\",cs.np.linalg.norm(cs2np(Q_jac)[:4,i]) # First four elements = rotation quaternion"
   ]
  },
  {
   "cell_type": "markdown",
   "metadata": {},
   "source": [
    "Basically taking a tiny step on any of the joints is equally capable at causing rotation regardless of which of the joints we choose to move. "
   ]
  },
  {
   "cell_type": "code",
   "execution_count": null,
   "metadata": {},
   "outputs": [],
   "source": []
  }
 ],
 "metadata": {
  "kernelspec": {
   "display_name": "Python 2",
   "language": "python",
   "name": "python2"
  },
  "language_info": {
   "codemirror_mode": {
    "name": "ipython",
    "version": 2
   },
   "file_extension": ".py",
   "mimetype": "text/x-python",
   "name": "python",
   "nbconvert_exporter": "python",
   "pygments_lexer": "ipython2",
   "version": "2.7.12"
  }
 },
 "nbformat": 4,
 "nbformat_minor": 2
}
