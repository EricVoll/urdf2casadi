{
 "cells": [
  {
   "cell_type": "code",
   "execution_count": 8,
   "metadata": {},
   "outputs": [
    {
     "ename": "ImportError",
     "evalue": "No module named urdf2casadi.converter",
     "output_type": "error",
     "traceback": [
      "\u001b[0;31m--------------------------------------------------------------------------\u001b[0m",
      "\u001b[0;31mImportError\u001b[0m                              Traceback (most recent call last)",
      "\u001b[0;32m<ipython-input-8-36fe950af95b>\u001b[0m in \u001b[0;36m<module>\u001b[0;34m()\u001b[0m\n\u001b[1;32m      1\u001b[0m \u001b[0;32mimport\u001b[0m \u001b[0mcasadi\u001b[0m \u001b[0;32mas\u001b[0m \u001b[0mcs\u001b[0m\u001b[0;34m\u001b[0m\u001b[0m\n\u001b[0;32m----> 2\u001b[0;31m \u001b[0;32mimport\u001b[0m \u001b[0murdf2casadi\u001b[0m\u001b[0;34m.\u001b[0m\u001b[0murdf2casadi\u001b[0m\u001b[0;34m.\u001b[0m\u001b[0mconverter\u001b[0m \u001b[0;32mas\u001b[0m \u001b[0mconverter\u001b[0m\u001b[0;34m\u001b[0m\u001b[0m\n\u001b[0m\u001b[1;32m      3\u001b[0m \u001b[0;32mfrom\u001b[0m \u001b[0murdf_parser_py\u001b[0m\u001b[0;34m.\u001b[0m\u001b[0murdf\u001b[0m \u001b[0;32mimport\u001b[0m \u001b[0mURDF\u001b[0m\u001b[0;34m,\u001b[0m \u001b[0mPose\u001b[0m\u001b[0;34m\u001b[0m\u001b[0m\n\u001b[1;32m      4\u001b[0m \u001b[0;32mfrom\u001b[0m \u001b[0murdf2casadi\u001b[0m\u001b[0;34m.\u001b[0m\u001b[0mcasadi_geom\u001b[0m \u001b[0;32mimport\u001b[0m \u001b[0mdual_quaternion_to_transformation_matrix\u001b[0m\u001b[0;34m\u001b[0m\u001b[0m\n\u001b[1;32m      5\u001b[0m \u001b[0;32mimport\u001b[0m \u001b[0mos\u001b[0m \u001b[0;31m# For current directory\u001b[0m\u001b[0;34m\u001b[0m\u001b[0m\n",
      "\u001b[0;31mImportError\u001b[0m: No module named urdf2casadi.converter"
     ]
    }
   ],
   "source": [
    "import casadi as cs\n",
    "import urdf2casadi.urdf2casadi.converter as converter\n",
    "from urdf_parser_py.urdf import URDF, Pose\n",
    "from urdf2casadi.casadi_geom import dual_quaternion_to_transformation_matrix\n",
    "import os # For current directory"
   ]
  },
  {
   "cell_type": "code",
   "execution_count": 2,
   "metadata": {},
   "outputs": [],
   "source": [
    "# urdf2casadi uses cs.MX and cs.SX, which can be hard to read as these are sparse matrices.\n",
    "# This short function just makes it so that the result will be a numpy matrix\n",
    "# Use for \n",
    "def cs2np(asd):\n",
    "    return cs.Function(\"temp\",[],[asd])()[\"o0\"].toarray()\n",
    "# NOTE: casadi imports numpy as np, so cs.np is numpy"
   ]
  },
  {
   "cell_type": "markdown",
   "metadata": {},
   "source": [
    "# Importing thrivaldi URDF"
   ]
  },
  {
   "cell_type": "code",
   "execution_count": 6,
   "metadata": {},
   "outputs": [
    {
     "ename": "NameError",
     "evalue": "name 'converter' is not defined",
     "output_type": "error",
     "traceback": [
      "\u001b[0;31m--------------------------------------------------------------------------\u001b[0m",
      "\u001b[0;31mNameError\u001b[0m                                Traceback (most recent call last)",
      "\u001b[0;32m<ipython-input-6-8378838d52a8>\u001b[0m in \u001b[0;36m<module>\u001b[0;34m()\u001b[0m\n\u001b[1;32m      2\u001b[0m \u001b[0mroot_link\u001b[0m \u001b[0;34m=\u001b[0m \u001b[0;34m\"gantry_base_link\"\u001b[0m\u001b[0;34m\u001b[0m\u001b[0m\n\u001b[1;32m      3\u001b[0m \u001b[0mend_link\u001b[0m \u001b[0;34m=\u001b[0m \u001b[0;34m\"gantry_tool0\"\u001b[0m\u001b[0;34m\u001b[0m\u001b[0m\n\u001b[0;32m----> 4\u001b[0;31m \u001b[0mfk_dict\u001b[0m \u001b[0;34m=\u001b[0m \u001b[0mconverter\u001b[0m\u001b[0;34m.\u001b[0m\u001b[0mfrom_file\u001b[0m\u001b[0;34m(\u001b[0m\u001b[0mroot_link\u001b[0m\u001b[0;34m,\u001b[0m \u001b[0mend_link\u001b[0m\u001b[0;34m,\u001b[0m \u001b[0murdf_path\u001b[0m\u001b[0;34m)\u001b[0m\u001b[0;34m\u001b[0m\u001b[0m\n\u001b[0m\u001b[1;32m      5\u001b[0m \u001b[0;32mprint\u001b[0m \u001b[0mfk_dict\u001b[0m\u001b[0;34m.\u001b[0m\u001b[0mkeys\u001b[0m\u001b[0;34m(\u001b[0m\u001b[0;34m)\u001b[0m\u001b[0;34m\u001b[0m\u001b[0m\n\u001b[1;32m      6\u001b[0m \u001b[0mget_ipython\u001b[0m\u001b[0;34m(\u001b[0m\u001b[0;34m)\u001b[0m\u001b[0;34m.\u001b[0m\u001b[0mmagic\u001b[0m\u001b[0;34m(\u001b[0m\u001b[0;34mu'pinfo converter.from_file'\u001b[0m\u001b[0;34m)\u001b[0m\u001b[0;34m\u001b[0m\u001b[0m\n",
      "\u001b[0;31mNameError\u001b[0m: name 'converter' is not defined"
     ]
    }
   ],
   "source": [
    "urdf_path = \"./urdf/thrivaldi.urdf\"\n",
    "root_link = \"gantry_base_link\"\n",
    "end_link = \"gantry_tool0\"\n",
    "fk_dict = converter.from_file(root_link, end_link, urdf_path)\n",
    "print fk_dict.keys()\n",
    "converter.from_file?"
   ]
  },
  {
   "cell_type": "code",
   "execution_count": 5,
   "metadata": {},
   "outputs": [
    {
     "ename": "SyntaxError",
     "evalue": "invalid syntax (<ipython-input-5-c9d788b634b3>, line 1)",
     "output_type": "error",
     "traceback": [
      "\u001b[0;36m  File \u001b[0;32m\"<ipython-input-5-c9d788b634b3>\"\u001b[0;36m, line \u001b[0;32m1\u001b[0m\n\u001b[0;31m    self.robot_desc = URDF.from_xml_file(./urdf/thrivaldi.urdf)\u001b[0m\n\u001b[0m                                         ^\u001b[0m\n\u001b[0;31mSyntaxError\u001b[0m\u001b[0;31m:\u001b[0m invalid syntax\n"
     ]
    }
   ],
   "source": [
    "self.robot_desc = URDF.from_xml_file(urdf_path)\n",
    "chain = robot_desc.get_chain(root, tip)\n",
    "print(chain)"
   ]
  },
  {
   "cell_type": "code",
   "execution_count": 4,
   "metadata": {},
   "outputs": [
    {
     "name": "stdout",
     "output_type": "stream",
     "text": [
      "Number of joints: 6\n",
      "Upper limits: [3.22885911619, 0.610865238198, 2.68780704807, 6.10865238198, 2.26892802759, 6.10865238198]\n",
      "Lower limits: [-3.22885911619, -2.70526034059, -2.26892802759, -6.10865238198, -2.26892802759, -6.10865238198]\n",
      "Joint names: ['gantry_joint_a1', 'gantry_joint_a2', 'gantry_joint_a3', 'gantry_joint_a4', 'gantry_joint_a5', 'gantry_joint_a6']\n"
     ]
    }
   ],
   "source": [
    "# CasADi MX symbol giving the joint symbols:\n",
    "q = fk_dict[\"q\"]\n",
    "# Upper limits of the joint values\n",
    "q_upper = fk_dict[\"upper\"]\n",
    "# Lower limits of the joint values\n",
    "q_lower = fk_dict[\"lower\"]\n",
    "# Joint names\n",
    "joint_names = fk_dict[\"joint_names\"]\n",
    "print \"Number of joints:\", q.size()[0]\n",
    "print \"Upper limits:\", q_upper\n",
    "print \"Lower limits:\", q_lower\n",
    "print \"Joint names:\", joint_names"
   ]
  },
  {
   "cell_type": "markdown",
   "metadata": {},
   "source": [
    "# Forward Kinematics"
   ]
  },
  {
   "cell_type": "code",
   "execution_count": 5,
   "metadata": {},
   "outputs": [],
   "source": [
    "# CasADi MX symbol for transformation matrix of the forward kinematics:\n",
    "T_fk_sym = fk_dict[\"T_fk\"]\n",
    "# CasADi MX symbol for dual_quaternion of the forward kinematics:\n",
    "Q_fk_sym = fk_dict[\"dual_quaternion_fk\"]"
   ]
  },
  {
   "cell_type": "code",
   "execution_count": 13,
   "metadata": {},
   "outputs": [
    {
     "data": {
      "text/plain": [
       "Function(T_fk:(i0[6])->(o0[4x4]) MXFunction)"
      ]
     },
     "execution_count": 13,
     "metadata": {},
     "output_type": "execute_result"
    }
   ],
   "source": [
    "# Transformation matrix function:\n",
    "T_fk = cs.Function(\"T_fk\",[q], [T_fk_sym], [\"nasdnasnd\"], [\"T_fk\"])\n",
    "# Dual quaternion function:\n",
    "Q_fk = cs.Function(\"Q_fk\",[q], [Q_fk_sym], [\"q\"], [\"Q_fk\"])\n",
    "T_fk"
   ]
  },
  {
   "cell_type": "code",
   "execution_count": 7,
   "metadata": {},
   "outputs": [
    {
     "name": "stdout",
     "output_type": "stream",
     "text": [
      "Transformation matrix:\n",
      "[[ 4.89658886e-12  0.00000000e+00  1.00000000e+00  1.76800000e+00]\n",
      " [ 0.00000000e+00  1.00000000e+00  0.00000000e+00  0.00000000e+00]\n",
      " [-1.00000000e+00  0.00000000e+00  4.89658886e-12  6.40000000e-01]\n",
      " [ 0.00000000e+00  0.00000000e+00  0.00000000e+00  1.00000000e+00]]\n",
      "Position:\n",
      "x: 1.768  y: 0  z: 0.64\n",
      "Distance from origin:\n",
      "1.8802723207025094 m\n"
     ]
    }
   ],
   "source": [
    "T0 = T_fk([0., 0., 0., 0., 0., 0.])\n",
    "p0 = T0[:3, 3]\n",
    "R0 = T0[:3, :3]\n",
    "print \"Transformation matrix:\\n\",cs2np(T0)\n",
    "print \"Position:\\n\", \"x:\",p0[0],\" y:\", p0[1], \" z:\", p0[2]\n",
    "print \"Distance from origin:\\n\", cs.np.linalg.norm(p0), \"m\""
   ]
  },
  {
   "cell_type": "markdown",
   "metadata": {},
   "source": [
    "\n",
    "# Jacobians\n"
   ]
  },
  {
   "cell_type": "code",
   "execution_count": 15,
   "metadata": {},
   "outputs": [],
   "source": [
    "# Create symbols\n",
    "fk_position_jacobian_sym = cs.jacobian(T_fk_sym[:3,3], q)\n",
    "fk_rotation_jacobian_sym = cs.jacobian(T_fk_sym[:3,:3], q)\n",
    "fk_dual_quaternion_jacobian_sym = cs.jacobian(Q_fk_sym, q)"
   ]
  },
  {
   "cell_type": "code",
   "execution_count": 16,
   "metadata": {},
   "outputs": [],
   "source": [
    "# Create functions\n",
    "fk_position_jacobian = cs.Function(\"jac_fk_pos\", [q], [fk_position_jacobian_sym], [\"q\"], [\"jac_fk_pos\"])\n",
    "fk_rotation_jacobian = cs.Function(\"jac_fk_rot\", [q], [fk_rotation_jacobian_sym], [\"q\"], [\"jac_fk_rot\"])\n",
    "fk_dual_quaternion_jacobian = cs.Function(\"jac_fk_Q\", [q], [fk_dual_quaternion_jacobian_sym], [\"q\"], [\"jac_fk_Q\"])"
   ]
  },
  {
   "cell_type": "code",
   "execution_count": 17,
   "metadata": {},
   "outputs": [
    {
     "name": "stdout",
     "output_type": "stream",
     "text": [
      "Positional jacobian at  [0.0, 0.0, 0.0, 0.0, 0.0, 0.0] is:\n",
      "[[ 0.    -0.035 -0.035  0.     0.     0.   ]\n",
      " [-1.768  0.     0.     0.     0.     0.   ]\n",
      " [ 0.    -1.508 -0.828  0.    -0.158  0.   ]]\n"
     ]
    }
   ],
   "source": [
    "joint_vals = [0., 0., 0., 0., 0., 0.,]\n",
    "pos_jac = fk_position_jacobian(joint_vals)\n",
    "print \"Positional jacobian at \", joint_vals, \"is:\\n\", cs2np(pos_jac)"
   ]
  },
  {
   "cell_type": "code",
   "execution_count": 18,
   "metadata": {},
   "outputs": [
    {
     "name": "stdout",
     "output_type": "stream",
     "text": [
      "Comparative measure of how readily each direction is controlled:\n",
      "Norm of jac in x direction: 0.04949747468305833\n",
      "Norm of jac in y direction: 1.768\n",
      "Norm of jac in z direction: 1.727602963646451\n",
      "\n",
      "Comparative measure of how readily each joint affects positions:\n",
      "gantry_joint_a1: 1.768\n",
      "gantry_joint_a2: 1.5084061124246348\n",
      "gantry_joint_a3: 0.8287394041554921\n",
      "gantry_joint_a4: 0.0\n",
      "gantry_joint_a5: 0.158\n",
      "gantry_joint_a6: 0.0\n"
     ]
    }
   ],
   "source": [
    "print \"Comparative measure of how readily each direction is controlled:\"\n",
    "print \"Norm of jac in x direction:\", cs.np.linalg.norm(cs2np(pos_jac[0,:]))\n",
    "print \"Norm of jac in y direction:\", cs.np.linalg.norm(cs2np(pos_jac[1,:]))\n",
    "print \"Norm of jac in z direction:\", cs.np.linalg.norm(cs2np(pos_jac[2,:]))\n",
    "print \"\\nComparative measure of how readily each joint affects positions:\"\n",
    "for i in xrange(len(joint_names)):\n",
    "    print joint_names[i]+\":\",cs.np.linalg.norm(cs2np(pos_jac[:,i]))"
   ]
  },
  {
   "cell_type": "code",
   "execution_count": 19,
   "metadata": {},
   "outputs": [
    {
     "name": "stdout",
     "output_type": "stream",
     "text": [
      "[[ 0.00000000e+00 -1.00000000e+00 -1.00000000e+00  0.00000000e+00\n",
      "  -1.00000000e+00  0.00000000e+00]\n",
      " [-4.89658886e-12  0.00000000e+00  0.00000000e+00 -1.00000000e+00\n",
      "   0.00000000e+00 -1.00000000e+00]\n",
      " [ 0.00000000e+00 -4.89658886e-12 -4.89658886e-12  0.00000000e+00\n",
      "  -4.89658886e-12  0.00000000e+00]\n",
      " [ 1.00000000e+00  0.00000000e+00  0.00000000e+00  0.00000000e+00\n",
      "   0.00000000e+00  0.00000000e+00]\n",
      " [ 0.00000000e+00  0.00000000e+00  0.00000000e+00  0.00000000e+00\n",
      "   0.00000000e+00  0.00000000e+00]\n",
      " [ 0.00000000e+00  0.00000000e+00  0.00000000e+00 -1.00000000e+00\n",
      "   0.00000000e+00 -1.00000000e+00]\n",
      " [ 0.00000000e+00  4.89658886e-12  4.89658886e-12  0.00000000e+00\n",
      "   4.89658886e-12  0.00000000e+00]\n",
      " [-1.00000000e+00  0.00000000e+00  0.00000000e+00  4.89658886e-12\n",
      "   0.00000000e+00  4.89658886e-12]\n",
      " [ 0.00000000e+00 -1.00000000e+00 -1.00000000e+00  0.00000000e+00\n",
      "  -1.00000000e+00  0.00000000e+00]]\n"
     ]
    }
   ],
   "source": [
    "joint_vals = [0., 0., 0., 0., 0., 0.,]\n",
    "rot_jac = fk_rotation_jacobian(joint_vals)\n",
    "print cs2np(rot_jac)"
   ]
  },
  {
   "cell_type": "code",
   "execution_count": 21,
   "metadata": {},
   "outputs": [
    {
     "name": "stdout",
     "output_type": "stream",
     "text": [
      " [[ 0.35355339  0.          0.         -0.35355339  0.         -0.35355339]\n",
      " [ 0.          0.35355339  0.35355339  0.          0.35355339  0.        ]\n",
      " [-0.35355339  0.          0.         -0.35355339  0.         -0.35355339]\n",
      " [ 0.         -0.35355339 -0.35355339  0.         -0.35355339  0.        ]\n",
      " [ 0.          0.09510586 -0.14531044  0.         -0.36981685  0.        ]\n",
      " [-0.19940411  0.          0.          0.19940411  0.          0.19940411]\n",
      " [ 0.         -0.34612877 -0.10571246  0.          0.14354268  0.        ]\n",
      " [ 0.42567828  0.          0.          0.42567828  0.          0.42567828]]\n",
      "[ 0.35355339  0.         -0.35355339  0.        ]\n"
     ]
    }
   ],
   "source": [
    "joint_vals = [0., 0., 0., 0., 0., 0.,]\n",
    "Q_jac = fk_dual_quaternion_jacobian(joint_vals)\n",
    "print cs2np(Q_jac)\n",
    "print cs2np(Q_jac)[:4,0]"
   ]
  },
  {
   "cell_type": "code",
   "execution_count": 22,
   "metadata": {},
   "outputs": [
    {
     "name": "stdout",
     "output_type": "stream",
     "text": [
      "Comparative measure of joint effect on rotation\n",
      "gantry_joint_a1: 0.5\n",
      "gantry_joint_a2: 0.5\n",
      "gantry_joint_a3: 0.5\n",
      "gantry_joint_a4: 0.5\n",
      "gantry_joint_a5: 0.5\n",
      "gantry_joint_a6: 0.5\n"
     ]
    }
   ],
   "source": [
    "print \"Comparative measure of joint effect on rotation\"\n",
    "for i in xrange(len(joint_names)):\n",
    "    print joint_names[i]+\":\",cs.np.linalg.norm(cs2np(Q_jac)[:4,i]) # First four elements = rotation quaternion"
   ]
  },
  {
   "cell_type": "code",
   "execution_count": null,
   "metadata": {},
   "outputs": [],
   "source": []
  }
 ],
 "metadata": {
  "kernelspec": {
   "display_name": "Python 2",
   "language": "python",
   "name": "python2"
  },
  "language_info": {
   "codemirror_mode": {
    "name": "ipython",
    "version": 2
   },
   "file_extension": ".py",
   "mimetype": "text/x-python",
   "name": "python",
   "nbconvert_exporter": "python",
   "pygments_lexer": "ipython2",
   "version": "2.7.12"
  }
 },
 "nbformat": 4,
 "nbformat_minor": 2
}
