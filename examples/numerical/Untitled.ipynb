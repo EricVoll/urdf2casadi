{
 "cells": [
  {
   "cell_type": "code",
   "execution_count": 1,
   "metadata": {},
   "outputs": [
    {
     "name": "stdout",
     "output_type": "stream",
     "text": [
      "The root link base_link has an inertia specified in the URDF, but KDL does not support a root link with an inertia.  As a workaround, you can add an extra dummy link to your URDF.\n",
      "\n",
      "Sum of errors KDL vs. RBDL for 1000 iterations:\n",
      "2.243427665860054e-12\n",
      "\n",
      "Sum of errors KDL vs. pybullet for 1000 iterations:\n",
      "0.0014698499373702045\n",
      "\n",
      "Sum of errors RBDL vs. pybullet for 1000 iterations:\n",
      "0.0014698499360258355\n"
     ]
    }
   ],
   "source": [
    "\n",
    "import rbdl\n",
    "import numpy as np\n",
    "import PyKDL as kdl\n",
    "import kdl_parser_py.urdf as kdlurdf\n",
    "import pybullet as pb\n",
    "\n",
    "root = 'base_link'\n",
    "tip = 'tilt_link'\n",
    "path_to_urdf = '/home/lmjohann/urdf2casadi/examples/urdf/pantilt.urdf'\n",
    "ok, tree = kdlurdf.treeFromFile(path_to_urdf)\n",
    "kdlmodel = tree.getChain(root,tip)\n",
    "rbdlmodel = rbdl.loadModel(path_to_urdf)\n",
    "\n",
    "\n",
    "sim = pb.connect(pb.DIRECT)\n",
    "pbmodel = pb.loadURDF(path_to_urdf, useFixedBase=True, flags = pb.URDF_USE_INERTIA_FROM_FILE)\n",
    "pb.setGravity(0, 0, -9.81)\n",
    "q_max = [3.14, 4.64]\n",
    "q_min = [-3.13, -4.64]\n",
    "n_joints = 2\n",
    "\n",
    "q_kdl = kdl.JntArray(n_joints)\n",
    "tau_kdl = kdl.JntArray(n_joints)\n",
    "gravity_kdl = kdl.Vector()\n",
    "gravity_kdl[2] = -9.81\n",
    "\n",
    "\n",
    "q_pb = [None]*n_joints\n",
    "zeros_pb = [None]*n_joints\n",
    "\n",
    "#rbdl\n",
    "q_rbdl = np.zeros(n_joints)\n",
    "tau_rbdl = np.zeros(n_joints)\n",
    "zeros_rbdl = np.zeros(n_joints)\n",
    "\n",
    "\n",
    "\n",
    "error_kdl_rbdl = np.zeros(n_joints)\n",
    "error_pb_rbdl = np.zeros(n_joints)\n",
    "error_pb_kdl = np.zeros(n_joints)\n",
    "\n",
    "def list2np(asd):\n",
    "    return np.asarray(asd)\n",
    "\n",
    "n_itr = 1000\n",
    "for i in range(n_itr):\n",
    "    for j in range(n_joints):\n",
    "        q_pb[j] = (q_max[j] - q_min[j])*np.random.rand()-(q_max[j] - q_min[j])/2\n",
    "        q_kdl[j] = q_pb[j]\n",
    "        q_rbdl[j] = q_pb[j]\n",
    "        zeros_pb[j] = 0.\n",
    "\n",
    "    rbdl.InverseDynamics(rbdlmodel, q_rbdl, zeros_rbdl, zeros_rbdl, tau_rbdl)\n",
    "    kdl.ChainDynParam(kdlmodel, gravity_kdl).JntToGravity(q_kdl, tau_kdl)\n",
    "    tau_pb = pb.calculateInverseDynamics(pbmodel, q_pb, zeros_pb, zeros_pb)\n",
    "\n",
    "\n",
    "    for tau_idx in range(n_joints):\n",
    "        error_kdl_rbdl[tau_idx] += np.absolute((list2np(tau_kdl[tau_idx]) - tau_rbdl[tau_idx]))\n",
    "        error_pb_rbdl[tau_idx] += np.absolute((list2np(tau_pb[tau_idx]) - (tau_rbdl[tau_idx])))\n",
    "        error_pb_kdl[tau_idx] += np.absolute((list2np(tau_kdl[tau_idx]) - list2np(tau_pb[tau_idx])))\n",
    "\n",
    "\n",
    "sum_error_kdl_rbdl = 0\n",
    "sum_error_pb_rbdl = 0\n",
    "sum_error_pb_kdl = 0\n",
    "\n",
    "for err in range(n_joints):\n",
    "    sum_error_kdl_rbdl += error_kdl_rbdl[err]\n",
    "    sum_error_pb_kdl += error_pb_kdl[err]\n",
    "    sum_error_pb_rbdl += error_pb_rbdl[err]\n",
    "\n",
    "print \"\\nSum of errors KDL vs. RBDL for\", n_itr, \"iterations:\\n\", sum_error_kdl_rbdl\n",
    "print \"\\nSum of errors KDL vs. pybullet for\", n_itr, \"iterations:\\n\", sum_error_pb_kdl\n",
    "print \"\\nSum of errors RBDL vs. pybullet for\", n_itr, \"iterations:\\n\",sum_error_pb_rbdl\n"
   ]
  },
  {
   "cell_type": "code",
   "execution_count": 2,
   "metadata": {},
   "outputs": [],
   "source": [
    "#print \"mass:\", pb.getDynamicsInfo(pbmodel, 0)[0]\n",
    "#print \"friction:\", pb.getDynamicsInfo(pbmodel, 0)[1]\n",
    "#print \"inertial vectior:\", pb.getDynamicsInfo(pbmodel, 0)[2]\n",
    "#print \"local inertial pos:\", pb.getDynamicsInfo(pbmodel, 0)[3]\n",
    "#print \"local inertial orn:\", pb.getDynamicsInfo(pbmodel, 0)[4]\n",
    "#print \"restitution:\", pb.getDynamicsInfo(pbmodel, 0)[5]\n",
    "#print \"rolling friction:\", pb.getDynamicsInfo(pbmodel, 0)[6]\n",
    "#print \"spinning friction:\", pb.getDynamicsInfo(pbmodel, 0)[7]\n",
    "#print \"damping:\", pb.getDynamicsInfo(pbmodel, 0)[8]\n",
    "#print \"stifness:\", pb.getDynamicsInfo(pbmodel, 0)[9]"
   ]
  },
  {
   "cell_type": "code",
   "execution_count": 3,
   "metadata": {},
   "outputs": [],
   "source": [
    "#pb.changeDynamics(pbmodel, 0, contactStiffness = -1, contactDamping = -1 )\n",
    "#pb.changeDynamics(pbmodel, 1, contactStiffness = -1, contactDamping = -1 )\n"
   ]
  },
  {
   "cell_type": "code",
   "execution_count": 4,
   "metadata": {},
   "outputs": [
    {
     "ename": "NameError",
     "evalue": "name 'q' is not defined",
     "output_type": "error",
     "traceback": [
      "\u001b[0;31m---------------------------------------------------------------------------\u001b[0m",
      "\u001b[0;31mNameError\u001b[0m                                 Traceback (most recent call last)",
      "\u001b[0;32m<ipython-input-4-1b10b40e43fb>\u001b[0m in \u001b[0;36m<module>\u001b[0;34m()\u001b[0m\n\u001b[1;32m      2\u001b[0m \u001b[0;32mfor\u001b[0m \u001b[0mi\u001b[0m \u001b[0;32min\u001b[0m \u001b[0mrange\u001b[0m\u001b[0;34m(\u001b[0m\u001b[0mn_itr\u001b[0m\u001b[0;34m)\u001b[0m\u001b[0;34m:\u001b[0m\u001b[0;34m\u001b[0m\u001b[0m\n\u001b[1;32m      3\u001b[0m     \u001b[0;32mfor\u001b[0m \u001b[0mj\u001b[0m \u001b[0;32min\u001b[0m \u001b[0mrange\u001b[0m\u001b[0;34m(\u001b[0m\u001b[0mn_joints\u001b[0m\u001b[0;34m)\u001b[0m\u001b[0;34m:\u001b[0m\u001b[0;34m\u001b[0m\u001b[0m\n\u001b[0;32m----> 4\u001b[0;31m         \u001b[0mq\u001b[0m\u001b[0;34m[\u001b[0m\u001b[0mj\u001b[0m\u001b[0;34m]\u001b[0m \u001b[0;34m=\u001b[0m \u001b[0;34m(\u001b[0m\u001b[0mq_max\u001b[0m\u001b[0;34m[\u001b[0m\u001b[0mj\u001b[0m\u001b[0;34m]\u001b[0m \u001b[0;34m-\u001b[0m \u001b[0mq_min\u001b[0m\u001b[0;34m[\u001b[0m\u001b[0mj\u001b[0m\u001b[0;34m]\u001b[0m\u001b[0;34m)\u001b[0m\u001b[0;34m*\u001b[0m\u001b[0mnp\u001b[0m\u001b[0;34m.\u001b[0m\u001b[0mrandom\u001b[0m\u001b[0;34m.\u001b[0m\u001b[0mrand\u001b[0m\u001b[0;34m(\u001b[0m\u001b[0;34m)\u001b[0m\u001b[0;34m-\u001b[0m\u001b[0;34m(\u001b[0m\u001b[0mq_max\u001b[0m\u001b[0;34m[\u001b[0m\u001b[0mj\u001b[0m\u001b[0;34m]\u001b[0m \u001b[0;34m-\u001b[0m \u001b[0mq_min\u001b[0m\u001b[0;34m[\u001b[0m\u001b[0mj\u001b[0m\u001b[0;34m]\u001b[0m\u001b[0;34m)\u001b[0m\u001b[0;34m/\u001b[0m\u001b[0;36m2\u001b[0m\u001b[0;34m\u001b[0m\u001b[0m\n\u001b[0m\u001b[1;32m      5\u001b[0m         \u001b[0mq_kdl\u001b[0m\u001b[0;34m[\u001b[0m\u001b[0mj\u001b[0m\u001b[0;34m]\u001b[0m \u001b[0;34m=\u001b[0m \u001b[0mq\u001b[0m\u001b[0;34m[\u001b[0m\u001b[0mj\u001b[0m\u001b[0;34m]\u001b[0m\u001b[0;34m\u001b[0m\u001b[0m\n\u001b[1;32m      6\u001b[0m         \u001b[0mq_np\u001b[0m\u001b[0;34m[\u001b[0m\u001b[0mj\u001b[0m\u001b[0;34m]\u001b[0m \u001b[0;34m=\u001b[0m \u001b[0mq\u001b[0m\u001b[0;34m[\u001b[0m\u001b[0mj\u001b[0m\u001b[0;34m]\u001b[0m\u001b[0;34m\u001b[0m\u001b[0m\n",
      "\u001b[0;31mNameError\u001b[0m: name 'q' is not defined"
     ]
    }
   ],
   "source": [
    "n_itr = 1000\n",
    "for i in range(n_itr):\n",
    "    for j in range(n_joints):\n",
    "        q[j] = (q_max[j] - q_min[j])*np.random.rand()-(q_max[j] - q_min[j])/2\n",
    "        q_kdl[j] = q[j]\n",
    "        q_np[j] = q[j]\n",
    "        zeros_pb[j] = 0.\n",
    "\n",
    "    rbdl.InverseDynamics(urmodel, q_np, zeros_rbdl, zeros_rbdl, g_rbdl)\n",
    "    kdl.ChainDynParam(ur_chain, gravity_kdl).JntToGravity(q_kdl, g_kdl)\n",
    "    g_pb = pb.calculateInverseDynamics(pbmodel, q, zeros_pb, zeros_pb)\n",
    "    g_u2c = g_sym(q)\n",
    "    #print g_u2c\n",
    "\n",
    "    for tau_idx in range(n_joints):\n",
    "        g_error_kdl_rbdl[tau_idx] += np.absolute((list2np(g_kdl[tau_idx]) - g_rbdl[tau_idx]))\n",
    "        g_error_kdl_u2c[tau_idx] += np.absolute((list2np(g_kdl[tau_idx]) - u2c2np(g_u2c[tau_idx])))\n",
    "        g_error_rbdl_u2c[tau_idx] += np.absolute((u2c2np(g_u2c[tau_idx]) - g_rbdl[tau_idx]))\n",
    "        g_error_pb_u2c[tau_idx] += np.absolute((u2c2np(g_u2c[tau_idx]) - list2np(g_pb[tau_idx])))\n",
    "\n",
    "\n",
    "sum_error_kdl_rbdl = 0\n",
    "sum_error_kdl_u2c = 0\n",
    "sum_error_rbdl_u2c = 0\n",
    "sum_error_pb_u2c = 0\n",
    "\n",
    "for err in range(n_joints):\n",
    "    sum_error_kdl_rbdl += g_error_kdl_rbdl[err]\n",
    "    sum_error_kdl_u2c += g_error_kdl_u2c[err]\n",
    "    sum_error_rbdl_u2c += g_error_rbdl_u2c[err]\n",
    "    sum_error_pb_u2c += g_error_pb_u2c[err]\n",
    "\n",
    "print \"\\nSum of errors KDL vs. RBDL for\", n_itr, \"iterations:\\n\", sum_error_kdl_rbdl\n",
    "print \"\\nSum of errors KDL vs. U2C for\", n_itr, \"iterations:\\n\", sum_error_kdl_u2c\n",
    "print \"\\nSum of errors RBDL vs. U2C for\", n_itr, \"iterations:\\n\",sum_error_rbdl_u2c\n",
    "print \"\\nSum of errors pybullet vs. U2C for\", n_itr, \"iterations:\\n\", sum_error_pb_u2c"
   ]
  },
  {
   "cell_type": "code",
   "execution_count": null,
   "metadata": {},
   "outputs": [],
   "source": []
  }
 ],
 "metadata": {
  "kernelspec": {
   "display_name": "Python 2",
   "language": "python",
   "name": "python2"
  },
  "language_info": {
   "codemirror_mode": {
    "name": "ipython",
    "version": 2
   },
   "file_extension": ".py",
   "mimetype": "text/x-python",
   "name": "python",
   "nbconvert_exporter": "python",
   "pygments_lexer": "ipython2",
   "version": "2.7.12"
  }
 },
 "nbformat": 4,
 "nbformat_minor": 2
}
